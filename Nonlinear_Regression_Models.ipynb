{
  "nbformat": 4,
  "nbformat_minor": 0,
  "metadata": {
    "colab": {
      "provenance": [],
      "collapsed_sections": [],
      "authorship_tag": "ABX9TyO1DcS/K73Lay/7br4lRHtT",
      "include_colab_link": true
    },
    "kernelspec": {
      "name": "python3",
      "display_name": "Python 3"
    },
    "language_info": {
      "name": "python"
    }
  },
  "cells": [
    {
      "cell_type": "markdown",
      "metadata": {
        "id": "view-in-github",
        "colab_type": "text"
      },
      "source": [
        "<a href=\"https://colab.research.google.com/github/ertgrulyksk/Nonlinear_Regression_Models/blob/main/Nonlinear_Regression_Models.ipynb\" target=\"_parent\"><img src=\"https://colab.research.google.com/assets/colab-badge.svg\" alt=\"Open In Colab\"/></a>"
      ]
    },
    {
      "cell_type": "code",
      "execution_count": 54,
      "metadata": {
        "id": "WNlwK32oCo-E"
      },
      "outputs": [],
      "source": [
        "import numpy as np\n",
        "import pandas as pd\n",
        "from sklearn.model_selection import train_test_split,GridSearchCV\n",
        "from sklearn.metrics import mean_squared_error, r2_score\n",
        "import matplotlib.pyplot as plt\n",
        "from sklearn.preprocessing import scale\n",
        "from sklearn.preprocessing import StandardScaler\n",
        "from sklearn import model_selection\n",
        "from sklearn.linear_model import LinearRegression\n",
        "from sklearn.tree import DecisionTreeRegressor\n",
        "from sklearn.neighbors import KNeighborsRegressor\n",
        "from sklearn.neural_network import MLPRegressor\n",
        "from sklearn.ensemble import RandomForestRegressor\n",
        "from sklearn.ensemble import GradientBoostingRegressor\n",
        "from sklearn import neighbors\n",
        "from sklearn.svm import SVR"
      ]
    },
    {
      "cell_type": "code",
      "source": [
        "from warnings import filterwarnings\n",
        "filterwarnings(\"ignore\")"
      ],
      "metadata": {
        "id": "JangJD-rA5hu"
      },
      "execution_count": 55,
      "outputs": []
    },
    {
      "cell_type": "code",
      "source": [
        "df = pd.read_csv(\"Hitters.csv\")\n",
        "df = df.dropna()\n",
        "dms = pd.get_dummies(df[[\"League\",\"Division\",\"NewLeague\"]])\n",
        "y = df[\"Salary\"]\n",
        "X_ = df.drop([\"Salary\",\"League\",\"Division\",\"NewLeague\"], axis = 1).astype(\"float64\")\n",
        "X = pd.concat([X_, dms[[\"League_N\",\"Division_W\",\"NewLeague_N\"]]], axis = 1)\n",
        "X_train, X_test, y_train, y_test = train_test_split(X, y, test_size = 0.25, random_state = 42)"
      ],
      "metadata": {
        "id": "63qVw2fFBC2a"
      },
      "execution_count": 56,
      "outputs": []
    },
    {
      "cell_type": "code",
      "source": [
        "X_train.head()"
      ],
      "metadata": {
        "colab": {
          "base_uri": "https://localhost:8080/",
          "height": 270
        },
        "id": "64XfrqHWB3bG",
        "outputId": "30399e09-c4c9-4594-8ded-ffa2d74a0895"
      },
      "execution_count": 57,
      "outputs": [
        {
          "output_type": "execute_result",
          "data": {
            "text/plain": [
              "     AtBat   Hits  HmRun  Runs   RBI  Walks  Years  CAtBat   CHits  CHmRun  \\\n",
              "183  328.0   91.0   12.0  51.0  43.0   33.0    2.0   342.0    94.0    12.0   \n",
              "229  514.0  144.0    0.0  67.0  54.0   79.0    9.0  4739.0  1169.0    13.0   \n",
              "286  593.0  152.0   23.0  69.0  75.0   53.0    6.0  2765.0   686.0   133.0   \n",
              "102  233.0   49.0    2.0  41.0  23.0   18.0    8.0  1350.0   336.0     7.0   \n",
              "153  341.0   95.0    6.0  48.0  42.0   20.0   10.0  2964.0   808.0    81.0   \n",
              "\n",
              "     CRuns   CRBI  CWalks  PutOuts  Assists  Errors  League_N  Division_W  \\\n",
              "183   51.0   44.0    33.0    145.0     59.0     8.0         1           0   \n",
              "229  583.0  374.0   528.0    229.0    453.0    15.0         1           0   \n",
              "286  369.0  384.0   321.0    315.0     10.0     6.0         0           1   \n",
              "102  166.0  122.0   106.0    102.0    132.0    10.0         0           0   \n",
              "153  379.0  428.0   221.0    158.0      4.0     5.0         1           1   \n",
              "\n",
              "     NewLeague_N  \n",
              "183            1  \n",
              "229            1  \n",
              "286            0  \n",
              "102            0  \n",
              "153            1  "
            ],
            "text/html": [
              "\n",
              "  <div id=\"df-ce6a43e9-4dc4-4bd6-a89f-cc54d3e10100\">\n",
              "    <div class=\"colab-df-container\">\n",
              "      <div>\n",
              "<style scoped>\n",
              "    .dataframe tbody tr th:only-of-type {\n",
              "        vertical-align: middle;\n",
              "    }\n",
              "\n",
              "    .dataframe tbody tr th {\n",
              "        vertical-align: top;\n",
              "    }\n",
              "\n",
              "    .dataframe thead th {\n",
              "        text-align: right;\n",
              "    }\n",
              "</style>\n",
              "<table border=\"1\" class=\"dataframe\">\n",
              "  <thead>\n",
              "    <tr style=\"text-align: right;\">\n",
              "      <th></th>\n",
              "      <th>AtBat</th>\n",
              "      <th>Hits</th>\n",
              "      <th>HmRun</th>\n",
              "      <th>Runs</th>\n",
              "      <th>RBI</th>\n",
              "      <th>Walks</th>\n",
              "      <th>Years</th>\n",
              "      <th>CAtBat</th>\n",
              "      <th>CHits</th>\n",
              "      <th>CHmRun</th>\n",
              "      <th>CRuns</th>\n",
              "      <th>CRBI</th>\n",
              "      <th>CWalks</th>\n",
              "      <th>PutOuts</th>\n",
              "      <th>Assists</th>\n",
              "      <th>Errors</th>\n",
              "      <th>League_N</th>\n",
              "      <th>Division_W</th>\n",
              "      <th>NewLeague_N</th>\n",
              "    </tr>\n",
              "  </thead>\n",
              "  <tbody>\n",
              "    <tr>\n",
              "      <th>183</th>\n",
              "      <td>328.0</td>\n",
              "      <td>91.0</td>\n",
              "      <td>12.0</td>\n",
              "      <td>51.0</td>\n",
              "      <td>43.0</td>\n",
              "      <td>33.0</td>\n",
              "      <td>2.0</td>\n",
              "      <td>342.0</td>\n",
              "      <td>94.0</td>\n",
              "      <td>12.0</td>\n",
              "      <td>51.0</td>\n",
              "      <td>44.0</td>\n",
              "      <td>33.0</td>\n",
              "      <td>145.0</td>\n",
              "      <td>59.0</td>\n",
              "      <td>8.0</td>\n",
              "      <td>1</td>\n",
              "      <td>0</td>\n",
              "      <td>1</td>\n",
              "    </tr>\n",
              "    <tr>\n",
              "      <th>229</th>\n",
              "      <td>514.0</td>\n",
              "      <td>144.0</td>\n",
              "      <td>0.0</td>\n",
              "      <td>67.0</td>\n",
              "      <td>54.0</td>\n",
              "      <td>79.0</td>\n",
              "      <td>9.0</td>\n",
              "      <td>4739.0</td>\n",
              "      <td>1169.0</td>\n",
              "      <td>13.0</td>\n",
              "      <td>583.0</td>\n",
              "      <td>374.0</td>\n",
              "      <td>528.0</td>\n",
              "      <td>229.0</td>\n",
              "      <td>453.0</td>\n",
              "      <td>15.0</td>\n",
              "      <td>1</td>\n",
              "      <td>0</td>\n",
              "      <td>1</td>\n",
              "    </tr>\n",
              "    <tr>\n",
              "      <th>286</th>\n",
              "      <td>593.0</td>\n",
              "      <td>152.0</td>\n",
              "      <td>23.0</td>\n",
              "      <td>69.0</td>\n",
              "      <td>75.0</td>\n",
              "      <td>53.0</td>\n",
              "      <td>6.0</td>\n",
              "      <td>2765.0</td>\n",
              "      <td>686.0</td>\n",
              "      <td>133.0</td>\n",
              "      <td>369.0</td>\n",
              "      <td>384.0</td>\n",
              "      <td>321.0</td>\n",
              "      <td>315.0</td>\n",
              "      <td>10.0</td>\n",
              "      <td>6.0</td>\n",
              "      <td>0</td>\n",
              "      <td>1</td>\n",
              "      <td>0</td>\n",
              "    </tr>\n",
              "    <tr>\n",
              "      <th>102</th>\n",
              "      <td>233.0</td>\n",
              "      <td>49.0</td>\n",
              "      <td>2.0</td>\n",
              "      <td>41.0</td>\n",
              "      <td>23.0</td>\n",
              "      <td>18.0</td>\n",
              "      <td>8.0</td>\n",
              "      <td>1350.0</td>\n",
              "      <td>336.0</td>\n",
              "      <td>7.0</td>\n",
              "      <td>166.0</td>\n",
              "      <td>122.0</td>\n",
              "      <td>106.0</td>\n",
              "      <td>102.0</td>\n",
              "      <td>132.0</td>\n",
              "      <td>10.0</td>\n",
              "      <td>0</td>\n",
              "      <td>0</td>\n",
              "      <td>0</td>\n",
              "    </tr>\n",
              "    <tr>\n",
              "      <th>153</th>\n",
              "      <td>341.0</td>\n",
              "      <td>95.0</td>\n",
              "      <td>6.0</td>\n",
              "      <td>48.0</td>\n",
              "      <td>42.0</td>\n",
              "      <td>20.0</td>\n",
              "      <td>10.0</td>\n",
              "      <td>2964.0</td>\n",
              "      <td>808.0</td>\n",
              "      <td>81.0</td>\n",
              "      <td>379.0</td>\n",
              "      <td>428.0</td>\n",
              "      <td>221.0</td>\n",
              "      <td>158.0</td>\n",
              "      <td>4.0</td>\n",
              "      <td>5.0</td>\n",
              "      <td>1</td>\n",
              "      <td>1</td>\n",
              "      <td>1</td>\n",
              "    </tr>\n",
              "  </tbody>\n",
              "</table>\n",
              "</div>\n",
              "      <button class=\"colab-df-convert\" onclick=\"convertToInteractive('df-ce6a43e9-4dc4-4bd6-a89f-cc54d3e10100')\"\n",
              "              title=\"Convert this dataframe to an interactive table.\"\n",
              "              style=\"display:none;\">\n",
              "        \n",
              "  <svg xmlns=\"http://www.w3.org/2000/svg\" height=\"24px\"viewBox=\"0 0 24 24\"\n",
              "       width=\"24px\">\n",
              "    <path d=\"M0 0h24v24H0V0z\" fill=\"none\"/>\n",
              "    <path d=\"M18.56 5.44l.94 2.06.94-2.06 2.06-.94-2.06-.94-.94-2.06-.94 2.06-2.06.94zm-11 1L8.5 8.5l.94-2.06 2.06-.94-2.06-.94L8.5 2.5l-.94 2.06-2.06.94zm10 10l.94 2.06.94-2.06 2.06-.94-2.06-.94-.94-2.06-.94 2.06-2.06.94z\"/><path d=\"M17.41 7.96l-1.37-1.37c-.4-.4-.92-.59-1.43-.59-.52 0-1.04.2-1.43.59L10.3 9.45l-7.72 7.72c-.78.78-.78 2.05 0 2.83L4 21.41c.39.39.9.59 1.41.59.51 0 1.02-.2 1.41-.59l7.78-7.78 2.81-2.81c.8-.78.8-2.07 0-2.86zM5.41 20L4 18.59l7.72-7.72 1.47 1.35L5.41 20z\"/>\n",
              "  </svg>\n",
              "      </button>\n",
              "      \n",
              "  <style>\n",
              "    .colab-df-container {\n",
              "      display:flex;\n",
              "      flex-wrap:wrap;\n",
              "      gap: 12px;\n",
              "    }\n",
              "\n",
              "    .colab-df-convert {\n",
              "      background-color: #E8F0FE;\n",
              "      border: none;\n",
              "      border-radius: 50%;\n",
              "      cursor: pointer;\n",
              "      display: none;\n",
              "      fill: #1967D2;\n",
              "      height: 32px;\n",
              "      padding: 0 0 0 0;\n",
              "      width: 32px;\n",
              "    }\n",
              "\n",
              "    .colab-df-convert:hover {\n",
              "      background-color: #E2EBFA;\n",
              "      box-shadow: 0px 1px 2px rgba(60, 64, 67, 0.3), 0px 1px 3px 1px rgba(60, 64, 67, 0.15);\n",
              "      fill: #174EA6;\n",
              "    }\n",
              "\n",
              "    [theme=dark] .colab-df-convert {\n",
              "      background-color: #3B4455;\n",
              "      fill: #D2E3FC;\n",
              "    }\n",
              "\n",
              "    [theme=dark] .colab-df-convert:hover {\n",
              "      background-color: #434B5C;\n",
              "      box-shadow: 0px 1px 3px 1px rgba(0, 0, 0, 0.15);\n",
              "      filter: drop-shadow(0px 1px 2px rgba(0, 0, 0, 0.3));\n",
              "      fill: #FFFFFF;\n",
              "    }\n",
              "  </style>\n",
              "\n",
              "      <script>\n",
              "        const buttonEl =\n",
              "          document.querySelector('#df-ce6a43e9-4dc4-4bd6-a89f-cc54d3e10100 button.colab-df-convert');\n",
              "        buttonEl.style.display =\n",
              "          google.colab.kernel.accessAllowed ? 'block' : 'none';\n",
              "\n",
              "        async function convertToInteractive(key) {\n",
              "          const element = document.querySelector('#df-ce6a43e9-4dc4-4bd6-a89f-cc54d3e10100');\n",
              "          const dataTable =\n",
              "            await google.colab.kernel.invokeFunction('convertToInteractive',\n",
              "                                                     [key], {});\n",
              "          if (!dataTable) return;\n",
              "\n",
              "          const docLinkHtml = 'Like what you see? Visit the ' +\n",
              "            '<a target=\"_blank\" href=https://colab.research.google.com/notebooks/data_table.ipynb>data table notebook</a>'\n",
              "            + ' to learn more about interactive tables.';\n",
              "          element.innerHTML = '';\n",
              "          dataTable['output_type'] = 'display_data';\n",
              "          await google.colab.output.renderOutput(dataTable, element);\n",
              "          const docLink = document.createElement('div');\n",
              "          docLink.innerHTML = docLinkHtml;\n",
              "          element.appendChild(docLink);\n",
              "        }\n",
              "      </script>\n",
              "    </div>\n",
              "  </div>\n",
              "  "
            ]
          },
          "metadata": {},
          "execution_count": 57
        }
      ]
    },
    {
      "cell_type": "code",
      "source": [
        "knn_model = KNeighborsRegressor().fit(X_train, y_train)"
      ],
      "metadata": {
        "id": "GZf2PnKjB5Gx"
      },
      "execution_count": 58,
      "outputs": []
    },
    {
      "cell_type": "code",
      "source": [
        "knn_model"
      ],
      "metadata": {
        "colab": {
          "base_uri": "https://localhost:8080/"
        },
        "id": "e5A7x2V_CA59",
        "outputId": "d3b62847-3373-41ec-bfa8-071dba3e9613"
      },
      "execution_count": 59,
      "outputs": [
        {
          "output_type": "execute_result",
          "data": {
            "text/plain": [
              "KNeighborsRegressor()"
            ]
          },
          "metadata": {},
          "execution_count": 59
        }
      ]
    },
    {
      "cell_type": "code",
      "source": [
        "knn_model.n_neighbors"
      ],
      "metadata": {
        "colab": {
          "base_uri": "https://localhost:8080/"
        },
        "id": "1kxbq8osCBun",
        "outputId": "994249a1-c0c1-40ba-e4d9-cad9fe2cfc93"
      },
      "execution_count": 60,
      "outputs": [
        {
          "output_type": "execute_result",
          "data": {
            "text/plain": [
              "5"
            ]
          },
          "metadata": {},
          "execution_count": 60
        }
      ]
    },
    {
      "cell_type": "code",
      "source": [
        "knn_model.metric"
      ],
      "metadata": {
        "colab": {
          "base_uri": "https://localhost:8080/",
          "height": 36
        },
        "id": "9q9amuuECELx",
        "outputId": "899d6106-50a6-4e50-a0d7-1af5bdea8379"
      },
      "execution_count": 61,
      "outputs": [
        {
          "output_type": "execute_result",
          "data": {
            "text/plain": [
              "'minkowski'"
            ],
            "application/vnd.google.colaboratory.intrinsic+json": {
              "type": "string"
            }
          },
          "metadata": {},
          "execution_count": 61
        }
      ]
    },
    {
      "cell_type": "code",
      "source": [
        "dir(knn_model)"
      ],
      "metadata": {
        "colab": {
          "base_uri": "https://localhost:8080/"
        },
        "id": "C8mTgq1tCGCB",
        "outputId": "9a893da2-adb7-40f7-d82e-c27a6e220ee4"
      },
      "execution_count": 62,
      "outputs": [
        {
          "output_type": "execute_result",
          "data": {
            "text/plain": [
              "['__abstractmethods__',\n",
              " '__class__',\n",
              " '__delattr__',\n",
              " '__dict__',\n",
              " '__dir__',\n",
              " '__doc__',\n",
              " '__eq__',\n",
              " '__format__',\n",
              " '__ge__',\n",
              " '__getattribute__',\n",
              " '__getstate__',\n",
              " '__gt__',\n",
              " '__hash__',\n",
              " '__init__',\n",
              " '__init_subclass__',\n",
              " '__le__',\n",
              " '__lt__',\n",
              " '__module__',\n",
              " '__ne__',\n",
              " '__new__',\n",
              " '__reduce__',\n",
              " '__reduce_ex__',\n",
              " '__repr__',\n",
              " '__setattr__',\n",
              " '__setstate__',\n",
              " '__sizeof__',\n",
              " '__str__',\n",
              " '__subclasshook__',\n",
              " '__weakref__',\n",
              " '_abc_impl',\n",
              " '_check_algorithm_metric',\n",
              " '_check_feature_names',\n",
              " '_check_n_features',\n",
              " '_estimator_type',\n",
              " '_fit',\n",
              " '_fit_X',\n",
              " '_fit_method',\n",
              " '_get_param_names',\n",
              " '_get_tags',\n",
              " '_kneighbors_reduce_func',\n",
              " '_more_tags',\n",
              " '_pairwise',\n",
              " '_repr_html_',\n",
              " '_repr_html_inner',\n",
              " '_repr_mimebundle_',\n",
              " '_tree',\n",
              " '_validate_data',\n",
              " '_y',\n",
              " 'algorithm',\n",
              " 'effective_metric_',\n",
              " 'effective_metric_params_',\n",
              " 'feature_names_in_',\n",
              " 'fit',\n",
              " 'get_params',\n",
              " 'kneighbors',\n",
              " 'kneighbors_graph',\n",
              " 'leaf_size',\n",
              " 'metric',\n",
              " 'metric_params',\n",
              " 'n_features_in_',\n",
              " 'n_jobs',\n",
              " 'n_neighbors',\n",
              " 'n_samples_fit_',\n",
              " 'p',\n",
              " 'predict',\n",
              " 'radius',\n",
              " 'score',\n",
              " 'set_params',\n",
              " 'weights']"
            ]
          },
          "metadata": {},
          "execution_count": 62
        }
      ]
    },
    {
      "cell_type": "code",
      "source": [
        "knn_model.predict(X_test)[0:5]"
      ],
      "metadata": {
        "colab": {
          "base_uri": "https://localhost:8080/"
        },
        "id": "dLt9CMAvCHRI",
        "outputId": "0405cd5e-ef97-46ce-ab4a-6df89cc9a557"
      },
      "execution_count": 63,
      "outputs": [
        {
          "output_type": "execute_result",
          "data": {
            "text/plain": [
              "array([ 510.3334,  808.3334,  772.5   ,  125.5   , 1005.    ])"
            ]
          },
          "metadata": {},
          "execution_count": 63
        }
      ]
    },
    {
      "cell_type": "code",
      "source": [
        "y_pred = knn_model.predict(X_test)"
      ],
      "metadata": {
        "id": "eB8gOClcCNkm"
      },
      "execution_count": 64,
      "outputs": []
    },
    {
      "cell_type": "code",
      "source": [
        "np.sqrt(mean_squared_error(y_test, y_pred))"
      ],
      "metadata": {
        "colab": {
          "base_uri": "https://localhost:8080/"
        },
        "id": "QFN2skB6CRL_",
        "outputId": "ce381e4b-8bdb-495b-d9d2-c0d871b4f4f1"
      },
      "execution_count": 65,
      "outputs": [
        {
          "output_type": "execute_result",
          "data": {
            "text/plain": [
              "426.6570764525201"
            ]
          },
          "metadata": {},
          "execution_count": 65
        }
      ]
    },
    {
      "cell_type": "code",
      "source": [
        "RMSE = []\n",
        "\n",
        "for k in range(10):\n",
        "    k = k+1\n",
        "    knn_model = KNeighborsRegressor(n_neighbors = k).fit(X_train, y_train)\n",
        "    y_pred = knn_model.predict(X_test)\n",
        "    rmse = np.sqrt(mean_squared_error(y_test, y_pred))\n",
        "    RMSE.append(rmse)\n",
        "    print(\"k=\", k, \" için RMSE değeri \", rmse)"
      ],
      "metadata": {
        "colab": {
          "base_uri": "https://localhost:8080/"
        },
        "id": "Y7p9z28VCVRb",
        "outputId": "4fc28517-c5f7-4a7c-cccd-31246511c069"
      },
      "execution_count": 66,
      "outputs": [
        {
          "output_type": "stream",
          "name": "stdout",
          "text": [
            "k= 1  için RMSE değeri  455.03925390751965\n",
            "k= 2  için RMSE değeri  415.99629571490965\n",
            "k= 3  için RMSE değeri  420.6765370082348\n",
            "k= 4  için RMSE değeri  428.8564674588792\n",
            "k= 5  için RMSE değeri  426.6570764525201\n",
            "k= 6  için RMSE değeri  423.5071669008732\n",
            "k= 7  için RMSE değeri  414.9361222421057\n",
            "k= 8  için RMSE değeri  413.7094731463598\n",
            "k= 9  için RMSE değeri  417.84419990871265\n",
            "k= 10  için RMSE değeri  421.6252180741266\n"
          ]
        }
      ]
    },
    {
      "cell_type": "code",
      "source": [
        "knn_params = {\"n_neighbors\": np.arange(1,30,1)}"
      ],
      "metadata": {
        "id": "vgOqeDjSC1MI"
      },
      "execution_count": 67,
      "outputs": []
    },
    {
      "cell_type": "code",
      "source": [
        "knn = KNeighborsRegressor()"
      ],
      "metadata": {
        "id": "6DWwhOgHC-0k"
      },
      "execution_count": 68,
      "outputs": []
    },
    {
      "cell_type": "code",
      "source": [
        "knn_cv_model = GridSearchCV(knn, knn_params, cv = 10).fit(X_train, y_train)"
      ],
      "metadata": {
        "id": "GS_3OVCBDCJ-"
      },
      "execution_count": 69,
      "outputs": []
    },
    {
      "cell_type": "code",
      "source": [
        "knn_cv_model.best_params_"
      ],
      "metadata": {
        "colab": {
          "base_uri": "https://localhost:8080/"
        },
        "id": "BEK8I_5WGVfy",
        "outputId": "c8523d40-d4fe-4e5b-8ab7-b1fca1266e12"
      },
      "execution_count": 70,
      "outputs": [
        {
          "output_type": "execute_result",
          "data": {
            "text/plain": [
              "{'n_neighbors': 8}"
            ]
          },
          "metadata": {},
          "execution_count": 70
        }
      ]
    },
    {
      "cell_type": "code",
      "source": [
        "knn_tuned = KNeighborsRegressor(n_neighbors = knn_cv_model.best_params_[\"n_neighbors\"]).fit(X_train, y_train)"
      ],
      "metadata": {
        "id": "xbXBEWDSGYUT"
      },
      "execution_count": 71,
      "outputs": []
    },
    {
      "cell_type": "code",
      "source": [
        "y_pred = knn_tuned.predict(X_test)\n",
        "np.sqrt(mean_squared_error(y_test, y_pred))"
      ],
      "metadata": {
        "colab": {
          "base_uri": "https://localhost:8080/"
        },
        "id": "nXRlzRHxIWTN",
        "outputId": "83fad6b2-4623-49fa-9869-4c7f8f18b270"
      },
      "execution_count": 72,
      "outputs": [
        {
          "output_type": "execute_result",
          "data": {
            "text/plain": [
              "413.7094731463598"
            ]
          },
          "metadata": {},
          "execution_count": 72
        }
      ]
    },
    {
      "cell_type": "code",
      "source": [
        "df = pd.read_csv(\"Hitters.csv\")\n",
        "df = df.dropna()\n",
        "dms = pd.get_dummies(df[[\"League\",\"Division\",\"NewLeague\"]])\n",
        "y=df[\"Salary\"]\n",
        "X_ = df.drop([\"Salary\",\"League\",\"Division\",\"NewLeague\"],axis=1).astype(\"float64\")\n",
        "X = pd.concat([X_,dms[[\"League_N\",\"Division_W\",\"NewLeague_N\"]]],axis=1)\n",
        "X_train,X_test,y_train,y_test = train_test_split(X,y,test_size=0.25,random_state=42)"
      ],
      "metadata": {
        "id": "VKFxuj1ZIe1y"
      },
      "execution_count": 75,
      "outputs": []
    },
    {
      "cell_type": "code",
      "source": [
        "scaler = StandardScaler()"
      ],
      "metadata": {
        "id": "krpuhi-rJT8K"
      },
      "execution_count": 78,
      "outputs": []
    },
    {
      "cell_type": "code",
      "source": [
        "scaler.fit(X_train)\n",
        "X_train_scaled = scaler.transform(X_train)"
      ],
      "metadata": {
        "id": "rRZRitWUJzh_"
      },
      "execution_count": 85,
      "outputs": []
    },
    {
      "cell_type": "code",
      "source": [
        "X_test_scaled = scaler.transform(X_test)"
      ],
      "metadata": {
        "id": "XmP-5n2jJZPt"
      },
      "execution_count": 86,
      "outputs": []
    },
    {
      "cell_type": "code",
      "source": [
        "mlp_model = MLPRegressor().fit(X_train_scaled, y_train)"
      ],
      "metadata": {
        "id": "4ZdY2uMvJdAw"
      },
      "execution_count": 87,
      "outputs": []
    },
    {
      "cell_type": "code",
      "source": [
        "mlp_model"
      ],
      "metadata": {
        "colab": {
          "base_uri": "https://localhost:8080/"
        },
        "id": "6pRLO3vlKuho",
        "outputId": "6e77d7df-d6c2-4406-8d7d-807353646317"
      },
      "execution_count": 88,
      "outputs": [
        {
          "output_type": "execute_result",
          "data": {
            "text/plain": [
              "MLPRegressor()"
            ]
          },
          "metadata": {},
          "execution_count": 88
        }
      ]
    },
    {
      "cell_type": "code",
      "source": [
        "mlp_model.predict(X_test_scaled)[0:5]"
      ],
      "metadata": {
        "colab": {
          "base_uri": "https://localhost:8080/"
        },
        "id": "16RsfOpmPTQl",
        "outputId": "25266672-4e95-40f4-fd3c-6a7ef93903b2"
      },
      "execution_count": 89,
      "outputs": [
        {
          "output_type": "execute_result",
          "data": {
            "text/plain": [
              "array([18.59495616, 44.11413027, 69.87088809, 13.85257735, 16.90131657])"
            ]
          },
          "metadata": {},
          "execution_count": 89
        }
      ]
    },
    {
      "cell_type": "code",
      "source": [
        "y_pred = mlp_model.predict(X_test_scaled)"
      ],
      "metadata": {
        "id": "4W7zvCAJPXhq"
      },
      "execution_count": 90,
      "outputs": []
    },
    {
      "cell_type": "code",
      "source": [
        "np.sqrt(mean_squared_error(y_test, y_pred))"
      ],
      "metadata": {
        "colab": {
          "base_uri": "https://localhost:8080/"
        },
        "id": "bv7AQzztPbB6",
        "outputId": "7a333d1f-740b-470e-f7f7-b1a19c034234"
      },
      "execution_count": 91,
      "outputs": [
        {
          "output_type": "execute_result",
          "data": {
            "text/plain": [
              "659.7870418176494"
            ]
          },
          "metadata": {},
          "execution_count": 91
        }
      ]
    },
    {
      "cell_type": "code",
      "source": [
        "mlp_params = {\"alpha\" : [0.1,0.01,0.02,0.001,0.0001],\n",
        "              \"hidden_layer_sizes\" : [(10,20),(5,5),(100,100)]}"
      ],
      "metadata": {
        "id": "Lxlv2H5oPfqW"
      },
      "execution_count": 93,
      "outputs": []
    },
    {
      "cell_type": "code",
      "source": [
        "mlp_cv_model = GridSearchCV(mlp_model, mlp_params, cv = 5, verbose = 2, n_jobs = -1).fit(X_train, y_train)"
      ],
      "metadata": {
        "colab": {
          "base_uri": "https://localhost:8080/"
        },
        "id": "EcmS0sliPzec",
        "outputId": "799b1b50-a758-40ac-ee99-004ce0a7a8bc"
      },
      "execution_count": 94,
      "outputs": [
        {
          "output_type": "stream",
          "name": "stdout",
          "text": [
            "Fitting 5 folds for each of 15 candidates, totalling 75 fits\n"
          ]
        }
      ]
    },
    {
      "cell_type": "code",
      "source": [
        "mlp_cv_model.best_params_"
      ],
      "metadata": {
        "colab": {
          "base_uri": "https://localhost:8080/"
        },
        "id": "5Z_v1S3qQB6I",
        "outputId": "161a2039-558f-44be-ebb1-67c367a1d6c2"
      },
      "execution_count": 95,
      "outputs": [
        {
          "output_type": "execute_result",
          "data": {
            "text/plain": [
              "{'alpha': 0.02, 'hidden_layer_sizes': (100, 100)}"
            ]
          },
          "metadata": {},
          "execution_count": 95
        }
      ]
    },
    {
      "cell_type": "code",
      "source": [
        "mlp_tuned = MLPRegressor(alpha = 0.02, hidden_layer_sizes = (100,100)).fit(X_train_scaled, y_train)"
      ],
      "metadata": {
        "id": "FN8BnakOQgYB"
      },
      "execution_count": 97,
      "outputs": []
    },
    {
      "cell_type": "code",
      "source": [
        "y_pred = mlp_tuned.predict(X_test_scaled)"
      ],
      "metadata": {
        "id": "mbHt0f9JQt7X"
      },
      "execution_count": 98,
      "outputs": []
    },
    {
      "cell_type": "code",
      "source": [
        "np.sqrt(mean_squared_error(y_test, y_pred))"
      ],
      "metadata": {
        "colab": {
          "base_uri": "https://localhost:8080/"
        },
        "id": "B7oY7vThQ4A7",
        "outputId": "3893043d-70bb-4c00-92a5-57ec96d287a5"
      },
      "execution_count": 99,
      "outputs": [
        {
          "output_type": "execute_result",
          "data": {
            "text/plain": [
              "359.00365631145877"
            ]
          },
          "metadata": {},
          "execution_count": 99
        }
      ]
    },
    {
      "cell_type": "code",
      "source": [
        "df = pd.read_csv(\"Hitters.csv\")\n",
        "df = df.dropna()\n",
        "dms = pd.get_dummies(df[[\"League\",\"Division\",\"NewLeague\"]])\n",
        "y=df[\"Salary\"]\n",
        "X_ = df.drop([\"Salary\",\"League\",\"Division\",\"NewLeague\"],axis=1).astype(\"float64\")\n",
        "X = pd.concat([X_,dms[[\"League_N\",\"Division_W\",\"NewLeague_N\"]]],axis=1)\n",
        "X_train,X_test,y_train,y_test = train_test_split(X,y,test_size=0.25,random_state=42)"
      ],
      "metadata": {
        "id": "QIXv3kiwQ-E4"
      },
      "execution_count": 100,
      "outputs": []
    },
    {
      "cell_type": "code",
      "source": [
        "X_train = pd.DataFrame(X_train[\"Hits\"])\n",
        "X_test = pd.DataFrame(X_test[\"Hits\"])"
      ],
      "metadata": {
        "id": "f2HshYszRiXp"
      },
      "execution_count": 101,
      "outputs": []
    },
    {
      "cell_type": "code",
      "source": [
        "cart_model = DecisionTreeRegressor(max_leaf_nodes = 3)"
      ],
      "metadata": {
        "id": "GCWzojK6RsbA"
      },
      "execution_count": 103,
      "outputs": []
    },
    {
      "cell_type": "code",
      "source": [
        "cart_model.fit(X_train, y_train)"
      ],
      "metadata": {
        "colab": {
          "base_uri": "https://localhost:8080/"
        },
        "id": "zxB0A7LySBcR",
        "outputId": "7d1238a7-2b7b-4c3a-fb79-550c83107872"
      },
      "execution_count": 104,
      "outputs": [
        {
          "output_type": "execute_result",
          "data": {
            "text/plain": [
              "DecisionTreeRegressor(max_leaf_nodes=3)"
            ]
          },
          "metadata": {},
          "execution_count": 104
        }
      ]
    },
    {
      "cell_type": "code",
      "source": [
        "cart_model.predict(X_test)[0:5]"
      ],
      "metadata": {
        "colab": {
          "base_uri": "https://localhost:8080/"
        },
        "id": "V3-Dpuk-SHFR",
        "outputId": "c85756b4-5395-467c-b8d5-5daf6fd2bc60"
      },
      "execution_count": 105,
      "outputs": [
        {
          "output_type": "execute_result",
          "data": {
            "text/plain": [
              "array([813.0988    , 813.0988    , 813.0988    , 345.20115517,\n",
              "       345.20115517])"
            ]
          },
          "metadata": {},
          "execution_count": 105
        }
      ]
    },
    {
      "cell_type": "code",
      "source": [
        "y_pred = cart_model.predict(X_test)"
      ],
      "metadata": {
        "id": "NOu3ytiSSXkg"
      },
      "execution_count": 106,
      "outputs": []
    },
    {
      "cell_type": "code",
      "source": [
        "np.sqrt(mean_squared_error(y_test,y_pred))"
      ],
      "metadata": {
        "colab": {
          "base_uri": "https://localhost:8080/"
        },
        "id": "H6j6BFCtSbTR",
        "outputId": "d4afabda-6ebf-4277-aeeb-efb93df41aac"
      },
      "execution_count": 107,
      "outputs": [
        {
          "output_type": "execute_result",
          "data": {
            "text/plain": [
              "460.0663148428844"
            ]
          },
          "metadata": {},
          "execution_count": 107
        }
      ]
    },
    {
      "cell_type": "code",
      "source": [
        "df = pd.read_csv(\"Hitters.csv\")\n",
        "df = df.dropna()\n",
        "dms = pd.get_dummies(df[[\"League\",\"Division\",\"NewLeague\"]])\n",
        "y=df[\"Salary\"]\n",
        "X_ = df.drop([\"Salary\",\"League\",\"Division\",\"NewLeague\"],axis=1).astype(\"float64\")\n",
        "X = pd.concat([X_,dms[[\"League_N\",\"Division_W\",\"NewLeague_N\"]]],axis=1)\n",
        "X_train,X_test,y_train,y_test = train_test_split(X,y,test_size=0.25,random_state=42)"
      ],
      "metadata": {
        "id": "458g6f7CSfU4"
      },
      "execution_count": 108,
      "outputs": []
    },
    {
      "cell_type": "code",
      "source": [
        "cart_model = DecisionTreeRegressor().fit(X_train, y_train)"
      ],
      "metadata": {
        "id": "RJDT-jMJShK1"
      },
      "execution_count": 109,
      "outputs": []
    },
    {
      "cell_type": "code",
      "source": [
        "y_pred = cart_model.predict(X_test)"
      ],
      "metadata": {
        "id": "r_yvRN7NSnYs"
      },
      "execution_count": 111,
      "outputs": []
    },
    {
      "cell_type": "code",
      "source": [
        "np.sqrt(mean_squared_error(y_test, y_pred))"
      ],
      "metadata": {
        "colab": {
          "base_uri": "https://localhost:8080/"
        },
        "id": "d-ZUPY7kSrH1",
        "outputId": "d61f174c-18b7-4a00-b2d7-2cf931007985"
      },
      "execution_count": 112,
      "outputs": [
        {
          "output_type": "execute_result",
          "data": {
            "text/plain": [
              "434.13528485566815"
            ]
          },
          "metadata": {},
          "execution_count": 112
        }
      ]
    },
    {
      "cell_type": "code",
      "source": [
        "cart_model"
      ],
      "metadata": {
        "colab": {
          "base_uri": "https://localhost:8080/"
        },
        "id": "uNET59IjSxAG",
        "outputId": "f85e3df5-dd60-4c66-cf35-5b60355fdf12"
      },
      "execution_count": 113,
      "outputs": [
        {
          "output_type": "execute_result",
          "data": {
            "text/plain": [
              "DecisionTreeRegressor()"
            ]
          },
          "metadata": {},
          "execution_count": 113
        }
      ]
    },
    {
      "cell_type": "code",
      "source": [
        "cart_model = DecisionTreeRegressor(max_depth=3).fit(X_train,y_train)\n",
        "y_pred = cart_model.predict(X_test)\n",
        "np.sqrt(mean_squared_error(y_test,y_pred))"
      ],
      "metadata": {
        "colab": {
          "base_uri": "https://localhost:8080/"
        },
        "id": "E2VkKrfgSyxL",
        "outputId": "b6f129e4-43ad-4c78-abf4-a4c63363ac96"
      },
      "execution_count": 114,
      "outputs": [
        {
          "output_type": "execute_result",
          "data": {
            "text/plain": [
              "391.5530522634767"
            ]
          },
          "metadata": {},
          "execution_count": 114
        }
      ]
    },
    {
      "cell_type": "code",
      "source": [
        "cart_params = {\"max_depth\":[1,3,4,5,10,20], \"min_samples_split\":[2,10,5,30,50,100]}"
      ],
      "metadata": {
        "id": "RytidpSdS0aJ"
      },
      "execution_count": 115,
      "outputs": []
    },
    {
      "cell_type": "code",
      "source": [
        "cart_cv_model = GridSearchCV(cart_model, cart_params, cv = 10).fit(X_train, y_train)"
      ],
      "metadata": {
        "id": "Nf9f-54eS-vy"
      },
      "execution_count": 116,
      "outputs": []
    },
    {
      "cell_type": "code",
      "source": [
        "cart_cv_model.best_params_"
      ],
      "metadata": {
        "colab": {
          "base_uri": "https://localhost:8080/"
        },
        "id": "W4uQWIcsTIEX",
        "outputId": "109641e4-0a3a-472a-95bb-8c2c3306e147"
      },
      "execution_count": 117,
      "outputs": [
        {
          "output_type": "execute_result",
          "data": {
            "text/plain": [
              "{'max_depth': 4, 'min_samples_split': 50}"
            ]
          },
          "metadata": {},
          "execution_count": 117
        }
      ]
    },
    {
      "cell_type": "code",
      "source": [
        "cart_tuned = DecisionTreeRegressor(max_depth = 4, min_samples_split = 50).fit(X_train, y_train)"
      ],
      "metadata": {
        "id": "ZNFVmHn9TKbQ"
      },
      "execution_count": 118,
      "outputs": []
    },
    {
      "cell_type": "code",
      "source": [
        "y_pred = cart_tuned.predict(X_test)\n",
        "np.sqrt(mean_squared_error(y_test, y_pred))"
      ],
      "metadata": {
        "colab": {
          "base_uri": "https://localhost:8080/"
        },
        "id": "CFsUZDGhTU1f",
        "outputId": "b8d4814f-7c0b-4fad-f40e-45e703b568f1"
      },
      "execution_count": 119,
      "outputs": [
        {
          "output_type": "execute_result",
          "data": {
            "text/plain": [
              "361.0876906511434"
            ]
          },
          "metadata": {},
          "execution_count": 119
        }
      ]
    },
    {
      "cell_type": "code",
      "source": [
        "df = pd.read_csv(\"Hitters.csv\")\n",
        "df = df.dropna()\n",
        "dms = pd.get_dummies(df[[\"League\",\"Division\",\"NewLeague\"]])\n",
        "y=df[\"Salary\"]\n",
        "X_ = df.drop([\"Salary\",\"League\",\"Division\",\"NewLeague\"],axis=1).astype(\"float64\")\n",
        "X = pd.concat([X_,dms[[\"League_N\",\"Division_W\",\"NewLeague_N\"]]],axis=1)\n",
        "X_train,X_test,y_train,y_test = train_test_split(X,y,test_size=0.25,random_state=42)"
      ],
      "metadata": {
        "id": "oYk5W6YwTbrm"
      },
      "execution_count": 120,
      "outputs": []
    },
    {
      "cell_type": "code",
      "source": [
        "rf_model = RandomForestRegressor(random_state = 42).fit(X_train, y_train)"
      ],
      "metadata": {
        "id": "UirGm-SDTpZn"
      },
      "execution_count": 123,
      "outputs": []
    },
    {
      "cell_type": "code",
      "source": [
        "rf_model"
      ],
      "metadata": {
        "colab": {
          "base_uri": "https://localhost:8080/"
        },
        "id": "mUSV_ytlTxhx",
        "outputId": "3a66f994-8ab7-4d23-deaf-cca824a465e7"
      },
      "execution_count": 124,
      "outputs": [
        {
          "output_type": "execute_result",
          "data": {
            "text/plain": [
              "RandomForestRegressor(random_state=42)"
            ]
          },
          "metadata": {},
          "execution_count": 124
        }
      ]
    },
    {
      "cell_type": "code",
      "source": [
        "y_pred = rf_model.predict(X_test)"
      ],
      "metadata": {
        "id": "AmrRITkAT4IB"
      },
      "execution_count": 125,
      "outputs": []
    },
    {
      "cell_type": "code",
      "source": [
        "np.sqrt(mean_squared_error(y_test, y_pred))"
      ],
      "metadata": {
        "colab": {
          "base_uri": "https://localhost:8080/"
        },
        "id": "JT1Lo_yQT7iC",
        "outputId": "4edf8333-82d7-46da-e67b-e9da04119ad2"
      },
      "execution_count": 126,
      "outputs": [
        {
          "output_type": "execute_result",
          "data": {
            "text/plain": [
              "344.8191624908484"
            ]
          },
          "metadata": {},
          "execution_count": 126
        }
      ]
    },
    {
      "cell_type": "code",
      "source": [
        "rf_params = {\"max_depth\": [5,8],\n",
        "             \"max_features\": [2,5],\n",
        "             \"n_estimators\": [200,500,1000],\n",
        "             \"min_samples_split\": [2,10,80]}"
      ],
      "metadata": {
        "id": "Kc0WMtIRT-6H"
      },
      "execution_count": 127,
      "outputs": []
    },
    {
      "cell_type": "code",
      "source": [
        "rf_cv_model = GridSearchCV(rf_model, rf_params, cv=10,n_jobs = -1, verbose = 2).fit(X_train, y_train)"
      ],
      "metadata": {
        "colab": {
          "base_uri": "https://localhost:8080/"
        },
        "id": "4f4liNuQUPdm",
        "outputId": "692e2afb-b8e2-4898-914c-b55bfcea8521"
      },
      "execution_count": 128,
      "outputs": [
        {
          "output_type": "stream",
          "name": "stdout",
          "text": [
            "Fitting 10 folds for each of 36 candidates, totalling 360 fits\n"
          ]
        }
      ]
    },
    {
      "cell_type": "code",
      "source": [
        "rf_cv_model.best_params_"
      ],
      "metadata": {
        "colab": {
          "base_uri": "https://localhost:8080/"
        },
        "id": "QfGQJZtCUbR1",
        "outputId": "6bd995af-2232-4cbe-9c5e-7686c18e2900"
      },
      "execution_count": 129,
      "outputs": [
        {
          "output_type": "execute_result",
          "data": {
            "text/plain": [
              "{'max_depth': 8,\n",
              " 'max_features': 2,\n",
              " 'min_samples_split': 2,\n",
              " 'n_estimators': 200}"
            ]
          },
          "metadata": {},
          "execution_count": 129
        }
      ]
    },
    {
      "cell_type": "code",
      "source": [
        "rf_modle = RandomForestRegressor(random_state = 42,\n",
        "                                max_depth = 8,\n",
        "                                max_features = 2,\n",
        "                                min_samples_split = 2,\n",
        "                                n_estimators = 200)\n",
        "rf_tuned = rf_model.fit(X_train, y_train)"
      ],
      "metadata": {
        "id": "kuJ30oL1UdiS"
      },
      "execution_count": 130,
      "outputs": []
    },
    {
      "cell_type": "code",
      "source": [
        "y_pred = rf_tuned.predict(X_test)"
      ],
      "metadata": {
        "id": "tpsaKJJqWDZb"
      },
      "execution_count": 131,
      "outputs": []
    },
    {
      "cell_type": "code",
      "source": [
        "np.sqrt(mean_squared_error(y_test, y_pred))"
      ],
      "metadata": {
        "colab": {
          "base_uri": "https://localhost:8080/"
        },
        "id": "mThOrkOuWOl4",
        "outputId": "3d7a329c-3876-40e4-8b2c-20990513b577"
      },
      "execution_count": 132,
      "outputs": [
        {
          "output_type": "execute_result",
          "data": {
            "text/plain": [
              "344.8191624908484"
            ]
          },
          "metadata": {},
          "execution_count": 132
        }
      ]
    },
    {
      "cell_type": "code",
      "source": [
        "Importance = pd.DataFrame({'Importance': rf_tuned.feature_importances_*100},\n",
        "                          index = X_train.columns)\n",
        "\n",
        "Importance.sort_values(by = 'Importance',\n",
        "                       axis = 0,\n",
        "                       ascending = True).plot(kind = 'barh',\n",
        "                                                color = 'b',)\n",
        "                       \n",
        "plt.xlabel('Variable Importance')\n",
        "plt.gca().legend_ = None"
      ],
      "metadata": {
        "colab": {
          "base_uri": "https://localhost:8080/",
          "height": 279
        },
        "id": "BN7MSCdLWSDt",
        "outputId": "729f1701-2553-45ed-f5b2-36d9806ea0b8"
      },
      "execution_count": 135,
      "outputs": [
        {
          "output_type": "display_data",
          "data": {
            "text/plain": [
              "<Figure size 432x288 with 1 Axes>"
            ],
            "image/png": "[encoded data removed]"
          },
          "metadata": {
            "needs_background": "light"
          }
        }
      ]
    },
    {
      "cell_type": "code",
      "source": [
        "df = pd.read_csv(\"Hitters.csv\")\n",
        "df = df.dropna()\n",
        "dms = pd.get_dummies(df[[\"League\",\"Division\",\"NewLeague\"]])\n",
        "y=df[\"Salary\"]\n",
        "X_ = df.drop([\"Salary\",\"League\",\"Division\",\"NewLeague\"],axis=1).astype(\"float64\")\n",
        "X = pd.concat([X_,dms[[\"League_N\",\"Division_W\",\"NewLeague_N\"]]],axis=1)\n",
        "X_train,X_test,y_train,y_test = train_test_split(X,y,test_size=0.25,random_state=42)"
      ],
      "metadata": {
        "id": "Ve2qmKkuXehm"
      },
      "execution_count": 136,
      "outputs": []
    },
    {
      "cell_type": "code",
      "source": [
        "gbm_model = GradientBoostingRegressor().fit(X_train, y_train)"
      ],
      "metadata": {
        "id": "vewnGfPqXp_6"
      },
      "execution_count": 137,
      "outputs": []
    },
    {
      "cell_type": "code",
      "source": [
        "gbm_model"
      ],
      "metadata": {
        "colab": {
          "base_uri": "https://localhost:8080/"
        },
        "id": "U_cjDRbOXwb3",
        "outputId": "87b672b8-00ba-4518-e0ac-60be5adeef5f"
      },
      "execution_count": 138,
      "outputs": [
        {
          "output_type": "execute_result",
          "data": {
            "text/plain": [
              "GradientBoostingRegressor()"
            ]
          },
          "metadata": {},
          "execution_count": 138
        }
      ]
    },
    {
      "cell_type": "code",
      "source": [
        "y_pred = gbm_model.predict(X_test)"
      ],
      "metadata": {
        "id": "S8DNvRbhXxwV"
      },
      "execution_count": 140,
      "outputs": []
    },
    {
      "cell_type": "code",
      "source": [
        "np.sqrt(mean_squared_error(y_test, y_pred))"
      ],
      "metadata": {
        "colab": {
          "base_uri": "https://localhost:8080/"
        },
        "id": "7iYSRTH4X2zB",
        "outputId": "7e47834f-3763-41fa-c857-4d77af89d429"
      },
      "execution_count": 141,
      "outputs": [
        {
          "output_type": "execute_result",
          "data": {
            "text/plain": [
              "347.45457816204316"
            ]
          },
          "metadata": {},
          "execution_count": 141
        }
      ]
    },
    {
      "cell_type": "code",
      "source": [
        "gbm_params ={\"learning_rate\": [0.1,0.01],\n",
        "             \"max_depth\": [3,5],\n",
        "             \"n_estimators\": [200,500],\n",
        "             \"subsample\": [1,0.5,0.8]}"
      ],
      "metadata": {
        "id": "qa-B0szYX-BL"
      },
      "execution_count": 142,
      "outputs": []
    },
    {
      "cell_type": "code",
      "source": [
        "gbm_model = GradientBoostingRegressor().fit(X_train, y_train)"
      ],
      "metadata": {
        "id": "yqELqQ2VYS2x"
      },
      "execution_count": 143,
      "outputs": []
    },
    {
      "cell_type": "code",
      "source": [
        "gbm_cv_model = GridSearchCV(gbm_model, gbm_params, cv = 10,\n",
        "                            n_jobs = 1, verbose = 2).fit(X_train,y_train)"
      ],
      "metadata": {
        "colab": {
          "base_uri": "https://localhost:8080/"
        },
        "id": "l0ssH3DlYYkw",
        "outputId": "45c6a821-b60d-4481-954e-125a76a1321b"
      },
      "execution_count": 144,
      "outputs": [
        {
          "output_type": "stream",
          "name": "stdout",
          "text": [
            "Fitting 10 folds for each of 24 candidates, totalling 240 fits\n",
            "[CV] END learning_rate=0.1, max_depth=3, n_estimators=200, subsample=1; total time=   0.2s\n",
            "[CV] END learning_rate=0.1, max_depth=3, n_estimators=200, subsample=1; total time=   0.3s\n",
            "[CV] END learning_rate=0.1, max_depth=3, n_estimators=200, subsample=1; total time=   0.3s\n",
            "[CV] END learning_rate=0.1, max_depth=3, n_estimators=200, subsample=1; total time=   0.3s\n",
            "[CV] END learning_rate=0.1, max_depth=3, n_estimators=200, subsample=1; total time=   0.3s\n",
            "[CV] END learning_rate=0.1, max_depth=3, n_estimators=200, subsample=1; total time=   0.3s\n",
            "[CV] END learning_rate=0.1, max_depth=3, n_estimators=200, subsample=1; total time=   0.3s\n",
            "[CV] END learning_rate=0.1, max_depth=3, n_estimators=200, subsample=1; total time=   0.3s\n",
            "[CV] END learning_rate=0.1, max_depth=3, n_estimators=200, subsample=1; total time=   0.2s\n",
            "[CV] END learning_rate=0.1, max_depth=3, n_estimators=200, subsample=1; total time=   0.2s\n",
            "[CV] END learning_rate=0.1, max_depth=3, n_estimators=200, subsample=0.5; total time=   0.1s\n",
            "[CV] END learning_rate=0.1, max_depth=3, n_estimators=200, subsample=0.5; total time=   0.2s\n",
            "[CV] END learning_rate=0.1, max_depth=3, n_estimators=200, subsample=0.5; total time=   0.2s\n",
            "[CV] END learning_rate=0.1, max_depth=3, n_estimators=200, subsample=0.5; total time=   0.2s\n",
            "[CV] END learning_rate=0.1, max_depth=3, n_estimators=200, subsample=0.5; total time=   0.2s\n",
            "[CV] END learning_rate=0.1, max_depth=3, n_estimators=200, subsample=0.5; total time=   0.2s\n",
            "[CV] END learning_rate=0.1, max_depth=3, n_estimators=200, subsample=0.5; total time=   0.2s\n",
            "[CV] END learning_rate=0.1, max_depth=3, n_estimators=200, subsample=0.5; total time=   0.2s\n",
            "[CV] END learning_rate=0.1, max_depth=3, n_estimators=200, subsample=0.5; total time=   0.1s\n",
            "[CV] END learning_rate=0.1, max_depth=3, n_estimators=200, subsample=0.5; total time=   0.2s\n",
            "[CV] END learning_rate=0.1, max_depth=3, n_estimators=200, subsample=0.8; total time=   0.2s\n",
            "[CV] END learning_rate=0.1, max_depth=3, n_estimators=200, subsample=0.8; total time=   0.2s\n",
            "[CV] END learning_rate=0.1, max_depth=3, n_estimators=200, subsample=0.8; total time=   0.2s\n",
            "[CV] END learning_rate=0.1, max_depth=3, n_estimators=200, subsample=0.8; total time=   0.2s\n",
            "[CV] END learning_rate=0.1, max_depth=3, n_estimators=200, subsample=0.8; total time=   0.2s\n",
            "[CV] END learning_rate=0.1, max_depth=3, n_estimators=200, subsample=0.8; total time=   0.2s\n",
            "[CV] END learning_rate=0.1, max_depth=3, n_estimators=200, subsample=0.8; total time=   0.2s\n",
            "[CV] END learning_rate=0.1, max_depth=3, n_estimators=200, subsample=0.8; total time=   0.2s\n",
            "[CV] END learning_rate=0.1, max_depth=3, n_estimators=200, subsample=0.8; total time=   0.2s\n",
            "[CV] END learning_rate=0.1, max_depth=3, n_estimators=200, subsample=0.8; total time=   0.2s\n",
            "[CV] END learning_rate=0.1, max_depth=3, n_estimators=500, subsample=1; total time=   0.5s\n",
            "[CV] END learning_rate=0.1, max_depth=3, n_estimators=500, subsample=1; total time=   0.5s\n",
            "[CV] END learning_rate=0.1, max_depth=3, n_estimators=500, subsample=1; total time=   0.5s\n",
            "[CV] END learning_rate=0.1, max_depth=3, n_estimators=500, subsample=1; total time=   0.5s\n",
            "[CV] END learning_rate=0.1, max_depth=3, n_estimators=500, subsample=1; total time=   0.5s\n",
            "[CV] END learning_rate=0.1, max_depth=3, n_estimators=500, subsample=1; total time=   0.5s\n",
            "[CV] END learning_rate=0.1, max_depth=3, n_estimators=500, subsample=1; total time=   0.5s\n",
            "[CV] END learning_rate=0.1, max_depth=3, n_estimators=500, subsample=1; total time=   0.5s\n",
            "[CV] END learning_rate=0.1, max_depth=3, n_estimators=500, subsample=1; total time=   0.6s\n",
            "[CV] END learning_rate=0.1, max_depth=3, n_estimators=500, subsample=1; total time=   0.6s\n",
            "[CV] END learning_rate=0.1, max_depth=3, n_estimators=500, subsample=0.5; total time=   0.6s\n",
            "[CV] END learning_rate=0.1, max_depth=3, n_estimators=500, subsample=0.5; total time=   0.4s\n",
            "[CV] END learning_rate=0.1, max_depth=3, n_estimators=500, subsample=0.5; total time=   0.5s\n",
            "[CV] END learning_rate=0.1, max_depth=3, n_estimators=500, subsample=0.5; total time=   0.4s\n",
            "[CV] END learning_rate=0.1, max_depth=3, n_estimators=500, subsample=0.5; total time=   0.6s\n",
            "[CV] END learning_rate=0.1, max_depth=3, n_estimators=500, subsample=0.5; total time=   0.6s\n",
            "[CV] END learning_rate=0.1, max_depth=3, n_estimators=500, subsample=0.5; total time=   0.6s\n",
            "[CV] END learning_rate=0.1, max_depth=3, n_estimators=500, subsample=0.5; total time=   0.6s\n",
            "[CV] END learning_rate=0.1, max_depth=3, n_estimators=500, subsample=0.5; total time=   0.4s\n",
            "[CV] END learning_rate=0.1, max_depth=3, n_estimators=500, subsample=0.5; total time=   0.4s\n",
            "[CV] END learning_rate=0.1, max_depth=3, n_estimators=500, subsample=0.8; total time=   0.6s\n",
            "[CV] END learning_rate=0.1, max_depth=3, n_estimators=500, subsample=0.8; total time=   0.8s\n",
            "[CV] END learning_rate=0.1, max_depth=3, n_estimators=500, subsample=0.8; total time=   0.8s\n",
            "[CV] END learning_rate=0.1, max_depth=3, n_estimators=500, subsample=0.8; total time=   0.7s\n",
            "[CV] END learning_rate=0.1, max_depth=3, n_estimators=500, subsample=0.8; total time=   0.5s\n",
            "[CV] END learning_rate=0.1, max_depth=3, n_estimators=500, subsample=0.8; total time=   0.5s\n",
            "[CV] END learning_rate=0.1, max_depth=3, n_estimators=500, subsample=0.8; total time=   0.5s\n",
            "[CV] END learning_rate=0.1, max_depth=3, n_estimators=500, subsample=0.8; total time=   0.7s\n",
            "[CV] END learning_rate=0.1, max_depth=3, n_estimators=500, subsample=0.8; total time=   0.8s\n",
            "[CV] END learning_rate=0.1, max_depth=3, n_estimators=500, subsample=0.8; total time=   0.7s\n",
            "[CV] END learning_rate=0.1, max_depth=5, n_estimators=200, subsample=1; total time=   0.3s\n",
            "[CV] END learning_rate=0.1, max_depth=5, n_estimators=200, subsample=1; total time=   0.3s\n",
            "[CV] END learning_rate=0.1, max_depth=5, n_estimators=200, subsample=1; total time=   0.3s\n",
            "[CV] END learning_rate=0.1, max_depth=5, n_estimators=200, subsample=1; total time=   0.3s\n",
            "[CV] END learning_rate=0.1, max_depth=5, n_estimators=200, subsample=1; total time=   0.3s\n",
            "[CV] END learning_rate=0.1, max_depth=5, n_estimators=200, subsample=1; total time=   0.4s\n",
            "[CV] END learning_rate=0.1, max_depth=5, n_estimators=200, subsample=1; total time=   0.5s\n",
            "[CV] END learning_rate=0.1, max_depth=5, n_estimators=200, subsample=1; total time=   0.4s\n",
            "[CV] END learning_rate=0.1, max_depth=5, n_estimators=200, subsample=1; total time=   0.3s\n",
            "[CV] END learning_rate=0.1, max_depth=5, n_estimators=200, subsample=1; total time=   0.3s\n",
            "[CV] END learning_rate=0.1, max_depth=5, n_estimators=200, subsample=0.5; total time=   0.2s\n",
            "[CV] END learning_rate=0.1, max_depth=5, n_estimators=200, subsample=0.5; total time=   0.2s\n",
            "[CV] END learning_rate=0.1, max_depth=5, n_estimators=200, subsample=0.5; total time=   0.2s\n",
            "[CV] END learning_rate=0.1, max_depth=5, n_estimators=200, subsample=0.5; total time=   0.3s\n",
            "[CV] END learning_rate=0.1, max_depth=5, n_estimators=200, subsample=0.5; total time=   0.3s\n",
            "[CV] END learning_rate=0.1, max_depth=5, n_estimators=200, subsample=0.5; total time=   0.3s\n",
            "[CV] END learning_rate=0.1, max_depth=5, n_estimators=200, subsample=0.5; total time=   0.3s\n",
            "[CV] END learning_rate=0.1, max_depth=5, n_estimators=200, subsample=0.5; total time=   0.3s\n",
            "[CV] END learning_rate=0.1, max_depth=5, n_estimators=200, subsample=0.5; total time=   0.2s\n",
            "[CV] END learning_rate=0.1, max_depth=5, n_estimators=200, subsample=0.5; total time=   0.8s\n",
            "[CV] END learning_rate=0.1, max_depth=5, n_estimators=200, subsample=0.8; total time=   0.5s\n",
            "[CV] END learning_rate=0.1, max_depth=5, n_estimators=200, subsample=0.8; total time=   0.4s\n",
            "[CV] END learning_rate=0.1, max_depth=5, n_estimators=200, subsample=0.8; total time=   0.3s\n",
            "[CV] END learning_rate=0.1, max_depth=5, n_estimators=200, subsample=0.8; total time=   0.3s\n",
            "[CV] END learning_rate=0.1, max_depth=5, n_estimators=200, subsample=0.8; total time=   0.3s\n",
            "[CV] END learning_rate=0.1, max_depth=5, n_estimators=200, subsample=0.8; total time=   0.5s\n",
            "[CV] END learning_rate=0.1, max_depth=5, n_estimators=200, subsample=0.8; total time=   0.4s\n",
            "[CV] END learning_rate=0.1, max_depth=5, n_estimators=200, subsample=0.8; total time=   0.4s\n",
            "[CV] END learning_rate=0.1, max_depth=5, n_estimators=200, subsample=0.8; total time=   0.6s\n",
            "[CV] END learning_rate=0.1, max_depth=5, n_estimators=200, subsample=0.8; total time=   0.4s\n",
            "[CV] END learning_rate=0.1, max_depth=5, n_estimators=500, subsample=1; total time=   1.2s\n",
            "[CV] END learning_rate=0.1, max_depth=5, n_estimators=500, subsample=1; total time=   1.0s\n",
            "[CV] END learning_rate=0.1, max_depth=5, n_estimators=500, subsample=1; total time=   1.3s\n",
            "[CV] END learning_rate=0.1, max_depth=5, n_estimators=500, subsample=1; total time=   1.0s\n",
            "[CV] END learning_rate=0.1, max_depth=5, n_estimators=500, subsample=1; total time=   1.2s\n",
            "[CV] END learning_rate=0.1, max_depth=5, n_estimators=500, subsample=1; total time=   0.9s\n",
            "[CV] END learning_rate=0.1, max_depth=5, n_estimators=500, subsample=1; total time=   1.8s\n",
            "[CV] END learning_rate=0.1, max_depth=5, n_estimators=500, subsample=1; total time=   3.1s\n",
            "[CV] END learning_rate=0.1, max_depth=5, n_estimators=500, subsample=1; total time=   1.7s\n",
            "[CV] END learning_rate=0.1, max_depth=5, n_estimators=500, subsample=1; total time=   1.0s\n",
            "[CV] END learning_rate=0.1, max_depth=5, n_estimators=500, subsample=0.5; total time=   0.9s\n",
            "[CV] END learning_rate=0.1, max_depth=5, n_estimators=500, subsample=0.5; total time=   1.6s\n",
            "[CV] END learning_rate=0.1, max_depth=5, n_estimators=500, subsample=0.5; total time=   0.5s\n",
            "[CV] END learning_rate=0.1, max_depth=5, n_estimators=500, subsample=0.5; total time=   0.5s\n",
            "[CV] END learning_rate=0.1, max_depth=5, n_estimators=500, subsample=0.5; total time=   0.5s\n",
            "[CV] END learning_rate=0.1, max_depth=5, n_estimators=500, subsample=0.5; total time=   0.5s\n",
            "[CV] END learning_rate=0.1, max_depth=5, n_estimators=500, subsample=0.5; total time=   0.5s\n",
            "[CV] END learning_rate=0.1, max_depth=5, n_estimators=500, subsample=0.5; total time=   0.5s\n",
            "[CV] END learning_rate=0.1, max_depth=5, n_estimators=500, subsample=0.5; total time=   0.5s\n",
            "[CV] END learning_rate=0.1, max_depth=5, n_estimators=500, subsample=0.5; total time=   0.5s\n",
            "[CV] END learning_rate=0.1, max_depth=5, n_estimators=500, subsample=0.8; total time=   0.7s\n",
            "[CV] END learning_rate=0.1, max_depth=5, n_estimators=500, subsample=0.8; total time=   0.6s\n",
            "[CV] END learning_rate=0.1, max_depth=5, n_estimators=500, subsample=0.8; total time=   0.6s\n",
            "[CV] END learning_rate=0.1, max_depth=5, n_estimators=500, subsample=0.8; total time=   0.6s\n",
            "[CV] END learning_rate=0.1, max_depth=5, n_estimators=500, subsample=0.8; total time=   0.6s\n",
            "[CV] END learning_rate=0.1, max_depth=5, n_estimators=500, subsample=0.8; total time=   0.6s\n",
            "[CV] END learning_rate=0.1, max_depth=5, n_estimators=500, subsample=0.8; total time=   0.8s\n",
            "[CV] END learning_rate=0.1, max_depth=5, n_estimators=500, subsample=0.8; total time=   1.2s\n",
            "[CV] END learning_rate=0.1, max_depth=5, n_estimators=500, subsample=0.8; total time=   1.1s\n",
            "[CV] END learning_rate=0.1, max_depth=5, n_estimators=500, subsample=0.8; total time=   0.7s\n",
            "[CV] END learning_rate=0.01, max_depth=3, n_estimators=200, subsample=1; total time=   0.3s\n",
            "[CV] END learning_rate=0.01, max_depth=3, n_estimators=200, subsample=1; total time=   0.4s\n",
            "[CV] END learning_rate=0.01, max_depth=3, n_estimators=200, subsample=1; total time=   0.4s\n",
            "[CV] END learning_rate=0.01, max_depth=3, n_estimators=200, subsample=1; total time=   0.4s\n",
            "[CV] END learning_rate=0.01, max_depth=3, n_estimators=200, subsample=1; total time=   0.4s\n",
            "[CV] END learning_rate=0.01, max_depth=3, n_estimators=200, subsample=1; total time=   0.4s\n",
            "[CV] END learning_rate=0.01, max_depth=3, n_estimators=200, subsample=1; total time=   0.4s\n",
            "[CV] END learning_rate=0.01, max_depth=3, n_estimators=200, subsample=1; total time=   0.4s\n",
            "[CV] END learning_rate=0.01, max_depth=3, n_estimators=200, subsample=1; total time=   0.3s\n",
            "[CV] END learning_rate=0.01, max_depth=3, n_estimators=200, subsample=1; total time=   0.4s\n",
            "[CV] END learning_rate=0.01, max_depth=3, n_estimators=200, subsample=0.5; total time=   0.2s\n",
            "[CV] END learning_rate=0.01, max_depth=3, n_estimators=200, subsample=0.5; total time=   0.2s\n",
            "[CV] END learning_rate=0.01, max_depth=3, n_estimators=200, subsample=0.5; total time=   0.2s\n",
            "[CV] END learning_rate=0.01, max_depth=3, n_estimators=200, subsample=0.5; total time=   0.3s\n",
            "[CV] END learning_rate=0.01, max_depth=3, n_estimators=200, subsample=0.5; total time=   0.3s\n",
            "[CV] END learning_rate=0.01, max_depth=3, n_estimators=200, subsample=0.5; total time=   0.4s\n",
            "[CV] END learning_rate=0.01, max_depth=3, n_estimators=200, subsample=0.5; total time=   0.5s\n",
            "[CV] END learning_rate=0.01, max_depth=3, n_estimators=200, subsample=0.5; total time=   0.4s\n",
            "[CV] END learning_rate=0.01, max_depth=3, n_estimators=200, subsample=0.5; total time=   0.3s\n",
            "[CV] END learning_rate=0.01, max_depth=3, n_estimators=200, subsample=0.5; total time=   0.2s\n",
            "[CV] END learning_rate=0.01, max_depth=3, n_estimators=200, subsample=0.8; total time=   0.4s\n",
            "[CV] END learning_rate=0.01, max_depth=3, n_estimators=200, subsample=0.8; total time=   0.3s\n",
            "[CV] END learning_rate=0.01, max_depth=3, n_estimators=200, subsample=0.8; total time=   0.2s\n",
            "[CV] END learning_rate=0.01, max_depth=3, n_estimators=200, subsample=0.8; total time=   0.2s\n",
            "[CV] END learning_rate=0.01, max_depth=3, n_estimators=200, subsample=0.8; total time=   0.2s\n",
            "[CV] END learning_rate=0.01, max_depth=3, n_estimators=200, subsample=0.8; total time=   0.2s\n",
            "[CV] END learning_rate=0.01, max_depth=3, n_estimators=200, subsample=0.8; total time=   0.2s\n",
            "[CV] END learning_rate=0.01, max_depth=3, n_estimators=200, subsample=0.8; total time=   0.2s\n",
            "[CV] END learning_rate=0.01, max_depth=3, n_estimators=200, subsample=0.8; total time=   0.2s\n",
            "[CV] END learning_rate=0.01, max_depth=3, n_estimators=200, subsample=0.8; total time=   0.2s\n",
            "[CV] END learning_rate=0.01, max_depth=3, n_estimators=500, subsample=1; total time=   0.5s\n",
            "[CV] END learning_rate=0.01, max_depth=3, n_estimators=500, subsample=1; total time=   1.3s\n",
            "[CV] END learning_rate=0.01, max_depth=3, n_estimators=500, subsample=1; total time=   1.1s\n",
            "[CV] END learning_rate=0.01, max_depth=3, n_estimators=500, subsample=1; total time=   1.2s\n",
            "[CV] END learning_rate=0.01, max_depth=3, n_estimators=500, subsample=1; total time=   0.5s\n",
            "[CV] END learning_rate=0.01, max_depth=3, n_estimators=500, subsample=1; total time=   0.5s\n",
            "[CV] END learning_rate=0.01, max_depth=3, n_estimators=500, subsample=1; total time=   0.6s\n",
            "[CV] END learning_rate=0.01, max_depth=3, n_estimators=500, subsample=1; total time=   1.5s\n",
            "[CV] END learning_rate=0.01, max_depth=3, n_estimators=500, subsample=1; total time=   1.2s\n",
            "[CV] END learning_rate=0.01, max_depth=3, n_estimators=500, subsample=1; total time=   0.8s\n",
            "[CV] END learning_rate=0.01, max_depth=3, n_estimators=500, subsample=0.5; total time=   0.6s\n",
            "[CV] END learning_rate=0.01, max_depth=3, n_estimators=500, subsample=0.5; total time=   1.0s\n",
            "[CV] END learning_rate=0.01, max_depth=3, n_estimators=500, subsample=0.5; total time=   0.9s\n",
            "[CV] END learning_rate=0.01, max_depth=3, n_estimators=500, subsample=0.5; total time=   0.5s\n",
            "[CV] END learning_rate=0.01, max_depth=3, n_estimators=500, subsample=0.5; total time=   0.6s\n",
            "[CV] END learning_rate=0.01, max_depth=3, n_estimators=500, subsample=0.5; total time=   0.6s\n",
            "[CV] END learning_rate=0.01, max_depth=3, n_estimators=500, subsample=0.5; total time=   0.7s\n",
            "[CV] END learning_rate=0.01, max_depth=3, n_estimators=500, subsample=0.5; total time=   0.6s\n",
            "[CV] END learning_rate=0.01, max_depth=3, n_estimators=500, subsample=0.5; total time=   0.5s\n",
            "[CV] END learning_rate=0.01, max_depth=3, n_estimators=500, subsample=0.5; total time=   0.5s\n",
            "[CV] END learning_rate=0.01, max_depth=3, n_estimators=500, subsample=0.8; total time=   0.7s\n",
            "[CV] END learning_rate=0.01, max_depth=3, n_estimators=500, subsample=0.8; total time=   0.7s\n",
            "[CV] END learning_rate=0.01, max_depth=3, n_estimators=500, subsample=0.8; total time=   0.7s\n",
            "[CV] END learning_rate=0.01, max_depth=3, n_estimators=500, subsample=0.8; total time=   0.7s\n",
            "[CV] END learning_rate=0.01, max_depth=3, n_estimators=500, subsample=0.8; total time=   0.6s\n",
            "[CV] END learning_rate=0.01, max_depth=3, n_estimators=500, subsample=0.8; total time=   0.5s\n",
            "[CV] END learning_rate=0.01, max_depth=3, n_estimators=500, subsample=0.8; total time=   0.5s\n",
            "[CV] END learning_rate=0.01, max_depth=3, n_estimators=500, subsample=0.8; total time=   0.5s\n",
            "[CV] END learning_rate=0.01, max_depth=3, n_estimators=500, subsample=0.8; total time=   0.5s\n",
            "[CV] END learning_rate=0.01, max_depth=3, n_estimators=500, subsample=0.8; total time=   0.5s\n",
            "[CV] END learning_rate=0.01, max_depth=5, n_estimators=200, subsample=1; total time=   0.3s\n",
            "[CV] END learning_rate=0.01, max_depth=5, n_estimators=200, subsample=1; total time=   0.3s\n",
            "[CV] END learning_rate=0.01, max_depth=5, n_estimators=200, subsample=1; total time=   0.3s\n",
            "[CV] END learning_rate=0.01, max_depth=5, n_estimators=200, subsample=1; total time=   0.3s\n",
            "[CV] END learning_rate=0.01, max_depth=5, n_estimators=200, subsample=1; total time=   0.3s\n",
            "[CV] END learning_rate=0.01, max_depth=5, n_estimators=200, subsample=1; total time=   0.4s\n",
            "[CV] END learning_rate=0.01, max_depth=5, n_estimators=200, subsample=1; total time=   0.3s\n",
            "[CV] END learning_rate=0.01, max_depth=5, n_estimators=200, subsample=1; total time=   0.3s\n",
            "[CV] END learning_rate=0.01, max_depth=5, n_estimators=200, subsample=1; total time=   0.4s\n",
            "[CV] END learning_rate=0.01, max_depth=5, n_estimators=200, subsample=1; total time=   0.4s\n",
            "[CV] END learning_rate=0.01, max_depth=5, n_estimators=200, subsample=0.5; total time=   0.3s\n",
            "[CV] END learning_rate=0.01, max_depth=5, n_estimators=200, subsample=0.5; total time=   0.3s\n",
            "[CV] END learning_rate=0.01, max_depth=5, n_estimators=200, subsample=0.5; total time=   0.3s\n",
            "[CV] END learning_rate=0.01, max_depth=5, n_estimators=200, subsample=0.5; total time=   0.2s\n",
            "[CV] END learning_rate=0.01, max_depth=5, n_estimators=200, subsample=0.5; total time=   0.5s\n",
            "[CV] END learning_rate=0.01, max_depth=5, n_estimators=200, subsample=0.5; total time=   0.5s\n",
            "[CV] END learning_rate=0.01, max_depth=5, n_estimators=200, subsample=0.5; total time=   0.6s\n",
            "[CV] END learning_rate=0.01, max_depth=5, n_estimators=200, subsample=0.5; total time=   0.4s\n",
            "[CV] END learning_rate=0.01, max_depth=5, n_estimators=200, subsample=0.5; total time=   0.3s\n",
            "[CV] END learning_rate=0.01, max_depth=5, n_estimators=200, subsample=0.5; total time=   0.2s\n",
            "[CV] END learning_rate=0.01, max_depth=5, n_estimators=200, subsample=0.8; total time=   0.3s\n",
            "[CV] END learning_rate=0.01, max_depth=5, n_estimators=200, subsample=0.8; total time=   0.5s\n",
            "[CV] END learning_rate=0.01, max_depth=5, n_estimators=200, subsample=0.8; total time=   0.4s\n",
            "[CV] END learning_rate=0.01, max_depth=5, n_estimators=200, subsample=0.8; total time=   0.4s\n",
            "[CV] END learning_rate=0.01, max_depth=5, n_estimators=200, subsample=0.8; total time=   0.8s\n",
            "[CV] END learning_rate=0.01, max_depth=5, n_estimators=200, subsample=0.8; total time=   1.4s\n",
            "[CV] END learning_rate=0.01, max_depth=5, n_estimators=200, subsample=0.8; total time=   0.5s\n",
            "[CV] END learning_rate=0.01, max_depth=5, n_estimators=200, subsample=0.8; total time=   0.3s\n",
            "[CV] END learning_rate=0.01, max_depth=5, n_estimators=200, subsample=0.8; total time=   0.3s\n",
            "[CV] END learning_rate=0.01, max_depth=5, n_estimators=200, subsample=0.8; total time=   0.4s\n",
            "[CV] END learning_rate=0.01, max_depth=5, n_estimators=500, subsample=1; total time=   1.1s\n",
            "[CV] END learning_rate=0.01, max_depth=5, n_estimators=500, subsample=1; total time=   0.7s\n",
            "[CV] END learning_rate=0.01, max_depth=5, n_estimators=500, subsample=1; total time=   0.8s\n",
            "[CV] END learning_rate=0.01, max_depth=5, n_estimators=500, subsample=1; total time=   0.9s\n",
            "[CV] END learning_rate=0.01, max_depth=5, n_estimators=500, subsample=1; total time=   0.8s\n",
            "[CV] END learning_rate=0.01, max_depth=5, n_estimators=500, subsample=1; total time=   0.7s\n",
            "[CV] END learning_rate=0.01, max_depth=5, n_estimators=500, subsample=1; total time=   0.8s\n",
            "[CV] END learning_rate=0.01, max_depth=5, n_estimators=500, subsample=1; total time=   1.1s\n",
            "[CV] END learning_rate=0.01, max_depth=5, n_estimators=500, subsample=1; total time=   1.8s\n",
            "[CV] END learning_rate=0.01, max_depth=5, n_estimators=500, subsample=1; total time=   1.4s\n",
            "[CV] END learning_rate=0.01, max_depth=5, n_estimators=500, subsample=0.5; total time=   0.8s\n",
            "[CV] END learning_rate=0.01, max_depth=5, n_estimators=500, subsample=0.5; total time=   0.6s\n",
            "[CV] END learning_rate=0.01, max_depth=5, n_estimators=500, subsample=0.5; total time=   0.7s\n",
            "[CV] END learning_rate=0.01, max_depth=5, n_estimators=500, subsample=0.5; total time=   0.6s\n",
            "[CV] END learning_rate=0.01, max_depth=5, n_estimators=500, subsample=0.5; total time=   0.7s\n",
            "[CV] END learning_rate=0.01, max_depth=5, n_estimators=500, subsample=0.5; total time=   0.7s\n",
            "[CV] END learning_rate=0.01, max_depth=5, n_estimators=500, subsample=0.5; total time=   0.6s\n",
            "[CV] END learning_rate=0.01, max_depth=5, n_estimators=500, subsample=0.5; total time=   0.8s\n",
            "[CV] END learning_rate=0.01, max_depth=5, n_estimators=500, subsample=0.5; total time=   0.7s\n",
            "[CV] END learning_rate=0.01, max_depth=5, n_estimators=500, subsample=0.5; total time=   1.0s\n",
            "[CV] END learning_rate=0.01, max_depth=5, n_estimators=500, subsample=0.8; total time=   1.0s\n",
            "[CV] END learning_rate=0.01, max_depth=5, n_estimators=500, subsample=0.8; total time=   0.9s\n",
            "[CV] END learning_rate=0.01, max_depth=5, n_estimators=500, subsample=0.8; total time=   0.8s\n",
            "[CV] END learning_rate=0.01, max_depth=5, n_estimators=500, subsample=0.8; total time=   1.0s\n",
            "[CV] END learning_rate=0.01, max_depth=5, n_estimators=500, subsample=0.8; total time=   1.1s\n",
            "[CV] END learning_rate=0.01, max_depth=5, n_estimators=500, subsample=0.8; total time=   1.1s\n",
            "[CV] END learning_rate=0.01, max_depth=5, n_estimators=500, subsample=0.8; total time=   1.1s\n",
            "[CV] END learning_rate=0.01, max_depth=5, n_estimators=500, subsample=0.8; total time=   1.2s\n",
            "[CV] END learning_rate=0.01, max_depth=5, n_estimators=500, subsample=0.8; total time=   1.1s\n",
            "[CV] END learning_rate=0.01, max_depth=5, n_estimators=500, subsample=0.8; total time=   0.9s\n"
          ]
        }
      ]
    },
    {
      "cell_type": "code",
      "source": [
        "gbm_cv_model.best_params_"
      ],
      "metadata": {
        "colab": {
          "base_uri": "https://localhost:8080/"
        },
        "id": "qnw1hmWVYlPe",
        "outputId": "e560f4d8-974a-4c93-d797-d71420f1a74b"
      },
      "execution_count": 148,
      "outputs": [
        {
          "output_type": "execute_result",
          "data": {
            "text/plain": [
              "{'learning_rate': 0.1, 'max_depth': 3, 'n_estimators': 500, 'subsample': 0.5}"
            ]
          },
          "metadata": {},
          "execution_count": 148
        }
      ]
    },
    {
      "cell_type": "code",
      "source": [
        "gbm_tuned = GradientBoostingRegressor(learning_rate = 0.01,\n",
        "                                      max_depth = 5,\n",
        "                                      n_estimators = 500,\n",
        "                                      subsample = 0.5,\n",
        "                                      loss = \"lad\").fit(X_train, y_train)"
      ],
      "metadata": {
        "id": "8KVjlTQLYqcp"
      },
      "execution_count": 149,
      "outputs": []
    },
    {
      "cell_type": "code",
      "source": [
        "y_pred = gbm_tuned.predict(X_test)"
      ],
      "metadata": {
        "id": "5dOaqRFsZIBi"
      },
      "execution_count": 150,
      "outputs": []
    },
    {
      "cell_type": "code",
      "source": [
        "np.sqrt(mean_squared_error(y_test, y_pred))"
      ],
      "metadata": {
        "colab": {
          "base_uri": "https://localhost:8080/"
        },
        "id": "NatBUeODZNKA",
        "outputId": "f5c2b30d-f495-40f4-bc70-2b5c2e598761"
      },
      "execution_count": 151,
      "outputs": [
        {
          "output_type": "execute_result",
          "data": {
            "text/plain": [
              "318.5144428644796"
            ]
          },
          "metadata": {},
          "execution_count": 151
        }
      ]
    },
    {
      "cell_type": "code",
      "source": [
        "Importance = pd.DataFrame({'Importance': gbm_tuned.feature_importances_*100},\n",
        "                          index = X_train.columns)\n",
        "\n",
        "Importance.sort_values(by = 'Importance', \n",
        "                       axis = 0,\n",
        "                       ascending = True).plot(kind = 'barh',\n",
        "                                                color = 'r')\n",
        "                       \n",
        "plt.xlabel('Variable Importance')\n",
        "plt.gca().legend_=None"
      ],
      "metadata": {
        "colab": {
          "base_uri": "https://localhost:8080/",
          "height": 279
        },
        "id": "esk1c_bcZRaI",
        "outputId": "c93ad596-d838-4c87-a09e-e94bd2eed5fd"
      },
      "execution_count": 153,
      "outputs": [
        {
          "output_type": "display_data",
          "data": {
            "text/plain": [
              "<Figure size 432x288 with 1 Axes>"
            ],
            "image/png": "[encoded data removed]"
          },
          "metadata": {
            "needs_background": "light"
          }
        }
      ]
    },
    {
      "cell_type": "code",
      "source": [
        "df = pd.read_csv(\"Hitters.csv\")\n",
        "df = df.dropna()\n",
        "dms = pd.get_dummies(df[[\"League\",\"Division\",\"NewLeague\"]])\n",
        "y=df[\"Salary\"]\n",
        "X_ = df.drop([\"Salary\",\"League\",\"Division\",\"NewLeague\"],axis=1).astype(\"float64\")\n",
        "X = pd.concat([X_,dms[[\"League_N\",\"Division_W\",\"NewLeague_N\"]]],axis=1)\n",
        "X_train,X_test,y_train,y_test = train_test_split(X,y,test_size=0.25,random_state=42)"
      ],
      "metadata": {
        "id": "wiHnXCTFZkaU"
      },
      "execution_count": 154,
      "outputs": []
    },
    {
      "cell_type": "code",
      "source": [
        "!pipt install xgboost"
      ],
      "metadata": {
        "colab": {
          "base_uri": "https://localhost:8080/"
        },
        "id": "nYwcngmtZ5uP",
        "outputId": "bfe06f0a-f6b4-4ea9-ac63-62fe69afd8e9"
      },
      "execution_count": 155,
      "outputs": [
        {
          "output_type": "stream",
          "name": "stdout",
          "text": [
            "/bin/bash: pipt: command not found\n"
          ]
        }
      ]
    },
    {
      "cell_type": "code",
      "source": [
        "import xgboost\n",
        "from xgboost import XGBRegressor"
      ],
      "metadata": {
        "id": "WOiYpsEnZ77_"
      },
      "execution_count": 156,
      "outputs": []
    },
    {
      "cell_type": "code",
      "source": [
        "xgb = XGBRegressor().fit(X_train, y_train)"
      ],
      "metadata": {
        "colab": {
          "base_uri": "https://localhost:8080/"
        },
        "id": "s6VqFhTraDgN",
        "outputId": "18e43c1b-07ff-4c54-b286-1370ce9390db"
      },
      "execution_count": 157,
      "outputs": [
        {
          "output_type": "stream",
          "name": "stdout",
          "text": [
            "[18:15:24] WARNING: /workspace/src/objective/regression_obj.cu:152: reg:linear is now deprecated in favor of reg:squarederror.\n"
          ]
        }
      ]
    },
    {
      "cell_type": "code",
      "source": [
        "xgb"
      ],
      "metadata": {
        "colab": {
          "base_uri": "https://localhost:8080/"
        },
        "id": "DzYy_Uf0aIcw",
        "outputId": "9427ec67-20c2-418a-985e-5889921d6f9d"
      },
      "execution_count": 158,
      "outputs": [
        {
          "output_type": "execute_result",
          "data": {
            "text/plain": [
              "XGBRegressor()"
            ]
          },
          "metadata": {},
          "execution_count": 158
        }
      ]
    },
    {
      "cell_type": "code",
      "source": [
        "y_pred = xgb.predict(X_test)\n",
        "np.sqrt(mean_squared_error(y_test, y_pred))"
      ],
      "metadata": {
        "colab": {
          "base_uri": "https://localhost:8080/"
        },
        "id": "ZDw2ihApaJA5",
        "outputId": "5afd4c72-3985-4edf-9c50-fecd42b8e6a2"
      },
      "execution_count": 159,
      "outputs": [
        {
          "output_type": "execute_result",
          "data": {
            "text/plain": [
              "359.91750599447033"
            ]
          },
          "metadata": {},
          "execution_count": 159
        }
      ]
    },
    {
      "cell_type": "code",
      "source": [
        "xgb_params = {\"learning_rate\": [0.1,0.01,0.5],\n",
        "             \"max_depth\": [2,3,4,5,8],\n",
        "             \"n_estimators\": [100,200,500],\n",
        "             \"subsample\": [0.4,0.7]}"
      ],
      "metadata": {
        "id": "oZ48jDxdaTsp"
      },
      "execution_count": 160,
      "outputs": []
    },
    {
      "cell_type": "code",
      "source": [
        "xgb_cv_model = GridSearchCV(xgb, xgb_params, cv = 10, n_jobs = -1, verbose = 2).fit(X_train, y_train)"
      ],
      "metadata": {
        "colab": {
          "base_uri": "https://localhost:8080/"
        },
        "id": "OeYW34FAajfF",
        "outputId": "54fcc32d-2e60-4283-944d-37e8f51fab7d"
      },
      "execution_count": 161,
      "outputs": [
        {
          "output_type": "stream",
          "name": "stdout",
          "text": [
            "Fitting 10 folds for each of 90 candidates, totalling 900 fits\n",
            "[18:19:15] WARNING: /workspace/src/objective/regression_obj.cu:152: reg:linear is now deprecated in favor of reg:squarederror.\n"
          ]
        }
      ]
    },
    {
      "cell_type": "code",
      "source": [
        "xgb_cv_model.best_params_"
      ],
      "metadata": {
        "colab": {
          "base_uri": "https://localhost:8080/"
        },
        "id": "fJDEaEQKatnx",
        "outputId": "838c9e0f-0434-41fb-ca2b-3327ba9cb41a"
      },
      "execution_count": 162,
      "outputs": [
        {
          "output_type": "execute_result",
          "data": {
            "text/plain": [
              "{'learning_rate': 0.1, 'max_depth': 2, 'n_estimators': 500, 'subsample': 0.7}"
            ]
          },
          "metadata": {},
          "execution_count": 162
        }
      ]
    },
    {
      "cell_type": "code",
      "source": [
        "xgb_tuned = XGBRegressor(colsample_bylevel = 0.7,\n",
        "                        learning_rate = 0.1,\n",
        "                         max_depth = 2,\n",
        "                         n_estimators = 500).fit(X_train, y_train)"
      ],
      "metadata": {
        "colab": {
          "base_uri": "https://localhost:8080/"
        },
        "id": "xBKPub2ybDAQ",
        "outputId": "b6abbcc5-0022-44e5-877f-595e6402e1c5"
      },
      "execution_count": 165,
      "outputs": [
        {
          "output_type": "stream",
          "name": "stdout",
          "text": [
            "[18:21:19] WARNING: /workspace/src/objective/regression_obj.cu:152: reg:linear is now deprecated in favor of reg:squarederror.\n"
          ]
        }
      ]
    },
    {
      "cell_type": "code",
      "source": [
        "y_pred =xgb_tuned.predict(X_test)\n",
        "np.sqrt(mean_squared_error(y_test, y_pred))"
      ],
      "metadata": {
        "colab": {
          "base_uri": "https://localhost:8080/"
        },
        "id": "IbquX1nObTiS",
        "outputId": "27664d5b-802d-446a-a48d-72e0ac6c8a04"
      },
      "execution_count": 166,
      "outputs": [
        {
          "output_type": "execute_result",
          "data": {
            "text/plain": [
              "333.4542345754869"
            ]
          },
          "metadata": {},
          "execution_count": 166
        }
      ]
    },
    {
      "cell_type": "code",
      "source": [
        " df = pd.read_csv(\"Hitters.csv\")\n",
        "df = df.dropna()\n",
        "dms = pd.get_dummies(df[[\"League\",\"Division\",\"NewLeague\"]])\n",
        "y=df[\"Salary\"]\n",
        "X_ = df.drop([\"Salary\",\"League\",\"Division\",\"NewLeague\"],axis=1).astype(\"float64\")\n",
        "X = pd.concat([X_,dms[[\"League_N\",\"Division_W\",\"NewLeague_N\"]]],axis=1)\n",
        "X_train,X_test,y_train,y_test = train_test_split(X,y,test_size=0.25,random_state=42)"
      ],
      "metadata": {
        "id": "g3seenkPbaO7"
      },
      "execution_count": 167,
      "outputs": []
    },
    {
      "cell_type": "code",
      "source": [
        "!pip install lightgbm"
      ],
      "metadata": {
        "colab": {
          "base_uri": "https://localhost:8080/"
        },
        "id": "f-edhyt7biq2",
        "outputId": "73a5506e-dc39-4f8a-bbe1-a8e8f82a4390"
      },
      "execution_count": 168,
      "outputs": [
        {
          "output_type": "stream",
          "name": "stdout",
          "text": [
            "Looking in indexes: https://pypi.org/simple, https://us-python.pkg.dev/colab-wheels/public/simple/\n",
            "Requirement already satisfied: lightgbm in /usr/local/lib/python3.7/dist-packages (2.2.3)\n",
            "Requirement already satisfied: scipy in /usr/local/lib/python3.7/dist-packages (from lightgbm) (1.7.3)\n",
            "Requirement already satisfied: numpy in /usr/local/lib/python3.7/dist-packages (from lightgbm) (1.21.6)\n",
            "Requirement already satisfied: scikit-learn in /usr/local/lib/python3.7/dist-packages (from lightgbm) (1.0.2)\n",
            "Requirement already satisfied: joblib>=0.11 in /usr/local/lib/python3.7/dist-packages (from scikit-learn->lightgbm) (1.2.0)\n",
            "Requirement already satisfied: threadpoolctl>=2.0.0 in /usr/local/lib/python3.7/dist-packages (from scikit-learn->lightgbm) (3.1.0)\n"
          ]
        }
      ]
    },
    {
      "cell_type": "code",
      "source": [
        "from lightgbm import LGBMRegressor"
      ],
      "metadata": {
        "id": "V8vcgADZblB2"
      },
      "execution_count": 170,
      "outputs": []
    },
    {
      "cell_type": "code",
      "source": [
        "lgb_model = LGBMRegressor().fit(X_train, y_train)"
      ],
      "metadata": {
        "id": "iGVd3eoDbo68"
      },
      "execution_count": 171,
      "outputs": []
    },
    {
      "cell_type": "code",
      "source": [
        "lgb_model"
      ],
      "metadata": {
        "colab": {
          "base_uri": "https://localhost:8080/"
        },
        "id": "s7xLO2vNb3DG",
        "outputId": "e86ba172-0b82-4546-8c0d-99aab2b8088b"
      },
      "execution_count": 172,
      "outputs": [
        {
          "output_type": "execute_result",
          "data": {
            "text/plain": [
              "LGBMRegressor()"
            ]
          },
          "metadata": {},
          "execution_count": 172
        }
      ]
    },
    {
      "cell_type": "code",
      "source": [
        "y_pred = lgb_model.predict(X_test)"
      ],
      "metadata": {
        "id": "t5JWA1bMb4jq"
      },
      "execution_count": 173,
      "outputs": []
    },
    {
      "cell_type": "code",
      "source": [
        "np.sqrt(mean_squared_error(y_test, y_pred))"
      ],
      "metadata": {
        "colab": {
          "base_uri": "https://localhost:8080/"
        },
        "id": "81mr359Cb9bs",
        "outputId": "970383a9-b0bc-4eab-8137-75c96e1e995d"
      },
      "execution_count": 174,
      "outputs": [
        {
          "output_type": "execute_result",
          "data": {
            "text/plain": [
              "363.8712087611089"
            ]
          },
          "metadata": {},
          "execution_count": 174
        }
      ]
    },
    {
      "cell_type": "code",
      "source": [
        "lgbm_params = {\"learning_rate\": [0.01,0.1,0.5,1],\n",
        "               \"n_estimators\": [40,100,1000],\n",
        "               \"max_depth\": [1,2,3]}"
      ],
      "metadata": {
        "id": "FCG4q-6fcBXa"
      },
      "execution_count": 175,
      "outputs": []
    },
    {
      "cell_type": "code",
      "source": [
        "lgbm_cv_model = GridSearchCV(lgb_model,lgbm_params,cv = 10,n_jobs =-1,\n",
        "                            verbose = 2).fit(X_train,y_train)"
      ],
      "metadata": {
        "colab": {
          "base_uri": "https://localhost:8080/"
        },
        "id": "p_SWoLx4cTv6",
        "outputId": "7f74646f-ffde-4d11-c62b-1f90e19afa10"
      },
      "execution_count": 176,
      "outputs": [
        {
          "output_type": "stream",
          "name": "stdout",
          "text": [
            "Fitting 10 folds for each of 36 candidates, totalling 360 fits\n"
          ]
        }
      ]
    },
    {
      "cell_type": "code",
      "source": [
        "lgbm_cv_model.best_params_"
      ],
      "metadata": {
        "colab": {
          "base_uri": "https://localhost:8080/"
        },
        "id": "kuCt6sylcatj",
        "outputId": "34c247c8-65ee-4f31-8123-8f5a9d0ebd9d"
      },
      "execution_count": 177,
      "outputs": [
        {
          "output_type": "execute_result",
          "data": {
            "text/plain": [
              "{'learning_rate': 0.1, 'max_depth': 3, 'n_estimators': 40}"
            ]
          },
          "metadata": {},
          "execution_count": 177
        }
      ]
    },
    {
      "cell_type": "code",
      "source": [
        "lgb_tuned = LGBMRegressor(learning_rate=0.1,\n",
        "                         max_depth=3,\n",
        "                         n_estimators=40).fit(X_train,y_train)"
      ],
      "metadata": {
        "id": "iMIjCZNhcdra"
      },
      "execution_count": 178,
      "outputs": []
    },
    {
      "cell_type": "code",
      "source": [
        "y_pred = lgb_tuned.predict(X_test)\n",
        "np.sqrt(mean_squared_error(y_test,y_pred))"
      ],
      "metadata": {
        "colab": {
          "base_uri": "https://localhost:8080/"
        },
        "id": "wJDUtCwicdyk",
        "outputId": "f85d50b4-342a-4180-ec68-605d01d25b93"
      },
      "execution_count": 179,
      "outputs": [
        {
          "output_type": "execute_result",
          "data": {
            "text/plain": [
              "364.7698635536198"
            ]
          },
          "metadata": {},
          "execution_count": 179
        }
      ]
    },
    {
      "cell_type": "code",
      "source": [
        "df = pd.read_csv(\"Hitters.csv\")\n",
        "df = df.dropna()\n",
        "dms = pd.get_dummies(df[[\"League\",\"Division\",\"NewLeague\"]])\n",
        "y=df[\"Salary\"]\n",
        "X_ = df.drop([\"Salary\",\"League\",\"Division\",\"NewLeague\"],axis=1).astype(\"float64\")\n",
        "X = pd.concat([X_,dms[[\"League_N\",\"Division_W\",\"NewLeague_N\"]]],axis=1)\n",
        "X_train,X_test,y_train,y_test = train_test_split(X,y,test_size=0.25,random_state=42)"
      ],
      "metadata": {
        "id": "kSSjGucPcd1T"
      },
      "execution_count": 180,
      "outputs": []
    },
    {
      "cell_type": "code",
      "source": [
        "!pip install catboost"
      ],
      "metadata": {
        "colab": {
          "base_uri": "https://localhost:8080/"
        },
        "id": "0zaKnirTcd6V",
        "outputId": "42d7c876-0b8a-4321-9e2b-81f08b869921"
      },
      "execution_count": 181,
      "outputs": [
        {
          "output_type": "stream",
          "name": "stdout",
          "text": [
            "Looking in indexes: https://pypi.org/simple, https://us-python.pkg.dev/colab-wheels/public/simple/\n",
            "Collecting catboost\n",
            "  Downloading catboost-1.1-cp37-none-manylinux1_x86_64.whl (76.8 MB)\n",
            "\u001b[K     |████████████████████████████████| 76.8 MB 18 kB/s \n",
            "\u001b[?25hRequirement already satisfied: graphviz in /usr/local/lib/python3.7/dist-packages (from catboost) (0.10.1)\n",
            "Requirement already satisfied: six in /usr/local/lib/python3.7/dist-packages (from catboost) (1.15.0)\n",
            "Requirement already satisfied: scipy in /usr/local/lib/python3.7/dist-packages (from catboost) (1.7.3)\n",
            "Requirement already satisfied: numpy>=1.16.0 in /usr/local/lib/python3.7/dist-packages (from catboost) (1.21.6)\n",
            "Requirement already satisfied: pandas>=0.24.0 in /usr/local/lib/python3.7/dist-packages (from catboost) (1.3.5)\n",
            "Requirement already satisfied: matplotlib in /usr/local/lib/python3.7/dist-packages (from catboost) (3.2.2)\n",
            "Requirement already satisfied: plotly in /usr/local/lib/python3.7/dist-packages (from catboost) (5.5.0)\n",
            "Requirement already satisfied: python-dateutil>=2.7.3 in /usr/local/lib/python3.7/dist-packages (from pandas>=0.24.0->catboost) (2.8.2)\n",
            "Requirement already satisfied: pytz>=2017.3 in /usr/local/lib/python3.7/dist-packages (from pandas>=0.24.0->catboost) (2022.4)\n",
            "Requirement already satisfied: pyparsing!=2.0.4,!=2.1.2,!=2.1.6,>=2.0.1 in /usr/local/lib/python3.7/dist-packages (from matplotlib->catboost) (3.0.9)\n",
            "Requirement already satisfied: kiwisolver>=1.0.1 in /usr/local/lib/python3.7/dist-packages (from matplotlib->catboost) (1.4.4)\n",
            "Requirement already satisfied: cycler>=0.10 in /usr/local/lib/python3.7/dist-packages (from matplotlib->catboost) (0.11.0)\n",
            "Requirement already satisfied: typing-extensions in /usr/local/lib/python3.7/dist-packages (from kiwisolver>=1.0.1->matplotlib->catboost) (4.1.1)\n",
            "Requirement already satisfied: tenacity>=6.2.0 in /usr/local/lib/python3.7/dist-packages (from plotly->catboost) (8.1.0)\n",
            "Installing collected packages: catboost\n",
            "Successfully installed catboost-1.1\n"
          ]
        }
      ]
    },
    {
      "cell_type": "code",
      "source": [
        "from catboost import CatBoostRegressor"
      ],
      "metadata": {
        "id": "tou1HqUncd8j"
      },
      "execution_count": 182,
      "outputs": []
    },
    {
      "cell_type": "code",
      "source": [
        "catb_model = CatBoostRegressor().fit(X_train,y_train)"
      ],
      "metadata": {
        "colab": {
          "base_uri": "https://localhost:8080/"
        },
        "id": "YQsMSU1ocnX7",
        "outputId": "ddece732-d78a-4524-9e4a-cafb8495f32d"
      },
      "execution_count": 183,
      "outputs": [
        {
          "output_type": "stream",
          "name": "stdout",
          "text": [
            "Learning rate set to 0.031674\n",
            "0:\tlearn: 437.6430699\ttotal: 58.5ms\tremaining: 58.5s\n",
            "1:\tlearn: 431.3923642\ttotal: 61.7ms\tremaining: 30.8s\n",
            "2:\tlearn: 424.8820360\ttotal: 65.9ms\tremaining: 21.9s\n",
            "3:\tlearn: 418.2514904\ttotal: 74.6ms\tremaining: 18.6s\n",
            "4:\tlearn: 412.6394021\ttotal: 77.2ms\tremaining: 15.4s\n",
            "5:\tlearn: 406.6247020\ttotal: 81.5ms\tremaining: 13.5s\n",
            "6:\tlearn: 400.5321206\ttotal: 90ms\tremaining: 12.8s\n",
            "7:\tlearn: 394.6683437\ttotal: 97.7ms\tremaining: 12.1s\n",
            "8:\tlearn: 388.2496484\ttotal: 108ms\tremaining: 11.9s\n",
            "9:\tlearn: 382.9448842\ttotal: 110ms\tremaining: 10.9s\n",
            "10:\tlearn: 377.2600080\ttotal: 117ms\tremaining: 10.5s\n",
            "11:\tlearn: 372.4829606\ttotal: 121ms\tremaining: 9.96s\n",
            "12:\tlearn: 366.6823437\ttotal: 124ms\tremaining: 9.45s\n",
            "13:\tlearn: 362.6076230\ttotal: 129ms\tremaining: 9.06s\n",
            "14:\tlearn: 358.0107745\ttotal: 133ms\tremaining: 8.75s\n",
            "15:\tlearn: 353.2802665\ttotal: 144ms\tremaining: 8.86s\n",
            "16:\tlearn: 348.5646265\ttotal: 149ms\tremaining: 8.59s\n",
            "17:\tlearn: 343.6407912\ttotal: 166ms\tremaining: 9.08s\n",
            "18:\tlearn: 339.2363847\ttotal: 174ms\tremaining: 9s\n",
            "19:\tlearn: 334.3431252\ttotal: 179ms\tremaining: 8.76s\n",
            "20:\tlearn: 330.3247028\ttotal: 192ms\tremaining: 8.94s\n",
            "21:\tlearn: 326.6118334\ttotal: 196ms\tremaining: 8.72s\n",
            "22:\tlearn: 322.7759981\ttotal: 201ms\tremaining: 8.54s\n",
            "23:\tlearn: 318.9511822\ttotal: 209ms\tremaining: 8.5s\n",
            "24:\tlearn: 315.4216253\ttotal: 214ms\tremaining: 8.36s\n",
            "25:\tlearn: 311.3551377\ttotal: 222ms\tremaining: 8.31s\n",
            "26:\tlearn: 308.1492371\ttotal: 229ms\tremaining: 8.26s\n",
            "27:\tlearn: 304.7284729\ttotal: 240ms\tremaining: 8.32s\n",
            "28:\tlearn: 301.3893204\ttotal: 249ms\tremaining: 8.33s\n",
            "29:\tlearn: 298.2080758\ttotal: 253ms\tremaining: 8.17s\n",
            "30:\tlearn: 295.6878398\ttotal: 260ms\tremaining: 8.13s\n",
            "31:\tlearn: 292.3912243\ttotal: 267ms\tremaining: 8.08s\n",
            "32:\tlearn: 289.6345744\ttotal: 285ms\tremaining: 8.36s\n",
            "33:\tlearn: 287.2158711\ttotal: 293ms\tremaining: 8.31s\n",
            "34:\tlearn: 284.3879081\ttotal: 297ms\tremaining: 8.18s\n",
            "35:\tlearn: 281.7994818\ttotal: 304ms\tremaining: 8.15s\n",
            "36:\tlearn: 279.2028261\ttotal: 312ms\tremaining: 8.13s\n",
            "37:\tlearn: 276.5821160\ttotal: 320ms\tremaining: 8.11s\n",
            "38:\tlearn: 273.8890894\ttotal: 328ms\tremaining: 8.08s\n",
            "39:\tlearn: 271.1681677\ttotal: 336ms\tremaining: 8.05s\n",
            "40:\tlearn: 269.0159531\ttotal: 345ms\tremaining: 8.07s\n",
            "41:\tlearn: 266.3601804\ttotal: 349ms\tremaining: 7.96s\n",
            "42:\tlearn: 263.8608958\ttotal: 359ms\tremaining: 7.99s\n",
            "43:\tlearn: 261.1405566\ttotal: 363ms\tremaining: 7.89s\n",
            "44:\tlearn: 258.9314736\ttotal: 375ms\tremaining: 7.96s\n",
            "45:\tlearn: 256.3885577\ttotal: 379ms\tremaining: 7.86s\n",
            "46:\tlearn: 254.2857349\ttotal: 399ms\tremaining: 8.08s\n",
            "47:\tlearn: 252.2347121\ttotal: 407ms\tremaining: 8.08s\n",
            "48:\tlearn: 250.1779367\ttotal: 417ms\tremaining: 8.09s\n",
            "49:\tlearn: 248.2687430\ttotal: 423ms\tremaining: 8.03s\n",
            "50:\tlearn: 246.3685582\ttotal: 427ms\tremaining: 7.94s\n",
            "51:\tlearn: 244.8719988\ttotal: 436ms\tremaining: 7.95s\n",
            "52:\tlearn: 242.7348892\ttotal: 440ms\tremaining: 7.86s\n",
            "53:\tlearn: 241.1611112\ttotal: 449ms\tremaining: 7.86s\n",
            "54:\tlearn: 239.4819462\ttotal: 457ms\tremaining: 7.86s\n",
            "55:\tlearn: 237.3877895\ttotal: 461ms\tremaining: 7.78s\n",
            "56:\tlearn: 235.7619262\ttotal: 471ms\tremaining: 7.8s\n",
            "57:\tlearn: 233.9604804\ttotal: 479ms\tremaining: 7.78s\n",
            "58:\tlearn: 232.4948011\ttotal: 487ms\tremaining: 7.77s\n",
            "59:\tlearn: 230.6283304\ttotal: 491ms\tremaining: 7.7s\n",
            "60:\tlearn: 228.9920307\ttotal: 505ms\tremaining: 7.77s\n",
            "61:\tlearn: 227.5197637\ttotal: 509ms\tremaining: 7.7s\n",
            "62:\tlearn: 226.0561213\ttotal: 517ms\tremaining: 7.69s\n",
            "63:\tlearn: 224.3484762\ttotal: 528ms\tremaining: 7.72s\n",
            "64:\tlearn: 223.0652023\ttotal: 536ms\tremaining: 7.71s\n",
            "65:\tlearn: 221.6608069\ttotal: 540ms\tremaining: 7.64s\n",
            "66:\tlearn: 220.2445284\ttotal: 556ms\tremaining: 7.75s\n",
            "67:\tlearn: 219.0044262\ttotal: 560ms\tremaining: 7.68s\n",
            "68:\tlearn: 217.4624313\ttotal: 563ms\tremaining: 7.59s\n",
            "69:\tlearn: 216.0502248\ttotal: 565ms\tremaining: 7.51s\n",
            "70:\tlearn: 214.5361705\ttotal: 567ms\tremaining: 7.42s\n",
            "71:\tlearn: 213.1812509\ttotal: 571ms\tremaining: 7.36s\n",
            "72:\tlearn: 211.7399390\ttotal: 580ms\tremaining: 7.36s\n",
            "73:\tlearn: 210.5557639\ttotal: 594ms\tremaining: 7.44s\n",
            "74:\tlearn: 209.4242283\ttotal: 602ms\tremaining: 7.42s\n",
            "75:\tlearn: 208.4366109\ttotal: 604ms\tremaining: 7.34s\n",
            "76:\tlearn: 207.4514860\ttotal: 611ms\tremaining: 7.32s\n",
            "77:\tlearn: 206.1912213\ttotal: 613ms\tremaining: 7.24s\n",
            "78:\tlearn: 205.2585316\ttotal: 620ms\tremaining: 7.23s\n",
            "79:\tlearn: 203.8747879\ttotal: 622ms\tremaining: 7.16s\n",
            "80:\tlearn: 202.5993031\ttotal: 629ms\tremaining: 7.14s\n",
            "81:\tlearn: 201.4719061\ttotal: 632ms\tremaining: 7.07s\n",
            "82:\tlearn: 200.2871874\ttotal: 639ms\tremaining: 7.06s\n",
            "83:\tlearn: 199.1074683\ttotal: 641ms\tremaining: 6.99s\n",
            "84:\tlearn: 197.8511342\ttotal: 648ms\tremaining: 6.97s\n",
            "85:\tlearn: 196.8788042\ttotal: 650ms\tremaining: 6.91s\n",
            "86:\tlearn: 195.9815130\ttotal: 656ms\tremaining: 6.89s\n",
            "87:\tlearn: 195.0807956\ttotal: 663ms\tremaining: 6.87s\n",
            "88:\tlearn: 193.9775466\ttotal: 665ms\tremaining: 6.81s\n",
            "89:\tlearn: 192.8810426\ttotal: 677ms\tremaining: 6.84s\n",
            "90:\tlearn: 192.5363626\ttotal: 679ms\tremaining: 6.78s\n",
            "91:\tlearn: 191.3259849\ttotal: 685ms\tremaining: 6.76s\n",
            "92:\tlearn: 190.3650025\ttotal: 687ms\tremaining: 6.7s\n",
            "93:\tlearn: 189.3255643\ttotal: 696ms\tremaining: 6.7s\n",
            "94:\tlearn: 188.2433480\ttotal: 699ms\tremaining: 6.66s\n",
            "95:\tlearn: 187.2786096\ttotal: 708ms\tremaining: 6.66s\n",
            "96:\tlearn: 186.1284681\ttotal: 722ms\tremaining: 6.72s\n",
            "97:\tlearn: 185.0190872\ttotal: 734ms\tremaining: 6.76s\n",
            "98:\tlearn: 184.2888024\ttotal: 740ms\tremaining: 6.73s\n",
            "99:\tlearn: 183.3111217\ttotal: 743ms\tremaining: 6.68s\n",
            "100:\tlearn: 182.2519940\ttotal: 752ms\tremaining: 6.69s\n",
            "101:\tlearn: 181.0186200\ttotal: 758ms\tremaining: 6.67s\n",
            "102:\tlearn: 179.9672344\ttotal: 760ms\tremaining: 6.62s\n",
            "103:\tlearn: 178.9776753\ttotal: 771ms\tremaining: 6.64s\n",
            "104:\tlearn: 178.2445101\ttotal: 775ms\tremaining: 6.61s\n",
            "105:\tlearn: 177.4055906\ttotal: 783ms\tremaining: 6.6s\n",
            "106:\tlearn: 176.2405445\ttotal: 792ms\tremaining: 6.61s\n",
            "107:\tlearn: 175.1813091\ttotal: 797ms\tremaining: 6.58s\n",
            "108:\tlearn: 174.5537682\ttotal: 800ms\tremaining: 6.54s\n",
            "109:\tlearn: 173.8231890\ttotal: 816ms\tremaining: 6.6s\n",
            "110:\tlearn: 172.9324461\ttotal: 820ms\tremaining: 6.57s\n",
            "111:\tlearn: 172.0019421\ttotal: 828ms\tremaining: 6.57s\n",
            "112:\tlearn: 171.2945678\ttotal: 836ms\tremaining: 6.56s\n",
            "113:\tlearn: 170.4815313\ttotal: 845ms\tremaining: 6.57s\n",
            "114:\tlearn: 169.9491294\ttotal: 851ms\tremaining: 6.55s\n",
            "115:\tlearn: 169.2483859\ttotal: 861ms\tremaining: 6.56s\n",
            "116:\tlearn: 168.7342383\ttotal: 880ms\tremaining: 6.64s\n",
            "117:\tlearn: 168.1837140\ttotal: 886ms\tremaining: 6.62s\n",
            "118:\tlearn: 167.1222358\ttotal: 890ms\tremaining: 6.59s\n",
            "119:\tlearn: 166.3472734\ttotal: 904ms\tremaining: 6.63s\n",
            "120:\tlearn: 165.5330342\ttotal: 910ms\tremaining: 6.61s\n",
            "121:\tlearn: 164.8476246\ttotal: 915ms\tremaining: 6.59s\n",
            "122:\tlearn: 164.2399797\ttotal: 921ms\tremaining: 6.57s\n",
            "123:\tlearn: 164.0121571\ttotal: 929ms\tremaining: 6.56s\n",
            "124:\tlearn: 162.9794212\ttotal: 937ms\tremaining: 6.56s\n",
            "125:\tlearn: 162.2095741\ttotal: 945ms\tremaining: 6.56s\n",
            "126:\tlearn: 161.1695920\ttotal: 954ms\tremaining: 6.56s\n",
            "127:\tlearn: 160.3516612\ttotal: 962ms\tremaining: 6.55s\n",
            "128:\tlearn: 159.1596356\ttotal: 970ms\tremaining: 6.55s\n",
            "129:\tlearn: 158.5354394\ttotal: 978ms\tremaining: 6.55s\n",
            "130:\tlearn: 157.5922383\ttotal: 987ms\tremaining: 6.54s\n",
            "131:\tlearn: 156.9689796\ttotal: 995ms\tremaining: 6.54s\n",
            "132:\tlearn: 156.4170623\ttotal: 1.01s\tremaining: 6.59s\n",
            "133:\tlearn: 156.1222595\ttotal: 1.01s\tremaining: 6.56s\n",
            "134:\tlearn: 155.5996569\ttotal: 1.02s\tremaining: 6.55s\n",
            "135:\tlearn: 154.8990155\ttotal: 1.03s\tremaining: 6.55s\n",
            "136:\tlearn: 154.3704896\ttotal: 1.04s\tremaining: 6.56s\n",
            "137:\tlearn: 153.8560012\ttotal: 1.04s\tremaining: 6.53s\n",
            "138:\tlearn: 153.2399938\ttotal: 1.06s\tremaining: 6.57s\n",
            "139:\tlearn: 152.2142414\ttotal: 1.06s\tremaining: 6.54s\n",
            "140:\tlearn: 151.5976950\ttotal: 1.07s\tremaining: 6.51s\n",
            "141:\tlearn: 151.4426506\ttotal: 1.07s\tremaining: 6.47s\n",
            "142:\tlearn: 150.8467135\ttotal: 1.07s\tremaining: 6.44s\n",
            "143:\tlearn: 150.0175883\ttotal: 1.08s\tremaining: 6.45s\n",
            "144:\tlearn: 149.6327647\ttotal: 1.09s\tremaining: 6.41s\n",
            "145:\tlearn: 148.9265718\ttotal: 1.09s\tremaining: 6.37s\n",
            "146:\tlearn: 148.4460764\ttotal: 1.1s\tremaining: 6.37s\n",
            "147:\tlearn: 147.8108318\ttotal: 1.1s\tremaining: 6.33s\n",
            "148:\tlearn: 147.2766525\ttotal: 1.1s\tremaining: 6.3s\n",
            "149:\tlearn: 146.8537279\ttotal: 1.1s\tremaining: 6.26s\n",
            "150:\tlearn: 146.0227438\ttotal: 1.11s\tremaining: 6.24s\n",
            "151:\tlearn: 145.5603059\ttotal: 1.11s\tremaining: 6.2s\n",
            "152:\tlearn: 145.0318400\ttotal: 1.11s\tremaining: 6.16s\n",
            "153:\tlearn: 144.6082188\ttotal: 1.11s\tremaining: 6.13s\n",
            "154:\tlearn: 144.2070501\ttotal: 1.13s\tremaining: 6.16s\n",
            "155:\tlearn: 143.8060676\ttotal: 1.14s\tremaining: 6.16s\n",
            "156:\tlearn: 143.3819707\ttotal: 1.14s\tremaining: 6.12s\n",
            "157:\tlearn: 143.0764402\ttotal: 1.17s\tremaining: 6.26s\n",
            "158:\tlearn: 142.4609449\ttotal: 1.19s\tremaining: 6.28s\n",
            "159:\tlearn: 142.3321970\ttotal: 1.2s\tremaining: 6.28s\n",
            "160:\tlearn: 141.9044208\ttotal: 1.21s\tremaining: 6.28s\n",
            "161:\tlearn: 141.4544471\ttotal: 1.21s\tremaining: 6.28s\n",
            "162:\tlearn: 140.9391569\ttotal: 1.22s\tremaining: 6.28s\n",
            "163:\tlearn: 140.3413557\ttotal: 1.23s\tremaining: 6.28s\n",
            "164:\tlearn: 139.7992277\ttotal: 1.24s\tremaining: 6.28s\n",
            "165:\tlearn: 139.3139418\ttotal: 1.24s\tremaining: 6.25s\n",
            "166:\tlearn: 139.1617594\ttotal: 1.25s\tremaining: 6.25s\n",
            "167:\tlearn: 138.8837397\ttotal: 1.29s\tremaining: 6.37s\n",
            "168:\tlearn: 138.6951410\ttotal: 1.29s\tremaining: 6.36s\n",
            "169:\tlearn: 138.0167618\ttotal: 1.3s\tremaining: 6.37s\n",
            "170:\tlearn: 137.7020324\ttotal: 1.31s\tremaining: 6.36s\n",
            "171:\tlearn: 137.1976478\ttotal: 1.33s\tremaining: 6.43s\n",
            "172:\tlearn: 136.6670434\ttotal: 1.34s\tremaining: 6.41s\n",
            "173:\tlearn: 136.4670074\ttotal: 1.35s\tremaining: 6.43s\n",
            "174:\tlearn: 136.0663779\ttotal: 1.37s\tremaining: 6.45s\n",
            "175:\tlearn: 135.9542221\ttotal: 1.37s\tremaining: 6.44s\n",
            "176:\tlearn: 135.6178437\ttotal: 1.39s\tremaining: 6.48s\n",
            "177:\tlearn: 134.6062854\ttotal: 1.4s\tremaining: 6.48s\n",
            "178:\tlearn: 134.5063344\ttotal: 1.41s\tremaining: 6.47s\n",
            "179:\tlearn: 133.9371247\ttotal: 1.42s\tremaining: 6.46s\n",
            "180:\tlearn: 133.8431589\ttotal: 1.43s\tremaining: 6.45s\n",
            "181:\tlearn: 133.4293648\ttotal: 1.43s\tremaining: 6.44s\n",
            "182:\tlearn: 133.2065999\ttotal: 1.45s\tremaining: 6.45s\n",
            "183:\tlearn: 132.9235113\ttotal: 1.45s\tremaining: 6.45s\n",
            "184:\tlearn: 132.6695944\ttotal: 1.46s\tremaining: 6.45s\n",
            "185:\tlearn: 132.3135234\ttotal: 1.47s\tremaining: 6.45s\n",
            "186:\tlearn: 132.2233433\ttotal: 1.48s\tremaining: 6.45s\n",
            "187:\tlearn: 132.0628764\ttotal: 1.5s\tremaining: 6.46s\n",
            "188:\tlearn: 131.8624217\ttotal: 1.52s\tremaining: 6.53s\n",
            "189:\tlearn: 131.3846390\ttotal: 1.53s\tremaining: 6.53s\n",
            "190:\tlearn: 131.0638781\ttotal: 1.54s\tremaining: 6.52s\n",
            "191:\tlearn: 130.4721276\ttotal: 1.54s\tremaining: 6.49s\n",
            "192:\tlearn: 129.9910319\ttotal: 1.55s\tremaining: 6.47s\n",
            "193:\tlearn: 129.7074214\ttotal: 1.56s\tremaining: 6.47s\n",
            "194:\tlearn: 129.0491404\ttotal: 1.56s\tremaining: 6.44s\n",
            "195:\tlearn: 128.6928621\ttotal: 1.57s\tremaining: 6.43s\n",
            "196:\tlearn: 128.5117514\ttotal: 1.57s\tremaining: 6.4s\n",
            "197:\tlearn: 128.4035709\ttotal: 1.57s\tremaining: 6.38s\n",
            "198:\tlearn: 127.9924182\ttotal: 1.58s\tremaining: 6.38s\n",
            "199:\tlearn: 127.7690317\ttotal: 1.6s\tremaining: 6.38s\n",
            "200:\tlearn: 127.6252249\ttotal: 1.6s\tremaining: 6.37s\n",
            "201:\tlearn: 127.4951417\ttotal: 1.61s\tremaining: 6.35s\n",
            "202:\tlearn: 127.0315349\ttotal: 1.61s\tremaining: 6.34s\n",
            "203:\tlearn: 126.7791475\ttotal: 1.62s\tremaining: 6.32s\n",
            "204:\tlearn: 126.4903107\ttotal: 1.63s\tremaining: 6.3s\n",
            "205:\tlearn: 126.0664803\ttotal: 1.63s\tremaining: 6.29s\n",
            "206:\tlearn: 125.3934071\ttotal: 1.64s\tremaining: 6.29s\n",
            "207:\tlearn: 125.0899622\ttotal: 1.65s\tremaining: 6.28s\n",
            "208:\tlearn: 124.7757310\ttotal: 1.66s\tremaining: 6.27s\n",
            "209:\tlearn: 124.5475960\ttotal: 1.66s\tremaining: 6.26s\n",
            "210:\tlearn: 124.1962887\ttotal: 1.67s\tremaining: 6.25s\n",
            "211:\tlearn: 123.9686937\ttotal: 1.68s\tremaining: 6.24s\n",
            "212:\tlearn: 123.0280048\ttotal: 1.69s\tremaining: 6.24s\n",
            "213:\tlearn: 122.5447141\ttotal: 1.7s\tremaining: 6.24s\n",
            "214:\tlearn: 122.1785305\ttotal: 1.71s\tremaining: 6.23s\n",
            "215:\tlearn: 121.4403560\ttotal: 1.72s\tremaining: 6.23s\n",
            "216:\tlearn: 120.8269584\ttotal: 1.72s\tremaining: 6.22s\n",
            "217:\tlearn: 120.2399329\ttotal: 1.73s\tremaining: 6.21s\n",
            "218:\tlearn: 119.4852557\ttotal: 1.73s\tremaining: 6.18s\n",
            "219:\tlearn: 119.2094151\ttotal: 1.74s\tremaining: 6.18s\n",
            "220:\tlearn: 119.0417229\ttotal: 1.75s\tremaining: 6.18s\n",
            "221:\tlearn: 118.9557915\ttotal: 1.76s\tremaining: 6.17s\n",
            "222:\tlearn: 118.3082421\ttotal: 1.77s\tremaining: 6.16s\n",
            "223:\tlearn: 117.7364211\ttotal: 1.78s\tremaining: 6.16s\n",
            "224:\tlearn: 117.6324235\ttotal: 1.78s\tremaining: 6.15s\n",
            "225:\tlearn: 117.2879743\ttotal: 1.8s\tremaining: 6.16s\n",
            "226:\tlearn: 117.0422612\ttotal: 1.8s\tremaining: 6.14s\n",
            "227:\tlearn: 116.8001379\ttotal: 1.83s\tremaining: 6.2s\n",
            "228:\tlearn: 116.4854978\ttotal: 1.84s\tremaining: 6.19s\n",
            "229:\tlearn: 115.7559740\ttotal: 1.84s\tremaining: 6.17s\n",
            "230:\tlearn: 115.1896271\ttotal: 1.86s\tremaining: 6.19s\n",
            "231:\tlearn: 114.9666291\ttotal: 1.86s\tremaining: 6.17s\n",
            "232:\tlearn: 114.1239318\ttotal: 1.87s\tremaining: 6.16s\n",
            "233:\tlearn: 113.9964466\ttotal: 1.88s\tremaining: 6.15s\n",
            "234:\tlearn: 113.8912592\ttotal: 1.88s\tremaining: 6.13s\n",
            "235:\tlearn: 113.4606970\ttotal: 1.89s\tremaining: 6.13s\n",
            "236:\tlearn: 113.0958922\ttotal: 1.9s\tremaining: 6.13s\n",
            "237:\tlearn: 113.0091361\ttotal: 1.91s\tremaining: 6.11s\n",
            "238:\tlearn: 112.7657197\ttotal: 1.91s\tremaining: 6.09s\n",
            "239:\tlearn: 112.2315070\ttotal: 1.92s\tremaining: 6.08s\n",
            "240:\tlearn: 111.9507125\ttotal: 1.93s\tremaining: 6.07s\n",
            "241:\tlearn: 111.7384492\ttotal: 1.94s\tremaining: 6.06s\n",
            "242:\tlearn: 111.0693763\ttotal: 1.94s\tremaining: 6.05s\n",
            "243:\tlearn: 110.3499926\ttotal: 1.95s\tremaining: 6.05s\n",
            "244:\tlearn: 110.2316231\ttotal: 1.96s\tremaining: 6.05s\n",
            "245:\tlearn: 109.6985998\ttotal: 1.97s\tremaining: 6.04s\n",
            "246:\tlearn: 109.4279824\ttotal: 1.98s\tremaining: 6.03s\n",
            "247:\tlearn: 109.1466762\ttotal: 1.99s\tremaining: 6.02s\n",
            "248:\tlearn: 108.9628542\ttotal: 1.99s\tremaining: 6.01s\n",
            "249:\tlearn: 108.7268676\ttotal: 2s\tremaining: 6.01s\n",
            "250:\tlearn: 108.0921190\ttotal: 2.01s\tremaining: 6.01s\n",
            "251:\tlearn: 107.6167844\ttotal: 2.02s\tremaining: 5.99s\n",
            "252:\tlearn: 106.9716563\ttotal: 2.02s\tremaining: 5.98s\n",
            "253:\tlearn: 106.4272485\ttotal: 2.04s\tremaining: 5.99s\n",
            "254:\tlearn: 106.2032614\ttotal: 2.04s\tremaining: 5.98s\n",
            "255:\tlearn: 105.5756794\ttotal: 2.05s\tremaining: 5.97s\n",
            "256:\tlearn: 105.4918649\ttotal: 2.06s\tremaining: 5.96s\n",
            "257:\tlearn: 105.2466976\ttotal: 2.07s\tremaining: 5.95s\n",
            "258:\tlearn: 105.0461428\ttotal: 2.07s\tremaining: 5.93s\n",
            "259:\tlearn: 104.5887628\ttotal: 2.08s\tremaining: 5.91s\n",
            "260:\tlearn: 104.1305873\ttotal: 2.08s\tremaining: 5.88s\n",
            "261:\tlearn: 103.5527158\ttotal: 2.08s\tremaining: 5.87s\n",
            "262:\tlearn: 103.0334823\ttotal: 2.09s\tremaining: 5.85s\n",
            "263:\tlearn: 102.6732388\ttotal: 2.09s\tremaining: 5.83s\n",
            "264:\tlearn: 102.4678728\ttotal: 2.1s\tremaining: 5.81s\n",
            "265:\tlearn: 101.9608852\ttotal: 2.1s\tremaining: 5.79s\n",
            "266:\tlearn: 101.4449668\ttotal: 2.1s\tremaining: 5.77s\n",
            "267:\tlearn: 100.9647899\ttotal: 2.1s\tremaining: 5.74s\n",
            "268:\tlearn: 100.4376357\ttotal: 2.11s\tremaining: 5.72s\n",
            "269:\tlearn: 100.1038322\ttotal: 2.11s\tremaining: 5.72s\n",
            "270:\tlearn: 99.8991183\ttotal: 2.13s\tremaining: 5.73s\n",
            "271:\tlearn: 99.4016031\ttotal: 2.13s\tremaining: 5.71s\n",
            "272:\tlearn: 98.9231252\ttotal: 2.14s\tremaining: 5.69s\n",
            "273:\tlearn: 98.5734863\ttotal: 2.14s\tremaining: 5.67s\n",
            "274:\tlearn: 98.3333355\ttotal: 2.14s\tremaining: 5.65s\n",
            "275:\tlearn: 97.9164082\ttotal: 2.15s\tremaining: 5.63s\n",
            "276:\tlearn: 97.3911203\ttotal: 2.15s\tremaining: 5.6s\n",
            "277:\tlearn: 96.9317789\ttotal: 2.15s\tremaining: 5.58s\n",
            "278:\tlearn: 96.6243997\ttotal: 2.15s\tremaining: 5.57s\n",
            "279:\tlearn: 96.3288821\ttotal: 2.15s\tremaining: 5.54s\n",
            "280:\tlearn: 95.8579534\ttotal: 2.16s\tremaining: 5.52s\n",
            "281:\tlearn: 95.4136026\ttotal: 2.16s\tremaining: 5.5s\n",
            "282:\tlearn: 95.3442077\ttotal: 2.16s\tremaining: 5.48s\n",
            "283:\tlearn: 95.1166584\ttotal: 2.17s\tremaining: 5.46s\n",
            "284:\tlearn: 94.8017360\ttotal: 2.17s\tremaining: 5.44s\n",
            "285:\tlearn: 94.5863908\ttotal: 2.17s\tremaining: 5.42s\n",
            "286:\tlearn: 94.4111694\ttotal: 2.17s\tremaining: 5.4s\n",
            "287:\tlearn: 94.2678024\ttotal: 2.18s\tremaining: 5.38s\n",
            "288:\tlearn: 93.7753419\ttotal: 2.18s\tremaining: 5.36s\n",
            "289:\tlearn: 93.3772710\ttotal: 2.18s\tremaining: 5.34s\n",
            "290:\tlearn: 92.8750904\ttotal: 2.19s\tremaining: 5.33s\n",
            "291:\tlearn: 92.6654794\ttotal: 2.19s\tremaining: 5.31s\n",
            "292:\tlearn: 92.2659876\ttotal: 2.19s\tremaining: 5.29s\n",
            "293:\tlearn: 92.0282495\ttotal: 2.19s\tremaining: 5.27s\n",
            "294:\tlearn: 91.8288855\ttotal: 2.2s\tremaining: 5.25s\n",
            "295:\tlearn: 91.6752612\ttotal: 2.21s\tremaining: 5.26s\n",
            "296:\tlearn: 91.2561883\ttotal: 2.22s\tremaining: 5.25s\n",
            "297:\tlearn: 91.0227123\ttotal: 2.22s\tremaining: 5.23s\n",
            "298:\tlearn: 90.8392142\ttotal: 2.22s\tremaining: 5.21s\n",
            "299:\tlearn: 90.6853014\ttotal: 2.22s\tremaining: 5.19s\n",
            "300:\tlearn: 90.5986761\ttotal: 2.23s\tremaining: 5.17s\n",
            "301:\tlearn: 90.2180036\ttotal: 2.23s\tremaining: 5.15s\n",
            "302:\tlearn: 89.8313622\ttotal: 2.23s\tremaining: 5.13s\n",
            "303:\tlearn: 89.6872837\ttotal: 2.23s\tremaining: 5.11s\n",
            "304:\tlearn: 89.3853276\ttotal: 2.24s\tremaining: 5.1s\n",
            "305:\tlearn: 88.9459206\ttotal: 2.24s\tremaining: 5.08s\n",
            "306:\tlearn: 88.7258770\ttotal: 2.24s\tremaining: 5.06s\n",
            "307:\tlearn: 88.5374358\ttotal: 2.25s\tremaining: 5.04s\n",
            "308:\tlearn: 88.0624447\ttotal: 2.25s\tremaining: 5.03s\n",
            "309:\tlearn: 87.7942692\ttotal: 2.25s\tremaining: 5.01s\n",
            "310:\tlearn: 87.6354184\ttotal: 2.25s\tremaining: 4.99s\n",
            "311:\tlearn: 87.4879486\ttotal: 2.25s\tremaining: 4.97s\n",
            "312:\tlearn: 87.0294739\ttotal: 2.26s\tremaining: 4.96s\n",
            "313:\tlearn: 86.6746221\ttotal: 2.26s\tremaining: 4.94s\n",
            "314:\tlearn: 86.2792146\ttotal: 2.27s\tremaining: 4.93s\n",
            "315:\tlearn: 86.2127070\ttotal: 2.27s\tremaining: 4.91s\n",
            "316:\tlearn: 86.1507368\ttotal: 2.27s\tremaining: 4.9s\n",
            "317:\tlearn: 85.7089141\ttotal: 2.28s\tremaining: 4.89s\n",
            "318:\tlearn: 85.6035137\ttotal: 2.28s\tremaining: 4.88s\n",
            "319:\tlearn: 85.3587988\ttotal: 2.29s\tremaining: 4.87s\n",
            "320:\tlearn: 84.9660906\ttotal: 2.31s\tremaining: 4.88s\n",
            "321:\tlearn: 84.5474713\ttotal: 2.31s\tremaining: 4.86s\n",
            "322:\tlearn: 84.1996852\ttotal: 2.32s\tremaining: 4.86s\n",
            "323:\tlearn: 84.0654282\ttotal: 2.33s\tremaining: 4.85s\n",
            "324:\tlearn: 83.7937327\ttotal: 2.33s\tremaining: 4.85s\n",
            "325:\tlearn: 83.5064288\ttotal: 2.34s\tremaining: 4.83s\n",
            "326:\tlearn: 83.3997655\ttotal: 2.34s\tremaining: 4.82s\n",
            "327:\tlearn: 83.2958622\ttotal: 2.34s\tremaining: 4.8s\n",
            "328:\tlearn: 82.9877578\ttotal: 2.35s\tremaining: 4.78s\n",
            "329:\tlearn: 82.6286638\ttotal: 2.35s\tremaining: 4.77s\n",
            "330:\tlearn: 82.2827132\ttotal: 2.35s\tremaining: 4.75s\n",
            "331:\tlearn: 82.0895251\ttotal: 2.35s\tremaining: 4.74s\n",
            "332:\tlearn: 82.0130649\ttotal: 2.36s\tremaining: 4.72s\n",
            "333:\tlearn: 81.6771734\ttotal: 2.36s\tremaining: 4.71s\n",
            "334:\tlearn: 81.3519124\ttotal: 2.36s\tremaining: 4.69s\n",
            "335:\tlearn: 81.0170326\ttotal: 2.36s\tremaining: 4.67s\n",
            "336:\tlearn: 80.6917886\ttotal: 2.37s\tremaining: 4.66s\n",
            "337:\tlearn: 80.3455177\ttotal: 2.37s\tremaining: 4.64s\n",
            "338:\tlearn: 80.0260727\ttotal: 2.37s\tremaining: 4.63s\n",
            "339:\tlearn: 79.9154748\ttotal: 2.38s\tremaining: 4.61s\n",
            "340:\tlearn: 79.7813079\ttotal: 2.38s\tremaining: 4.6s\n",
            "341:\tlearn: 79.3513293\ttotal: 2.38s\tremaining: 4.58s\n",
            "342:\tlearn: 78.8666019\ttotal: 2.38s\tremaining: 4.57s\n",
            "343:\tlearn: 78.7959013\ttotal: 2.39s\tremaining: 4.55s\n",
            "344:\tlearn: 78.7081334\ttotal: 2.39s\tremaining: 4.53s\n",
            "345:\tlearn: 78.3354931\ttotal: 2.39s\tremaining: 4.52s\n",
            "346:\tlearn: 77.9475067\ttotal: 2.39s\tremaining: 4.51s\n",
            "347:\tlearn: 77.8910420\ttotal: 2.4s\tremaining: 4.49s\n",
            "348:\tlearn: 77.5461672\ttotal: 2.4s\tremaining: 4.47s\n",
            "349:\tlearn: 77.3717101\ttotal: 2.4s\tremaining: 4.46s\n",
            "350:\tlearn: 77.0729657\ttotal: 2.4s\tremaining: 4.45s\n",
            "351:\tlearn: 76.7699287\ttotal: 2.41s\tremaining: 4.43s\n",
            "352:\tlearn: 76.6029759\ttotal: 2.41s\tremaining: 4.42s\n",
            "353:\tlearn: 76.1642615\ttotal: 2.41s\tremaining: 4.4s\n",
            "354:\tlearn: 76.1202523\ttotal: 2.42s\tremaining: 4.39s\n",
            "355:\tlearn: 75.9487132\ttotal: 2.42s\tremaining: 4.38s\n",
            "356:\tlearn: 75.6748479\ttotal: 2.42s\tremaining: 4.36s\n",
            "357:\tlearn: 75.4290864\ttotal: 2.42s\tremaining: 4.35s\n",
            "358:\tlearn: 75.0463849\ttotal: 2.43s\tremaining: 4.33s\n",
            "359:\tlearn: 74.9902381\ttotal: 2.43s\tremaining: 4.32s\n",
            "360:\tlearn: 74.5243875\ttotal: 2.43s\tremaining: 4.31s\n",
            "361:\tlearn: 74.1913065\ttotal: 2.44s\tremaining: 4.29s\n",
            "362:\tlearn: 73.8413359\ttotal: 2.44s\tremaining: 4.28s\n",
            "363:\tlearn: 73.7602119\ttotal: 2.44s\tremaining: 4.27s\n",
            "364:\tlearn: 73.3278135\ttotal: 2.44s\tremaining: 4.25s\n",
            "365:\tlearn: 72.9524336\ttotal: 2.45s\tremaining: 4.24s\n",
            "366:\tlearn: 72.6791856\ttotal: 2.45s\tremaining: 4.22s\n",
            "367:\tlearn: 72.4333577\ttotal: 2.45s\tremaining: 4.21s\n",
            "368:\tlearn: 72.1672937\ttotal: 2.46s\tremaining: 4.2s\n",
            "369:\tlearn: 71.9070276\ttotal: 2.46s\tremaining: 4.18s\n",
            "370:\tlearn: 71.5496196\ttotal: 2.46s\tremaining: 4.17s\n",
            "371:\tlearn: 71.3161902\ttotal: 2.46s\tremaining: 4.16s\n",
            "372:\tlearn: 71.1259191\ttotal: 2.47s\tremaining: 4.15s\n",
            "373:\tlearn: 70.9889962\ttotal: 2.47s\tremaining: 4.13s\n",
            "374:\tlearn: 70.7417966\ttotal: 2.47s\tremaining: 4.12s\n",
            "375:\tlearn: 70.4931174\ttotal: 2.48s\tremaining: 4.11s\n",
            "376:\tlearn: 70.3300576\ttotal: 2.48s\tremaining: 4.1s\n",
            "377:\tlearn: 69.9233248\ttotal: 2.48s\tremaining: 4.09s\n",
            "378:\tlearn: 69.6261005\ttotal: 2.49s\tremaining: 4.08s\n",
            "379:\tlearn: 69.3989708\ttotal: 2.49s\tremaining: 4.06s\n",
            "380:\tlearn: 69.0085387\ttotal: 2.5s\tremaining: 4.06s\n",
            "381:\tlearn: 68.7604153\ttotal: 2.51s\tremaining: 4.06s\n",
            "382:\tlearn: 68.4602767\ttotal: 2.52s\tremaining: 4.05s\n",
            "383:\tlearn: 68.1005452\ttotal: 2.52s\tremaining: 4.04s\n",
            "384:\tlearn: 68.0540467\ttotal: 2.54s\tremaining: 4.06s\n",
            "385:\tlearn: 67.8972753\ttotal: 2.55s\tremaining: 4.06s\n",
            "386:\tlearn: 67.5389629\ttotal: 2.55s\tremaining: 4.04s\n",
            "387:\tlearn: 67.2390178\ttotal: 2.56s\tremaining: 4.03s\n",
            "388:\tlearn: 67.0279888\ttotal: 2.57s\tremaining: 4.03s\n",
            "389:\tlearn: 66.8375919\ttotal: 2.57s\tremaining: 4.02s\n",
            "390:\tlearn: 66.4118315\ttotal: 2.58s\tremaining: 4.02s\n",
            "391:\tlearn: 66.3642690\ttotal: 2.59s\tremaining: 4.01s\n",
            "392:\tlearn: 66.1673138\ttotal: 2.59s\tremaining: 4s\n",
            "393:\tlearn: 66.0177482\ttotal: 2.59s\tremaining: 3.99s\n",
            "394:\tlearn: 65.8018038\ttotal: 2.6s\tremaining: 3.99s\n",
            "395:\tlearn: 65.6886505\ttotal: 2.61s\tremaining: 3.98s\n",
            "396:\tlearn: 65.6120185\ttotal: 2.62s\tremaining: 3.98s\n",
            "397:\tlearn: 65.5746662\ttotal: 2.63s\tremaining: 3.98s\n",
            "398:\tlearn: 65.2974851\ttotal: 2.66s\tremaining: 4.01s\n",
            "399:\tlearn: 65.2464764\ttotal: 2.68s\tremaining: 4.03s\n",
            "400:\tlearn: 65.1241314\ttotal: 2.69s\tremaining: 4.03s\n",
            "401:\tlearn: 65.0515740\ttotal: 2.71s\tremaining: 4.03s\n",
            "402:\tlearn: 64.8089636\ttotal: 2.72s\tremaining: 4.03s\n",
            "403:\tlearn: 64.5992230\ttotal: 2.75s\tremaining: 4.05s\n",
            "404:\tlearn: 64.2907010\ttotal: 2.76s\tremaining: 4.05s\n",
            "405:\tlearn: 64.1568642\ttotal: 2.77s\tremaining: 4.05s\n",
            "406:\tlearn: 63.8279106\ttotal: 2.78s\tremaining: 4.05s\n",
            "407:\tlearn: 63.5558565\ttotal: 2.79s\tremaining: 4.05s\n",
            "408:\tlearn: 63.3865445\ttotal: 2.8s\tremaining: 4.05s\n",
            "409:\tlearn: 63.2752408\ttotal: 2.81s\tremaining: 4.04s\n",
            "410:\tlearn: 63.1070190\ttotal: 2.82s\tremaining: 4.04s\n",
            "411:\tlearn: 62.7868376\ttotal: 2.82s\tremaining: 4.03s\n",
            "412:\tlearn: 62.5345803\ttotal: 2.83s\tremaining: 4.03s\n",
            "413:\tlearn: 62.2729058\ttotal: 2.84s\tremaining: 4.03s\n",
            "414:\tlearn: 61.9850985\ttotal: 2.85s\tremaining: 4.02s\n",
            "415:\tlearn: 61.7784164\ttotal: 2.85s\tremaining: 4.01s\n",
            "416:\tlearn: 61.7431976\ttotal: 2.87s\tremaining: 4.01s\n",
            "417:\tlearn: 61.4309964\ttotal: 2.89s\tremaining: 4.02s\n",
            "418:\tlearn: 61.3513660\ttotal: 2.9s\tremaining: 4.02s\n",
            "419:\tlearn: 61.1253739\ttotal: 2.91s\tremaining: 4.02s\n",
            "420:\tlearn: 61.0742571\ttotal: 2.93s\tremaining: 4.03s\n",
            "421:\tlearn: 61.0390980\ttotal: 2.95s\tremaining: 4.04s\n",
            "422:\tlearn: 61.0095757\ttotal: 2.98s\tremaining: 4.07s\n",
            "423:\tlearn: 60.6843255\ttotal: 3.01s\tremaining: 4.08s\n",
            "424:\tlearn: 60.4045551\ttotal: 3.02s\tremaining: 4.08s\n",
            "425:\tlearn: 60.3649587\ttotal: 3.03s\tremaining: 4.08s\n",
            "426:\tlearn: 60.3315828\ttotal: 3.04s\tremaining: 4.08s\n",
            "427:\tlearn: 60.1047027\ttotal: 3.06s\tremaining: 4.08s\n",
            "428:\tlearn: 59.9170736\ttotal: 3.06s\tremaining: 4.08s\n",
            "429:\tlearn: 59.6875648\ttotal: 3.08s\tremaining: 4.08s\n",
            "430:\tlearn: 59.6662150\ttotal: 3.08s\tremaining: 4.07s\n",
            "431:\tlearn: 59.4208112\ttotal: 3.09s\tremaining: 4.07s\n",
            "432:\tlearn: 59.2358034\ttotal: 3.1s\tremaining: 4.07s\n",
            "433:\tlearn: 58.9818868\ttotal: 3.13s\tremaining: 4.09s\n",
            "434:\tlearn: 58.7089433\ttotal: 3.15s\tremaining: 4.09s\n",
            "435:\tlearn: 58.5898817\ttotal: 3.16s\tremaining: 4.09s\n",
            "436:\tlearn: 58.5425342\ttotal: 3.17s\tremaining: 4.09s\n",
            "437:\tlearn: 58.2884605\ttotal: 3.18s\tremaining: 4.08s\n",
            "438:\tlearn: 58.2643873\ttotal: 3.19s\tremaining: 4.07s\n",
            "439:\tlearn: 58.2330868\ttotal: 3.2s\tremaining: 4.07s\n",
            "440:\tlearn: 57.9676592\ttotal: 3.21s\tremaining: 4.07s\n",
            "441:\tlearn: 57.7670212\ttotal: 3.22s\tremaining: 4.06s\n",
            "442:\tlearn: 57.5322464\ttotal: 3.23s\tremaining: 4.05s\n",
            "443:\tlearn: 57.2771620\ttotal: 3.24s\tremaining: 4.06s\n",
            "444:\tlearn: 57.0227885\ttotal: 3.25s\tremaining: 4.05s\n",
            "445:\tlearn: 56.7616770\ttotal: 3.26s\tremaining: 4.05s\n",
            "446:\tlearn: 56.7367450\ttotal: 3.27s\tremaining: 4.04s\n",
            "447:\tlearn: 56.6715001\ttotal: 3.28s\tremaining: 4.04s\n",
            "448:\tlearn: 56.4881346\ttotal: 3.28s\tremaining: 4.03s\n",
            "449:\tlearn: 56.3749776\ttotal: 3.3s\tremaining: 4.03s\n",
            "450:\tlearn: 56.2172319\ttotal: 3.32s\tremaining: 4.04s\n",
            "451:\tlearn: 55.9461925\ttotal: 3.33s\tremaining: 4.04s\n",
            "452:\tlearn: 55.8884270\ttotal: 3.34s\tremaining: 4.04s\n",
            "453:\tlearn: 55.7987432\ttotal: 3.35s\tremaining: 4.03s\n",
            "454:\tlearn: 55.7376337\ttotal: 3.37s\tremaining: 4.03s\n",
            "455:\tlearn: 55.5150595\ttotal: 3.38s\tremaining: 4.03s\n",
            "456:\tlearn: 55.4819680\ttotal: 3.39s\tremaining: 4.03s\n",
            "457:\tlearn: 55.1719919\ttotal: 3.4s\tremaining: 4.02s\n",
            "458:\tlearn: 55.1295759\ttotal: 3.41s\tremaining: 4.02s\n",
            "459:\tlearn: 55.0856302\ttotal: 3.42s\tremaining: 4.02s\n",
            "460:\tlearn: 54.8056235\ttotal: 3.43s\tremaining: 4.01s\n",
            "461:\tlearn: 54.4030407\ttotal: 3.44s\tremaining: 4s\n",
            "462:\tlearn: 54.3308204\ttotal: 3.45s\tremaining: 4s\n",
            "463:\tlearn: 54.0283724\ttotal: 3.46s\tremaining: 3.99s\n",
            "464:\tlearn: 53.9962714\ttotal: 3.46s\tremaining: 3.98s\n",
            "465:\tlearn: 53.8149476\ttotal: 3.46s\tremaining: 3.97s\n",
            "466:\tlearn: 53.7806209\ttotal: 3.47s\tremaining: 3.96s\n",
            "467:\tlearn: 53.7585727\ttotal: 3.48s\tremaining: 3.96s\n",
            "468:\tlearn: 53.5042777\ttotal: 3.49s\tremaining: 3.95s\n",
            "469:\tlearn: 53.3257034\ttotal: 3.51s\tremaining: 3.96s\n",
            "470:\tlearn: 53.0801119\ttotal: 3.51s\tremaining: 3.95s\n",
            "471:\tlearn: 53.0136550\ttotal: 3.52s\tremaining: 3.94s\n",
            "472:\tlearn: 52.9408930\ttotal: 3.53s\tremaining: 3.94s\n",
            "473:\tlearn: 52.7089062\ttotal: 3.55s\tremaining: 3.94s\n",
            "474:\tlearn: 52.6819781\ttotal: 3.56s\tremaining: 3.94s\n",
            "475:\tlearn: 52.5065568\ttotal: 3.57s\tremaining: 3.93s\n",
            "476:\tlearn: 52.3688770\ttotal: 3.58s\tremaining: 3.93s\n",
            "477:\tlearn: 52.2402473\ttotal: 3.6s\tremaining: 3.93s\n",
            "478:\tlearn: 52.1406517\ttotal: 3.61s\tremaining: 3.93s\n",
            "479:\tlearn: 52.1107144\ttotal: 3.61s\tremaining: 3.91s\n",
            "480:\tlearn: 51.9239449\ttotal: 3.61s\tremaining: 3.9s\n",
            "481:\tlearn: 51.7096820\ttotal: 3.62s\tremaining: 3.89s\n",
            "482:\tlearn: 51.6266918\ttotal: 3.62s\tremaining: 3.88s\n",
            "483:\tlearn: 51.5969797\ttotal: 3.63s\tremaining: 3.87s\n",
            "484:\tlearn: 51.4480162\ttotal: 3.64s\tremaining: 3.86s\n",
            "485:\tlearn: 51.2269261\ttotal: 3.64s\tremaining: 3.85s\n",
            "486:\tlearn: 50.9904632\ttotal: 3.64s\tremaining: 3.84s\n",
            "487:\tlearn: 50.9342043\ttotal: 3.65s\tremaining: 3.83s\n",
            "488:\tlearn: 50.8423680\ttotal: 3.65s\tremaining: 3.82s\n",
            "489:\tlearn: 50.7269788\ttotal: 3.67s\tremaining: 3.82s\n",
            "490:\tlearn: 50.5384699\ttotal: 3.68s\tremaining: 3.82s\n",
            "491:\tlearn: 50.5047793\ttotal: 3.69s\tremaining: 3.81s\n",
            "492:\tlearn: 50.3234448\ttotal: 3.7s\tremaining: 3.8s\n",
            "493:\tlearn: 50.1653421\ttotal: 3.71s\tremaining: 3.8s\n",
            "494:\tlearn: 49.9835558\ttotal: 3.71s\tremaining: 3.79s\n",
            "495:\tlearn: 49.8884283\ttotal: 3.72s\tremaining: 3.78s\n",
            "496:\tlearn: 49.6217364\ttotal: 3.73s\tremaining: 3.77s\n",
            "497:\tlearn: 49.5268562\ttotal: 3.73s\tremaining: 3.76s\n",
            "498:\tlearn: 49.3078402\ttotal: 3.74s\tremaining: 3.75s\n",
            "499:\tlearn: 49.2571676\ttotal: 3.74s\tremaining: 3.74s\n",
            "500:\tlearn: 49.2173141\ttotal: 3.75s\tremaining: 3.74s\n",
            "501:\tlearn: 48.9813103\ttotal: 3.76s\tremaining: 3.73s\n",
            "502:\tlearn: 48.8304542\ttotal: 3.76s\tremaining: 3.72s\n",
            "503:\tlearn: 48.7430936\ttotal: 3.77s\tremaining: 3.71s\n",
            "504:\tlearn: 48.5493989\ttotal: 3.77s\tremaining: 3.7s\n",
            "505:\tlearn: 48.5134839\ttotal: 3.78s\tremaining: 3.69s\n",
            "506:\tlearn: 48.3516141\ttotal: 3.8s\tremaining: 3.69s\n",
            "507:\tlearn: 48.0631542\ttotal: 3.81s\tremaining: 3.69s\n",
            "508:\tlearn: 47.8591880\ttotal: 3.81s\tremaining: 3.68s\n",
            "509:\tlearn: 47.7182444\ttotal: 3.83s\tremaining: 3.67s\n",
            "510:\tlearn: 47.6301870\ttotal: 3.83s\tremaining: 3.67s\n",
            "511:\tlearn: 47.4767324\ttotal: 3.84s\tremaining: 3.66s\n",
            "512:\tlearn: 47.2822625\ttotal: 3.86s\tremaining: 3.66s\n",
            "513:\tlearn: 47.1022658\ttotal: 3.88s\tremaining: 3.67s\n",
            "514:\tlearn: 47.0536181\ttotal: 3.88s\tremaining: 3.65s\n",
            "515:\tlearn: 47.0249559\ttotal: 3.89s\tremaining: 3.65s\n",
            "516:\tlearn: 46.8789720\ttotal: 3.9s\tremaining: 3.64s\n",
            "517:\tlearn: 46.7133769\ttotal: 3.9s\tremaining: 3.63s\n",
            "518:\tlearn: 46.5157986\ttotal: 3.91s\tremaining: 3.62s\n",
            "519:\tlearn: 46.3630405\ttotal: 3.92s\tremaining: 3.61s\n",
            "520:\tlearn: 46.1730188\ttotal: 3.92s\tremaining: 3.6s\n",
            "521:\tlearn: 46.1360908\ttotal: 3.93s\tremaining: 3.6s\n",
            "522:\tlearn: 45.9652487\ttotal: 3.93s\tremaining: 3.58s\n",
            "523:\tlearn: 45.8122703\ttotal: 3.94s\tremaining: 3.58s\n",
            "524:\tlearn: 45.4984451\ttotal: 3.94s\tremaining: 3.56s\n",
            "525:\tlearn: 45.3161076\ttotal: 3.95s\tremaining: 3.56s\n",
            "526:\tlearn: 45.2802854\ttotal: 3.95s\tremaining: 3.55s\n",
            "527:\tlearn: 45.2448275\ttotal: 3.96s\tremaining: 3.54s\n",
            "528:\tlearn: 45.0816321\ttotal: 3.97s\tremaining: 3.54s\n",
            "529:\tlearn: 44.9794319\ttotal: 3.98s\tremaining: 3.53s\n",
            "530:\tlearn: 44.6832140\ttotal: 3.99s\tremaining: 3.53s\n",
            "531:\tlearn: 44.4460046\ttotal: 4s\tremaining: 3.52s\n",
            "532:\tlearn: 44.2118287\ttotal: 4s\tremaining: 3.5s\n",
            "533:\tlearn: 44.0693524\ttotal: 4.01s\tremaining: 3.5s\n",
            "534:\tlearn: 43.7781614\ttotal: 4.01s\tremaining: 3.49s\n",
            "535:\tlearn: 43.5541731\ttotal: 4.02s\tremaining: 3.48s\n",
            "536:\tlearn: 43.5134866\ttotal: 4.02s\tremaining: 3.47s\n",
            "537:\tlearn: 43.3609810\ttotal: 4.03s\tremaining: 3.46s\n",
            "538:\tlearn: 43.1828364\ttotal: 4.05s\tremaining: 3.46s\n",
            "539:\tlearn: 43.1681810\ttotal: 4.05s\tremaining: 3.45s\n",
            "540:\tlearn: 43.0597548\ttotal: 4.05s\tremaining: 3.44s\n",
            "541:\tlearn: 43.0399237\ttotal: 4.05s\tremaining: 3.42s\n",
            "542:\tlearn: 42.7955247\ttotal: 4.06s\tremaining: 3.41s\n",
            "543:\tlearn: 42.5339065\ttotal: 4.06s\tremaining: 3.4s\n",
            "544:\tlearn: 42.4295635\ttotal: 4.06s\tremaining: 3.39s\n",
            "545:\tlearn: 42.2338376\ttotal: 4.06s\tremaining: 3.38s\n",
            "546:\tlearn: 42.0124060\ttotal: 4.07s\tremaining: 3.37s\n",
            "547:\tlearn: 41.8255183\ttotal: 4.07s\tremaining: 3.36s\n",
            "548:\tlearn: 41.6388681\ttotal: 4.07s\tremaining: 3.35s\n",
            "549:\tlearn: 41.4001270\ttotal: 4.08s\tremaining: 3.33s\n",
            "550:\tlearn: 41.1013528\ttotal: 4.08s\tremaining: 3.32s\n",
            "551:\tlearn: 41.0100295\ttotal: 4.08s\tremaining: 3.31s\n",
            "552:\tlearn: 40.9906076\ttotal: 4.08s\tremaining: 3.3s\n",
            "553:\tlearn: 40.8809109\ttotal: 4.08s\tremaining: 3.29s\n",
            "554:\tlearn: 40.7831302\ttotal: 4.09s\tremaining: 3.28s\n",
            "555:\tlearn: 40.7317763\ttotal: 4.09s\tremaining: 3.27s\n",
            "556:\tlearn: 40.6321710\ttotal: 4.09s\tremaining: 3.25s\n",
            "557:\tlearn: 40.4475073\ttotal: 4.09s\tremaining: 3.24s\n",
            "558:\tlearn: 40.2859957\ttotal: 4.1s\tremaining: 3.23s\n",
            "559:\tlearn: 40.0262057\ttotal: 4.1s\tremaining: 3.22s\n",
            "560:\tlearn: 39.9326350\ttotal: 4.11s\tremaining: 3.21s\n",
            "561:\tlearn: 39.8735956\ttotal: 4.11s\tremaining: 3.2s\n",
            "562:\tlearn: 39.7083019\ttotal: 4.11s\tremaining: 3.19s\n",
            "563:\tlearn: 39.5379855\ttotal: 4.12s\tremaining: 3.18s\n",
            "564:\tlearn: 39.3451301\ttotal: 4.12s\tremaining: 3.17s\n",
            "565:\tlearn: 39.2041273\ttotal: 4.12s\tremaining: 3.16s\n",
            "566:\tlearn: 38.9870162\ttotal: 4.13s\tremaining: 3.15s\n",
            "567:\tlearn: 38.8638040\ttotal: 4.13s\tremaining: 3.14s\n",
            "568:\tlearn: 38.7752116\ttotal: 4.13s\tremaining: 3.13s\n",
            "569:\tlearn: 38.6530297\ttotal: 4.13s\tremaining: 3.12s\n",
            "570:\tlearn: 38.5505372\ttotal: 4.13s\tremaining: 3.11s\n",
            "571:\tlearn: 38.5134486\ttotal: 4.14s\tremaining: 3.1s\n",
            "572:\tlearn: 38.3680902\ttotal: 4.14s\tremaining: 3.09s\n",
            "573:\tlearn: 38.1897295\ttotal: 4.14s\tremaining: 3.08s\n",
            "574:\tlearn: 38.1083536\ttotal: 4.15s\tremaining: 3.06s\n",
            "575:\tlearn: 37.9229216\ttotal: 4.15s\tremaining: 3.06s\n",
            "576:\tlearn: 37.8377087\ttotal: 4.16s\tremaining: 3.05s\n",
            "577:\tlearn: 37.7966900\ttotal: 4.16s\tremaining: 3.04s\n",
            "578:\tlearn: 37.6700761\ttotal: 4.16s\tremaining: 3.02s\n",
            "579:\tlearn: 37.6355177\ttotal: 4.16s\tremaining: 3.01s\n",
            "580:\tlearn: 37.4648199\ttotal: 4.16s\tremaining: 3s\n",
            "581:\tlearn: 37.2959505\ttotal: 4.17s\tremaining: 2.99s\n",
            "582:\tlearn: 37.1423961\ttotal: 4.17s\tremaining: 2.98s\n",
            "583:\tlearn: 36.9297315\ttotal: 4.17s\tremaining: 2.97s\n",
            "584:\tlearn: 36.8850382\ttotal: 4.17s\tremaining: 2.96s\n",
            "585:\tlearn: 36.7546519\ttotal: 4.18s\tremaining: 2.95s\n",
            "586:\tlearn: 36.7377554\ttotal: 4.18s\tremaining: 2.94s\n",
            "587:\tlearn: 36.6899102\ttotal: 4.19s\tremaining: 2.93s\n",
            "588:\tlearn: 36.5617094\ttotal: 4.19s\tremaining: 2.92s\n",
            "589:\tlearn: 36.4272921\ttotal: 4.19s\tremaining: 2.91s\n",
            "590:\tlearn: 36.2657889\ttotal: 4.19s\tremaining: 2.9s\n",
            "591:\tlearn: 36.2539345\ttotal: 4.19s\tremaining: 2.89s\n",
            "592:\tlearn: 36.2314399\ttotal: 4.2s\tremaining: 2.88s\n",
            "593:\tlearn: 36.0683824\ttotal: 4.2s\tremaining: 2.87s\n",
            "594:\tlearn: 35.9283095\ttotal: 4.21s\tremaining: 2.86s\n",
            "595:\tlearn: 35.7968288\ttotal: 4.21s\tremaining: 2.85s\n",
            "596:\tlearn: 35.7223423\ttotal: 4.21s\tremaining: 2.84s\n",
            "597:\tlearn: 35.5848854\ttotal: 4.21s\tremaining: 2.83s\n",
            "598:\tlearn: 35.4754344\ttotal: 4.22s\tremaining: 2.82s\n",
            "599:\tlearn: 35.3533890\ttotal: 4.22s\tremaining: 2.81s\n",
            "600:\tlearn: 35.2201505\ttotal: 4.22s\tremaining: 2.81s\n",
            "601:\tlearn: 35.0873272\ttotal: 4.23s\tremaining: 2.79s\n",
            "602:\tlearn: 35.0461873\ttotal: 4.23s\tremaining: 2.78s\n",
            "603:\tlearn: 34.9273071\ttotal: 4.23s\tremaining: 2.77s\n",
            "604:\tlearn: 34.8162855\ttotal: 4.23s\tremaining: 2.76s\n",
            "605:\tlearn: 34.7130059\ttotal: 4.24s\tremaining: 2.75s\n",
            "606:\tlearn: 34.5585617\ttotal: 4.24s\tremaining: 2.75s\n",
            "607:\tlearn: 34.4611907\ttotal: 4.24s\tremaining: 2.73s\n",
            "608:\tlearn: 34.4326546\ttotal: 4.25s\tremaining: 2.73s\n",
            "609:\tlearn: 34.2846979\ttotal: 4.25s\tremaining: 2.71s\n",
            "610:\tlearn: 34.1734501\ttotal: 4.25s\tremaining: 2.71s\n",
            "611:\tlearn: 34.0230965\ttotal: 4.25s\tremaining: 2.7s\n",
            "612:\tlearn: 33.8282501\ttotal: 4.25s\tremaining: 2.69s\n",
            "613:\tlearn: 33.7746747\ttotal: 4.26s\tremaining: 2.68s\n",
            "614:\tlearn: 33.7068386\ttotal: 4.26s\tremaining: 2.67s\n",
            "615:\tlearn: 33.5780800\ttotal: 4.26s\tremaining: 2.66s\n",
            "616:\tlearn: 33.4695325\ttotal: 4.26s\tremaining: 2.65s\n",
            "617:\tlearn: 33.3463443\ttotal: 4.27s\tremaining: 2.64s\n",
            "618:\tlearn: 33.2877395\ttotal: 4.27s\tremaining: 2.63s\n",
            "619:\tlearn: 33.2418826\ttotal: 4.27s\tremaining: 2.62s\n",
            "620:\tlearn: 33.1045465\ttotal: 4.28s\tremaining: 2.61s\n",
            "621:\tlearn: 32.9400639\ttotal: 4.28s\tremaining: 2.6s\n",
            "622:\tlearn: 32.8996970\ttotal: 4.28s\tremaining: 2.59s\n",
            "623:\tlearn: 32.7429487\ttotal: 4.29s\tremaining: 2.59s\n",
            "624:\tlearn: 32.6132355\ttotal: 4.3s\tremaining: 2.58s\n",
            "625:\tlearn: 32.4714976\ttotal: 4.3s\tremaining: 2.57s\n",
            "626:\tlearn: 32.4320448\ttotal: 4.3s\tremaining: 2.56s\n",
            "627:\tlearn: 32.2628258\ttotal: 4.3s\tremaining: 2.55s\n",
            "628:\tlearn: 32.2038569\ttotal: 4.31s\tremaining: 2.54s\n",
            "629:\tlearn: 32.0940738\ttotal: 4.31s\tremaining: 2.53s\n",
            "630:\tlearn: 32.0068495\ttotal: 4.31s\tremaining: 2.52s\n",
            "631:\tlearn: 31.9053748\ttotal: 4.31s\tremaining: 2.51s\n",
            "632:\tlearn: 31.7715772\ttotal: 4.32s\tremaining: 2.5s\n",
            "633:\tlearn: 31.6687835\ttotal: 4.33s\tremaining: 2.5s\n",
            "634:\tlearn: 31.6368050\ttotal: 4.33s\tremaining: 2.49s\n",
            "635:\tlearn: 31.5709628\ttotal: 4.36s\tremaining: 2.49s\n",
            "636:\tlearn: 31.4052213\ttotal: 4.36s\tremaining: 2.48s\n",
            "637:\tlearn: 31.2452229\ttotal: 4.37s\tremaining: 2.48s\n",
            "638:\tlearn: 31.1221828\ttotal: 4.37s\tremaining: 2.47s\n",
            "639:\tlearn: 31.0853500\ttotal: 4.39s\tremaining: 2.47s\n",
            "640:\tlearn: 30.9167355\ttotal: 4.39s\tremaining: 2.46s\n",
            "641:\tlearn: 30.8667253\ttotal: 4.4s\tremaining: 2.45s\n",
            "642:\tlearn: 30.7427129\ttotal: 4.4s\tremaining: 2.44s\n",
            "643:\tlearn: 30.5748228\ttotal: 4.41s\tremaining: 2.44s\n",
            "644:\tlearn: 30.5080592\ttotal: 4.41s\tremaining: 2.43s\n",
            "645:\tlearn: 30.3444228\ttotal: 4.42s\tremaining: 2.42s\n",
            "646:\tlearn: 30.1858385\ttotal: 4.43s\tremaining: 2.42s\n",
            "647:\tlearn: 30.1481951\ttotal: 4.45s\tremaining: 2.42s\n",
            "648:\tlearn: 30.1139150\ttotal: 4.45s\tremaining: 2.41s\n",
            "649:\tlearn: 30.0147177\ttotal: 4.46s\tremaining: 2.4s\n",
            "650:\tlearn: 29.8610501\ttotal: 4.47s\tremaining: 2.39s\n",
            "651:\tlearn: 29.7793561\ttotal: 4.47s\tremaining: 2.38s\n",
            "652:\tlearn: 29.6870188\ttotal: 4.47s\tremaining: 2.38s\n",
            "653:\tlearn: 29.6229921\ttotal: 4.48s\tremaining: 2.37s\n",
            "654:\tlearn: 29.5806823\ttotal: 4.48s\tremaining: 2.36s\n",
            "655:\tlearn: 29.4903496\ttotal: 4.48s\tremaining: 2.35s\n",
            "656:\tlearn: 29.4011642\ttotal: 4.49s\tremaining: 2.34s\n",
            "657:\tlearn: 29.3880977\ttotal: 4.49s\tremaining: 2.33s\n",
            "658:\tlearn: 29.2615919\ttotal: 4.49s\tremaining: 2.32s\n",
            "659:\tlearn: 29.1004727\ttotal: 4.49s\tremaining: 2.31s\n",
            "660:\tlearn: 29.0530692\ttotal: 4.5s\tremaining: 2.31s\n",
            "661:\tlearn: 28.9863628\ttotal: 4.5s\tremaining: 2.3s\n",
            "662:\tlearn: 28.8714304\ttotal: 4.5s\tremaining: 2.29s\n",
            "663:\tlearn: 28.7331979\ttotal: 4.5s\tremaining: 2.28s\n",
            "664:\tlearn: 28.6366801\ttotal: 4.51s\tremaining: 2.27s\n",
            "665:\tlearn: 28.5716341\ttotal: 4.51s\tremaining: 2.26s\n",
            "666:\tlearn: 28.4974876\ttotal: 4.51s\tremaining: 2.25s\n",
            "667:\tlearn: 28.4112710\ttotal: 4.51s\tremaining: 2.24s\n",
            "668:\tlearn: 28.2984651\ttotal: 4.52s\tremaining: 2.23s\n",
            "669:\tlearn: 28.1339510\ttotal: 4.52s\tremaining: 2.23s\n",
            "670:\tlearn: 28.1075789\ttotal: 4.52s\tremaining: 2.22s\n",
            "671:\tlearn: 28.0922293\ttotal: 4.52s\tremaining: 2.21s\n",
            "672:\tlearn: 27.9723760\ttotal: 4.53s\tremaining: 2.2s\n",
            "673:\tlearn: 27.9055283\ttotal: 4.53s\tremaining: 2.19s\n",
            "674:\tlearn: 27.8205243\ttotal: 4.54s\tremaining: 2.19s\n",
            "675:\tlearn: 27.8084834\ttotal: 4.55s\tremaining: 2.18s\n",
            "676:\tlearn: 27.7891840\ttotal: 4.56s\tremaining: 2.17s\n",
            "677:\tlearn: 27.6730952\ttotal: 4.57s\tremaining: 2.17s\n",
            "678:\tlearn: 27.6094279\ttotal: 4.57s\tremaining: 2.16s\n",
            "679:\tlearn: 27.5709406\ttotal: 4.58s\tremaining: 2.15s\n",
            "680:\tlearn: 27.5062932\ttotal: 4.59s\tremaining: 2.15s\n",
            "681:\tlearn: 27.4149358\ttotal: 4.6s\tremaining: 2.14s\n",
            "682:\tlearn: 27.3480578\ttotal: 4.6s\tremaining: 2.13s\n",
            "683:\tlearn: 27.2546632\ttotal: 4.61s\tremaining: 2.13s\n",
            "684:\tlearn: 27.1581242\ttotal: 4.62s\tremaining: 2.12s\n",
            "685:\tlearn: 27.1291330\ttotal: 4.62s\tremaining: 2.12s\n",
            "686:\tlearn: 27.0589760\ttotal: 4.63s\tremaining: 2.11s\n",
            "687:\tlearn: 26.9207571\ttotal: 4.64s\tremaining: 2.1s\n",
            "688:\tlearn: 26.8046340\ttotal: 4.64s\tremaining: 2.1s\n",
            "689:\tlearn: 26.7346039\ttotal: 4.65s\tremaining: 2.09s\n",
            "690:\tlearn: 26.6359238\ttotal: 4.66s\tremaining: 2.08s\n",
            "691:\tlearn: 26.5458163\ttotal: 4.67s\tremaining: 2.08s\n",
            "692:\tlearn: 26.5287024\ttotal: 4.67s\tremaining: 2.07s\n",
            "693:\tlearn: 26.4436127\ttotal: 4.68s\tremaining: 2.06s\n",
            "694:\tlearn: 26.3860996\ttotal: 4.69s\tremaining: 2.06s\n",
            "695:\tlearn: 26.3271824\ttotal: 4.7s\tremaining: 2.05s\n",
            "696:\tlearn: 26.1929180\ttotal: 4.71s\tremaining: 2.05s\n",
            "697:\tlearn: 26.0989501\ttotal: 4.72s\tremaining: 2.04s\n",
            "698:\tlearn: 26.0348052\ttotal: 4.73s\tremaining: 2.04s\n",
            "699:\tlearn: 25.9715846\ttotal: 4.74s\tremaining: 2.03s\n",
            "700:\tlearn: 25.8624783\ttotal: 4.74s\tremaining: 2.02s\n",
            "701:\tlearn: 25.8020332\ttotal: 4.75s\tremaining: 2.02s\n",
            "702:\tlearn: 25.7940141\ttotal: 4.76s\tremaining: 2.01s\n",
            "703:\tlearn: 25.6937173\ttotal: 4.77s\tremaining: 2s\n",
            "704:\tlearn: 25.6133995\ttotal: 4.79s\tremaining: 2s\n",
            "705:\tlearn: 25.5272559\ttotal: 4.79s\tremaining: 1.99s\n",
            "706:\tlearn: 25.5087600\ttotal: 4.8s\tremaining: 1.99s\n",
            "707:\tlearn: 25.3506858\ttotal: 4.8s\tremaining: 1.98s\n",
            "708:\tlearn: 25.3314352\ttotal: 4.81s\tremaining: 1.98s\n",
            "709:\tlearn: 25.3263712\ttotal: 4.82s\tremaining: 1.97s\n",
            "710:\tlearn: 25.2377772\ttotal: 4.83s\tremaining: 1.96s\n",
            "711:\tlearn: 25.1296003\ttotal: 4.83s\tremaining: 1.96s\n",
            "712:\tlearn: 25.1138661\ttotal: 4.84s\tremaining: 1.95s\n",
            "713:\tlearn: 25.0606164\ttotal: 4.85s\tremaining: 1.94s\n",
            "714:\tlearn: 24.9701122\ttotal: 4.87s\tremaining: 1.94s\n",
            "715:\tlearn: 24.9266980\ttotal: 4.87s\tremaining: 1.93s\n",
            "716:\tlearn: 24.8355245\ttotal: 4.87s\tremaining: 1.92s\n",
            "717:\tlearn: 24.7892595\ttotal: 4.88s\tremaining: 1.92s\n",
            "718:\tlearn: 24.7784156\ttotal: 4.89s\tremaining: 1.91s\n",
            "719:\tlearn: 24.7204068\ttotal: 4.9s\tremaining: 1.9s\n",
            "720:\tlearn: 24.6868946\ttotal: 4.9s\tremaining: 1.9s\n",
            "721:\tlearn: 24.5835248\ttotal: 4.92s\tremaining: 1.89s\n",
            "722:\tlearn: 24.4605667\ttotal: 4.93s\tremaining: 1.89s\n",
            "723:\tlearn: 24.3780491\ttotal: 4.93s\tremaining: 1.88s\n",
            "724:\tlearn: 24.3695387\ttotal: 4.94s\tremaining: 1.87s\n",
            "725:\tlearn: 24.2713928\ttotal: 4.95s\tremaining: 1.87s\n",
            "726:\tlearn: 24.2564573\ttotal: 4.96s\tremaining: 1.86s\n",
            "727:\tlearn: 24.1259045\ttotal: 4.96s\tremaining: 1.85s\n",
            "728:\tlearn: 24.0410925\ttotal: 4.97s\tremaining: 1.85s\n",
            "729:\tlearn: 23.9454740\ttotal: 4.98s\tremaining: 1.84s\n",
            "730:\tlearn: 23.9293944\ttotal: 4.99s\tremaining: 1.84s\n",
            "731:\tlearn: 23.8408373\ttotal: 5s\tremaining: 1.83s\n",
            "732:\tlearn: 23.7301307\ttotal: 5s\tremaining: 1.82s\n",
            "733:\tlearn: 23.6751178\ttotal: 5.01s\tremaining: 1.81s\n",
            "734:\tlearn: 23.5518474\ttotal: 5.02s\tremaining: 1.81s\n",
            "735:\tlearn: 23.5054838\ttotal: 5.02s\tremaining: 1.8s\n",
            "736:\tlearn: 23.4781040\ttotal: 5.03s\tremaining: 1.79s\n",
            "737:\tlearn: 23.3774725\ttotal: 5.04s\tremaining: 1.79s\n",
            "738:\tlearn: 23.3081022\ttotal: 5.05s\tremaining: 1.78s\n",
            "739:\tlearn: 23.2915892\ttotal: 5.06s\tremaining: 1.78s\n",
            "740:\tlearn: 23.2095735\ttotal: 5.06s\tremaining: 1.77s\n",
            "741:\tlearn: 23.1588315\ttotal: 5.07s\tremaining: 1.76s\n",
            "742:\tlearn: 23.1197993\ttotal: 5.08s\tremaining: 1.76s\n",
            "743:\tlearn: 23.0327780\ttotal: 5.09s\tremaining: 1.75s\n",
            "744:\tlearn: 22.9759480\ttotal: 5.09s\tremaining: 1.74s\n",
            "745:\tlearn: 22.8751423\ttotal: 5.09s\tremaining: 1.73s\n",
            "746:\tlearn: 22.7768127\ttotal: 5.1s\tremaining: 1.73s\n",
            "747:\tlearn: 22.6474970\ttotal: 5.11s\tremaining: 1.72s\n",
            "748:\tlearn: 22.5780525\ttotal: 5.13s\tremaining: 1.72s\n",
            "749:\tlearn: 22.5338308\ttotal: 5.13s\tremaining: 1.71s\n",
            "750:\tlearn: 22.4330276\ttotal: 5.14s\tremaining: 1.7s\n",
            "751:\tlearn: 22.4193891\ttotal: 5.15s\tremaining: 1.7s\n",
            "752:\tlearn: 22.4093040\ttotal: 5.16s\tremaining: 1.69s\n",
            "753:\tlearn: 22.3758979\ttotal: 5.17s\tremaining: 1.69s\n",
            "754:\tlearn: 22.3560173\ttotal: 5.17s\tremaining: 1.68s\n",
            "755:\tlearn: 22.3264261\ttotal: 5.18s\tremaining: 1.67s\n",
            "756:\tlearn: 22.2796605\ttotal: 5.19s\tremaining: 1.67s\n",
            "757:\tlearn: 22.2253439\ttotal: 5.2s\tremaining: 1.66s\n",
            "758:\tlearn: 22.1636409\ttotal: 5.21s\tremaining: 1.65s\n",
            "759:\tlearn: 22.1078491\ttotal: 5.22s\tremaining: 1.65s\n",
            "760:\tlearn: 22.0275756\ttotal: 5.22s\tremaining: 1.64s\n",
            "761:\tlearn: 22.0174143\ttotal: 5.23s\tremaining: 1.63s\n",
            "762:\tlearn: 21.9887391\ttotal: 5.24s\tremaining: 1.63s\n",
            "763:\tlearn: 21.9746733\ttotal: 5.25s\tremaining: 1.62s\n",
            "764:\tlearn: 21.9529216\ttotal: 5.25s\tremaining: 1.61s\n",
            "765:\tlearn: 21.8767644\ttotal: 5.26s\tremaining: 1.61s\n",
            "766:\tlearn: 21.8668039\ttotal: 5.28s\tremaining: 1.6s\n",
            "767:\tlearn: 21.8008688\ttotal: 5.28s\tremaining: 1.59s\n",
            "768:\tlearn: 21.7612208\ttotal: 5.29s\tremaining: 1.59s\n",
            "769:\tlearn: 21.6977978\ttotal: 5.3s\tremaining: 1.58s\n",
            "770:\tlearn: 21.6870461\ttotal: 5.3s\tremaining: 1.57s\n",
            "771:\tlearn: 21.6599780\ttotal: 5.32s\tremaining: 1.57s\n",
            "772:\tlearn: 21.5522064\ttotal: 5.33s\tremaining: 1.56s\n",
            "773:\tlearn: 21.5426327\ttotal: 5.33s\tremaining: 1.56s\n",
            "774:\tlearn: 21.4391089\ttotal: 5.35s\tremaining: 1.55s\n",
            "775:\tlearn: 21.4042993\ttotal: 5.36s\tremaining: 1.55s\n",
            "776:\tlearn: 21.3284836\ttotal: 5.38s\tremaining: 1.54s\n",
            "777:\tlearn: 21.3163774\ttotal: 5.38s\tremaining: 1.54s\n",
            "778:\tlearn: 21.2708416\ttotal: 5.39s\tremaining: 1.53s\n",
            "779:\tlearn: 21.2056943\ttotal: 5.4s\tremaining: 1.52s\n",
            "780:\tlearn: 21.1434774\ttotal: 5.42s\tremaining: 1.52s\n",
            "781:\tlearn: 21.0672473\ttotal: 5.42s\tremaining: 1.51s\n",
            "782:\tlearn: 20.9629645\ttotal: 5.44s\tremaining: 1.51s\n",
            "783:\tlearn: 20.9522537\ttotal: 5.45s\tremaining: 1.5s\n",
            "784:\tlearn: 20.9252425\ttotal: 5.46s\tremaining: 1.49s\n",
            "785:\tlearn: 20.8576799\ttotal: 5.47s\tremaining: 1.49s\n",
            "786:\tlearn: 20.7922970\ttotal: 5.47s\tremaining: 1.48s\n",
            "787:\tlearn: 20.7802134\ttotal: 5.49s\tremaining: 1.48s\n",
            "788:\tlearn: 20.7125213\ttotal: 5.49s\tremaining: 1.47s\n",
            "789:\tlearn: 20.7000005\ttotal: 5.5s\tremaining: 1.46s\n",
            "790:\tlearn: 20.6366378\ttotal: 5.51s\tremaining: 1.46s\n",
            "791:\tlearn: 20.6170923\ttotal: 5.52s\tremaining: 1.45s\n",
            "792:\tlearn: 20.5485950\ttotal: 5.52s\tremaining: 1.44s\n",
            "793:\tlearn: 20.5212323\ttotal: 5.53s\tremaining: 1.44s\n",
            "794:\tlearn: 20.5004347\ttotal: 5.54s\tremaining: 1.43s\n",
            "795:\tlearn: 20.4884649\ttotal: 5.55s\tremaining: 1.42s\n",
            "796:\tlearn: 20.3727007\ttotal: 5.55s\tremaining: 1.41s\n",
            "797:\tlearn: 20.2776166\ttotal: 5.57s\tremaining: 1.41s\n",
            "798:\tlearn: 20.2690965\ttotal: 5.57s\tremaining: 1.4s\n",
            "799:\tlearn: 20.2166634\ttotal: 5.58s\tremaining: 1.39s\n",
            "800:\tlearn: 20.1160179\ttotal: 5.59s\tremaining: 1.39s\n",
            "801:\tlearn: 20.0642268\ttotal: 5.59s\tremaining: 1.38s\n",
            "802:\tlearn: 20.0323601\ttotal: 5.59s\tremaining: 1.37s\n",
            "803:\tlearn: 19.9485334\ttotal: 5.6s\tremaining: 1.37s\n",
            "804:\tlearn: 19.9071725\ttotal: 5.61s\tremaining: 1.36s\n",
            "805:\tlearn: 19.8943564\ttotal: 5.63s\tremaining: 1.35s\n",
            "806:\tlearn: 19.7804687\ttotal: 5.63s\tremaining: 1.35s\n",
            "807:\tlearn: 19.7343406\ttotal: 5.64s\tremaining: 1.34s\n",
            "808:\tlearn: 19.6963930\ttotal: 5.64s\tremaining: 1.33s\n",
            "809:\tlearn: 19.6705675\ttotal: 5.66s\tremaining: 1.33s\n",
            "810:\tlearn: 19.6382933\ttotal: 5.68s\tremaining: 1.32s\n",
            "811:\tlearn: 19.5889191\ttotal: 5.68s\tremaining: 1.32s\n",
            "812:\tlearn: 19.5638487\ttotal: 5.69s\tremaining: 1.31s\n",
            "813:\tlearn: 19.4926424\ttotal: 5.7s\tremaining: 1.3s\n",
            "814:\tlearn: 19.3961396\ttotal: 5.71s\tremaining: 1.29s\n",
            "815:\tlearn: 19.3880242\ttotal: 5.71s\tremaining: 1.29s\n",
            "816:\tlearn: 19.2808372\ttotal: 5.72s\tremaining: 1.28s\n",
            "817:\tlearn: 19.1712815\ttotal: 5.73s\tremaining: 1.27s\n",
            "818:\tlearn: 19.0909823\ttotal: 5.74s\tremaining: 1.27s\n",
            "819:\tlearn: 18.9993504\ttotal: 5.75s\tremaining: 1.26s\n",
            "820:\tlearn: 18.9773399\ttotal: 5.75s\tremaining: 1.25s\n",
            "821:\tlearn: 18.8989735\ttotal: 5.76s\tremaining: 1.25s\n",
            "822:\tlearn: 18.8275176\ttotal: 5.77s\tremaining: 1.24s\n",
            "823:\tlearn: 18.8092278\ttotal: 5.77s\tremaining: 1.23s\n",
            "824:\tlearn: 18.7938447\ttotal: 5.78s\tremaining: 1.23s\n",
            "825:\tlearn: 18.7871267\ttotal: 5.79s\tremaining: 1.22s\n",
            "826:\tlearn: 18.7299674\ttotal: 5.8s\tremaining: 1.21s\n",
            "827:\tlearn: 18.6808264\ttotal: 5.81s\tremaining: 1.21s\n",
            "828:\tlearn: 18.5984875\ttotal: 5.81s\tremaining: 1.2s\n",
            "829:\tlearn: 18.5170088\ttotal: 5.82s\tremaining: 1.19s\n",
            "830:\tlearn: 18.4707382\ttotal: 5.83s\tremaining: 1.19s\n",
            "831:\tlearn: 18.4368619\ttotal: 5.84s\tremaining: 1.18s\n",
            "832:\tlearn: 18.3683191\ttotal: 5.84s\tremaining: 1.17s\n",
            "833:\tlearn: 18.3295058\ttotal: 5.85s\tremaining: 1.16s\n",
            "834:\tlearn: 18.2587263\ttotal: 5.86s\tremaining: 1.16s\n",
            "835:\tlearn: 18.2103679\ttotal: 5.87s\tremaining: 1.15s\n",
            "836:\tlearn: 18.1781032\ttotal: 5.88s\tremaining: 1.14s\n",
            "837:\tlearn: 18.0746921\ttotal: 5.89s\tremaining: 1.14s\n",
            "838:\tlearn: 18.0131984\ttotal: 5.89s\tremaining: 1.13s\n",
            "839:\tlearn: 17.9510877\ttotal: 5.9s\tremaining: 1.12s\n",
            "840:\tlearn: 17.8893536\ttotal: 5.91s\tremaining: 1.12s\n",
            "841:\tlearn: 17.8813583\ttotal: 5.92s\tremaining: 1.11s\n",
            "842:\tlearn: 17.8129857\ttotal: 5.93s\tremaining: 1.1s\n",
            "843:\tlearn: 17.7981202\ttotal: 5.93s\tremaining: 1.1s\n",
            "844:\tlearn: 17.7414627\ttotal: 5.94s\tremaining: 1.09s\n",
            "845:\tlearn: 17.7255534\ttotal: 5.95s\tremaining: 1.08s\n",
            "846:\tlearn: 17.6965545\ttotal: 5.95s\tremaining: 1.07s\n",
            "847:\tlearn: 17.6499397\ttotal: 5.96s\tremaining: 1.07s\n",
            "848:\tlearn: 17.6133852\ttotal: 5.96s\tremaining: 1.06s\n",
            "849:\tlearn: 17.5621620\ttotal: 5.97s\tremaining: 1.05s\n",
            "850:\tlearn: 17.5064049\ttotal: 5.98s\tremaining: 1.05s\n",
            "851:\tlearn: 17.4643467\ttotal: 5.98s\tremaining: 1.04s\n",
            "852:\tlearn: 17.4569544\ttotal: 5.99s\tremaining: 1.03s\n",
            "853:\tlearn: 17.3731897\ttotal: 6.01s\tremaining: 1.03s\n",
            "854:\tlearn: 17.3313609\ttotal: 6.03s\tremaining: 1.02s\n",
            "855:\tlearn: 17.2781582\ttotal: 6.04s\tremaining: 1.02s\n",
            "856:\tlearn: 17.2283433\ttotal: 6.05s\tremaining: 1.01s\n",
            "857:\tlearn: 17.1944614\ttotal: 6.07s\tremaining: 1s\n",
            "858:\tlearn: 17.1573393\ttotal: 6.08s\tremaining: 998ms\n",
            "859:\tlearn: 17.0975067\ttotal: 6.09s\tremaining: 991ms\n",
            "860:\tlearn: 17.0462043\ttotal: 6.1s\tremaining: 985ms\n",
            "861:\tlearn: 17.0118805\ttotal: 6.11s\tremaining: 978ms\n",
            "862:\tlearn: 17.0045195\ttotal: 6.12s\tremaining: 972ms\n",
            "863:\tlearn: 16.9528999\ttotal: 6.13s\tremaining: 965ms\n",
            "864:\tlearn: 16.9270632\ttotal: 6.14s\tremaining: 958ms\n",
            "865:\tlearn: 16.8915252\ttotal: 6.15s\tremaining: 951ms\n",
            "866:\tlearn: 16.7946576\ttotal: 6.15s\tremaining: 944ms\n",
            "867:\tlearn: 16.7737222\ttotal: 6.17s\tremaining: 938ms\n",
            "868:\tlearn: 16.7192509\ttotal: 6.17s\tremaining: 931ms\n",
            "869:\tlearn: 16.7138388\ttotal: 6.18s\tremaining: 924ms\n",
            "870:\tlearn: 16.6877768\ttotal: 6.2s\tremaining: 918ms\n",
            "871:\tlearn: 16.6265748\ttotal: 6.2s\tremaining: 911ms\n",
            "872:\tlearn: 16.5641199\ttotal: 6.22s\tremaining: 904ms\n",
            "873:\tlearn: 16.4935111\ttotal: 6.22s\tremaining: 897ms\n",
            "874:\tlearn: 16.4250863\ttotal: 6.23s\tremaining: 891ms\n",
            "875:\tlearn: 16.3566947\ttotal: 6.24s\tremaining: 884ms\n",
            "876:\tlearn: 16.2731185\ttotal: 6.26s\tremaining: 877ms\n",
            "877:\tlearn: 16.2207923\ttotal: 6.26s\tremaining: 870ms\n",
            "878:\tlearn: 16.2073108\ttotal: 6.27s\tremaining: 863ms\n",
            "879:\tlearn: 16.1336576\ttotal: 6.28s\tremaining: 856ms\n",
            "880:\tlearn: 16.0994139\ttotal: 6.28s\tremaining: 849ms\n",
            "881:\tlearn: 16.0720217\ttotal: 6.29s\tremaining: 842ms\n",
            "882:\tlearn: 16.0192163\ttotal: 6.3s\tremaining: 835ms\n",
            "883:\tlearn: 16.0021989\ttotal: 6.31s\tremaining: 828ms\n",
            "884:\tlearn: 15.9003005\ttotal: 6.32s\tremaining: 821ms\n",
            "885:\tlearn: 15.8685768\ttotal: 6.32s\tremaining: 813ms\n",
            "886:\tlearn: 15.7757199\ttotal: 6.33s\tremaining: 807ms\n",
            "887:\tlearn: 15.7280015\ttotal: 6.34s\tremaining: 800ms\n",
            "888:\tlearn: 15.7037867\ttotal: 6.35s\tremaining: 793ms\n",
            "889:\tlearn: 15.6876254\ttotal: 6.36s\tremaining: 786ms\n",
            "890:\tlearn: 15.6002589\ttotal: 6.37s\tremaining: 780ms\n",
            "891:\tlearn: 15.5663914\ttotal: 6.39s\tremaining: 774ms\n",
            "892:\tlearn: 15.4827503\ttotal: 6.4s\tremaining: 766ms\n",
            "893:\tlearn: 15.4422647\ttotal: 6.4s\tremaining: 759ms\n",
            "894:\tlearn: 15.4230904\ttotal: 6.41s\tremaining: 752ms\n",
            "895:\tlearn: 15.3907978\ttotal: 6.42s\tremaining: 745ms\n",
            "896:\tlearn: 15.3022423\ttotal: 6.42s\tremaining: 738ms\n",
            "897:\tlearn: 15.2770800\ttotal: 6.43s\tremaining: 731ms\n",
            "898:\tlearn: 15.2708396\ttotal: 6.45s\tremaining: 724ms\n",
            "899:\tlearn: 15.2217814\ttotal: 6.45s\tremaining: 717ms\n",
            "900:\tlearn: 15.2150872\ttotal: 6.46s\tremaining: 710ms\n",
            "901:\tlearn: 15.1938758\ttotal: 6.48s\tremaining: 704ms\n",
            "902:\tlearn: 15.1087389\ttotal: 6.5s\tremaining: 698ms\n",
            "903:\tlearn: 15.0270836\ttotal: 6.51s\tremaining: 691ms\n",
            "904:\tlearn: 14.9579009\ttotal: 6.51s\tremaining: 684ms\n",
            "905:\tlearn: 14.9321713\ttotal: 6.53s\tremaining: 678ms\n",
            "906:\tlearn: 14.9254894\ttotal: 6.54s\tremaining: 670ms\n",
            "907:\tlearn: 14.8662999\ttotal: 6.55s\tremaining: 664ms\n",
            "908:\tlearn: 14.7969088\ttotal: 6.55s\tremaining: 656ms\n",
            "909:\tlearn: 14.7187437\ttotal: 6.57s\tremaining: 650ms\n",
            "910:\tlearn: 14.6594229\ttotal: 6.58s\tremaining: 642ms\n",
            "911:\tlearn: 14.6109629\ttotal: 6.59s\tremaining: 636ms\n",
            "912:\tlearn: 14.5833869\ttotal: 6.6s\tremaining: 629ms\n",
            "913:\tlearn: 14.5677206\ttotal: 6.6s\tremaining: 621ms\n",
            "914:\tlearn: 14.5260964\ttotal: 6.61s\tremaining: 614ms\n",
            "915:\tlearn: 14.4838792\ttotal: 6.61s\tremaining: 607ms\n",
            "916:\tlearn: 14.4614097\ttotal: 6.62s\tremaining: 599ms\n",
            "917:\tlearn: 14.4432212\ttotal: 6.63s\tremaining: 592ms\n",
            "918:\tlearn: 14.4363977\ttotal: 6.63s\tremaining: 584ms\n",
            "919:\tlearn: 14.3740822\ttotal: 6.64s\tremaining: 577ms\n",
            "920:\tlearn: 14.3363459\ttotal: 6.64s\tremaining: 570ms\n",
            "921:\tlearn: 14.2862425\ttotal: 6.64s\tremaining: 562ms\n",
            "922:\tlearn: 14.2195191\ttotal: 6.65s\tremaining: 555ms\n",
            "923:\tlearn: 14.1752422\ttotal: 6.66s\tremaining: 548ms\n",
            "924:\tlearn: 14.1582897\ttotal: 6.67s\tremaining: 540ms\n",
            "925:\tlearn: 14.0892518\ttotal: 6.67s\tremaining: 533ms\n",
            "926:\tlearn: 14.0163904\ttotal: 6.68s\tremaining: 526ms\n",
            "927:\tlearn: 13.9674906\ttotal: 6.68s\tremaining: 519ms\n",
            "928:\tlearn: 13.9421041\ttotal: 6.7s\tremaining: 512ms\n",
            "929:\tlearn: 13.9264108\ttotal: 6.7s\tremaining: 504ms\n",
            "930:\tlearn: 13.8953443\ttotal: 6.71s\tremaining: 498ms\n",
            "931:\tlearn: 13.8514821\ttotal: 6.72s\tremaining: 490ms\n",
            "932:\tlearn: 13.8317730\ttotal: 6.72s\tremaining: 483ms\n",
            "933:\tlearn: 13.7980615\ttotal: 6.72s\tremaining: 475ms\n",
            "934:\tlearn: 13.7252551\ttotal: 6.72s\tremaining: 468ms\n",
            "935:\tlearn: 13.6867475\ttotal: 6.73s\tremaining: 460ms\n",
            "936:\tlearn: 13.6663164\ttotal: 6.73s\tremaining: 453ms\n",
            "937:\tlearn: 13.6108173\ttotal: 6.73s\tremaining: 445ms\n",
            "938:\tlearn: 13.5827380\ttotal: 6.74s\tremaining: 438ms\n",
            "939:\tlearn: 13.5211246\ttotal: 6.74s\tremaining: 430ms\n",
            "940:\tlearn: 13.4752089\ttotal: 6.74s\tremaining: 423ms\n",
            "941:\tlearn: 13.4283115\ttotal: 6.75s\tremaining: 415ms\n",
            "942:\tlearn: 13.3912327\ttotal: 6.75s\tremaining: 408ms\n",
            "943:\tlearn: 13.3593766\ttotal: 6.75s\tremaining: 401ms\n",
            "944:\tlearn: 13.3015250\ttotal: 6.75s\tremaining: 393ms\n",
            "945:\tlearn: 13.2587480\ttotal: 6.76s\tremaining: 386ms\n",
            "946:\tlearn: 13.1949436\ttotal: 6.76s\tremaining: 378ms\n",
            "947:\tlearn: 13.1552441\ttotal: 6.76s\tremaining: 371ms\n",
            "948:\tlearn: 13.0700947\ttotal: 6.76s\tremaining: 364ms\n",
            "949:\tlearn: 13.0460884\ttotal: 6.77s\tremaining: 356ms\n",
            "950:\tlearn: 13.0315972\ttotal: 6.77s\tremaining: 349ms\n",
            "951:\tlearn: 12.9964111\ttotal: 6.77s\tremaining: 341ms\n",
            "952:\tlearn: 12.9757139\ttotal: 6.78s\tremaining: 334ms\n",
            "953:\tlearn: 12.9120533\ttotal: 6.78s\tremaining: 327ms\n",
            "954:\tlearn: 12.8776679\ttotal: 6.78s\tremaining: 320ms\n",
            "955:\tlearn: 12.8703243\ttotal: 6.79s\tremaining: 312ms\n",
            "956:\tlearn: 12.8058615\ttotal: 6.8s\tremaining: 306ms\n",
            "957:\tlearn: 12.7637381\ttotal: 6.81s\tremaining: 298ms\n",
            "958:\tlearn: 12.7517063\ttotal: 6.81s\tremaining: 291ms\n",
            "959:\tlearn: 12.7382108\ttotal: 6.82s\tremaining: 284ms\n",
            "960:\tlearn: 12.6881713\ttotal: 6.82s\tremaining: 277ms\n",
            "961:\tlearn: 12.6728317\ttotal: 6.82s\tremaining: 269ms\n",
            "962:\tlearn: 12.6386609\ttotal: 6.82s\tremaining: 262ms\n",
            "963:\tlearn: 12.5837642\ttotal: 6.83s\tremaining: 255ms\n",
            "964:\tlearn: 12.5689789\ttotal: 6.83s\tremaining: 248ms\n",
            "965:\tlearn: 12.5362136\ttotal: 6.83s\tremaining: 240ms\n",
            "966:\tlearn: 12.5186020\ttotal: 6.83s\tremaining: 233ms\n",
            "967:\tlearn: 12.4787889\ttotal: 6.83s\tremaining: 226ms\n",
            "968:\tlearn: 12.4463866\ttotal: 6.84s\tremaining: 219ms\n",
            "969:\tlearn: 12.3919484\ttotal: 6.84s\tremaining: 212ms\n",
            "970:\tlearn: 12.3583173\ttotal: 6.84s\tremaining: 204ms\n",
            "971:\tlearn: 12.3430204\ttotal: 6.84s\tremaining: 197ms\n",
            "972:\tlearn: 12.3036135\ttotal: 6.85s\tremaining: 190ms\n",
            "973:\tlearn: 12.2785886\ttotal: 6.85s\tremaining: 183ms\n",
            "974:\tlearn: 12.2424148\ttotal: 6.86s\tremaining: 176ms\n",
            "975:\tlearn: 12.2287225\ttotal: 6.86s\tremaining: 169ms\n",
            "976:\tlearn: 12.1894056\ttotal: 6.86s\tremaining: 162ms\n",
            "977:\tlearn: 12.1399699\ttotal: 6.86s\tremaining: 154ms\n",
            "978:\tlearn: 12.1165698\ttotal: 6.87s\tremaining: 147ms\n",
            "979:\tlearn: 12.1084930\ttotal: 6.87s\tremaining: 140ms\n",
            "980:\tlearn: 12.1041455\ttotal: 6.88s\tremaining: 133ms\n",
            "981:\tlearn: 12.0749440\ttotal: 6.88s\tremaining: 126ms\n",
            "982:\tlearn: 12.0676323\ttotal: 6.88s\tremaining: 119ms\n",
            "983:\tlearn: 12.0253491\ttotal: 6.88s\tremaining: 112ms\n",
            "984:\tlearn: 11.9725269\ttotal: 6.89s\tremaining: 105ms\n",
            "985:\tlearn: 11.9344239\ttotal: 6.89s\tremaining: 97.8ms\n",
            "986:\tlearn: 11.8870660\ttotal: 6.89s\tremaining: 90.8ms\n",
            "987:\tlearn: 11.8411099\ttotal: 6.89s\tremaining: 83.7ms\n",
            "988:\tlearn: 11.7973602\ttotal: 6.9s\tremaining: 76.7ms\n",
            "989:\tlearn: 11.7514376\ttotal: 6.9s\tremaining: 69.7ms\n",
            "990:\tlearn: 11.7232746\ttotal: 6.9s\tremaining: 62.7ms\n",
            "991:\tlearn: 11.6852796\ttotal: 6.9s\tremaining: 55.7ms\n",
            "992:\tlearn: 11.6463794\ttotal: 6.91s\tremaining: 48.7ms\n",
            "993:\tlearn: 11.6106308\ttotal: 6.91s\tremaining: 41.7ms\n",
            "994:\tlearn: 11.5731961\ttotal: 6.91s\tremaining: 34.7ms\n",
            "995:\tlearn: 11.5417359\ttotal: 6.91s\tremaining: 27.8ms\n",
            "996:\tlearn: 11.5167117\ttotal: 6.92s\tremaining: 20.8ms\n",
            "997:\tlearn: 11.4745232\ttotal: 6.92s\tremaining: 13.9ms\n",
            "998:\tlearn: 11.4604481\ttotal: 6.92s\tremaining: 6.93ms\n",
            "999:\tlearn: 11.4510502\ttotal: 6.92s\tremaining: 0us\n"
          ]
        }
      ]
    },
    {
      "cell_type": "code",
      "source": [
        "y_pred = catb_model.predict(X_test)\n",
        "np.sqrt(mean_squared_error(y_test,y_pred))"
      ],
      "metadata": {
        "colab": {
          "base_uri": "https://localhost:8080/"
        },
        "id": "ai18klGbcwma",
        "outputId": "50f425e9-df46-48eb-d393-4f214a4ef5a5"
      },
      "execution_count": 184,
      "outputs": [
        {
          "output_type": "execute_result",
          "data": {
            "text/plain": [
              "351.194631344607"
            ]
          },
          "metadata": {},
          "execution_count": 184
        }
      ]
    },
    {
      "cell_type": "code",
      "source": [
        "catb_params = {\"iterations\":[200,500,100],\n",
        "              \"learning_rate\":[0.01,0.1],\n",
        "              \"depth\":[3,6,8]}"
      ],
      "metadata": {
        "id": "JvpFJBhQcx3Q"
      },
      "execution_count": 185,
      "outputs": []
    },
    {
      "cell_type": "code",
      "source": [
        "catb_model = CatBoostRegressor()"
      ],
      "metadata": {
        "id": "Hv46oRsocy_j"
      },
      "execution_count": 186,
      "outputs": []
    },
    {
      "cell_type": "code",
      "source": [
        "catb_cv_model = GridSearchCV(catb_model,\n",
        "                          catb_params,\n",
        "                          cv=5,\n",
        "                          n_jobs=-1,\n",
        "                          verbose = 2).fit(X_train,y_train)"
      ],
      "metadata": {
        "colab": {
          "base_uri": "https://localhost:8080/"
        },
        "id": "hVmkIbYGc0Mk",
        "outputId": "1cafc9fe-3621-48a3-8eb8-9837a68e4f13"
      },
      "execution_count": 187,
      "outputs": [
        {
          "output_type": "stream",
          "name": "stdout",
          "text": [
            "Fitting 5 folds for each of 18 candidates, totalling 90 fits\n",
            "0:\tlearn: 425.7900818\ttotal: 778us\tremaining: 155ms\n",
            "1:\tlearn: 404.8723520\ttotal: 1.44ms\tremaining: 143ms\n",
            "2:\tlearn: 387.4057666\ttotal: 2.23ms\tremaining: 147ms\n",
            "3:\tlearn: 372.2801584\ttotal: 3.33ms\tremaining: 163ms\n",
            "4:\tlearn: 358.9204229\ttotal: 4.41ms\tremaining: 172ms\n",
            "5:\tlearn: 347.0083933\ttotal: 5.53ms\tremaining: 179ms\n",
            "6:\tlearn: 336.0130818\ttotal: 6.65ms\tremaining: 183ms\n",
            "7:\tlearn: 324.3923300\ttotal: 8.13ms\tremaining: 195ms\n",
            "8:\tlearn: 314.8690957\ttotal: 9.15ms\tremaining: 194ms\n",
            "9:\tlearn: 308.5075563\ttotal: 10.1ms\tremaining: 193ms\n",
            "10:\tlearn: 298.8587285\ttotal: 11.5ms\tremaining: 198ms\n",
            "11:\tlearn: 294.7655438\ttotal: 12.5ms\tremaining: 195ms\n",
            "12:\tlearn: 288.0697862\ttotal: 13.5ms\tremaining: 194ms\n",
            "13:\tlearn: 282.6697154\ttotal: 14.6ms\tremaining: 193ms\n",
            "14:\tlearn: 277.6121667\ttotal: 15.5ms\tremaining: 192ms\n",
            "15:\tlearn: 273.4383979\ttotal: 16.6ms\tremaining: 190ms\n",
            "16:\tlearn: 269.1556201\ttotal: 17.7ms\tremaining: 191ms\n",
            "17:\tlearn: 264.8098704\ttotal: 18.6ms\tremaining: 188ms\n",
            "18:\tlearn: 261.6700768\ttotal: 19.5ms\tremaining: 185ms\n",
            "19:\tlearn: 257.3961290\ttotal: 20.4ms\tremaining: 183ms\n",
            "20:\tlearn: 252.2691509\ttotal: 21.4ms\tremaining: 182ms\n",
            "21:\tlearn: 249.0686482\ttotal: 22.3ms\tremaining: 180ms\n",
            "22:\tlearn: 244.1881041\ttotal: 23.2ms\tremaining: 179ms\n",
            "23:\tlearn: 242.1696687\ttotal: 24.1ms\tremaining: 177ms\n",
            "24:\tlearn: 239.2131476\ttotal: 25ms\tremaining: 175ms\n",
            "25:\tlearn: 236.6883901\ttotal: 25.9ms\tremaining: 174ms\n",
            "26:\tlearn: 234.5295613\ttotal: 26.8ms\tremaining: 172ms\n",
            "27:\tlearn: 231.7788834\ttotal: 27.7ms\tremaining: 170ms\n",
            "28:\tlearn: 228.8020330\ttotal: 28.6ms\tremaining: 169ms\n",
            "29:\tlearn: 226.8420565\ttotal: 29.5ms\tremaining: 167ms\n",
            "30:\tlearn: 224.0686558\ttotal: 30.4ms\tremaining: 166ms\n",
            "31:\tlearn: 222.6644699\ttotal: 31.3ms\tremaining: 164ms\n",
            "32:\tlearn: 221.6889573\ttotal: 32.2ms\tremaining: 163ms\n",
            "33:\tlearn: 220.5171653\ttotal: 33.1ms\tremaining: 162ms\n",
            "34:\tlearn: 217.7686033\ttotal: 34ms\tremaining: 160ms\n",
            "35:\tlearn: 214.8462789\ttotal: 35ms\tremaining: 159ms\n",
            "36:\tlearn: 214.4799251\ttotal: 35.9ms\tremaining: 158ms\n",
            "37:\tlearn: 212.3480429\ttotal: 36.9ms\tremaining: 157ms\n",
            "38:\tlearn: 210.0040644\ttotal: 37.8ms\tremaining: 156ms\n",
            "39:\tlearn: 208.3086913\ttotal: 38.8ms\tremaining: 155ms\n",
            "40:\tlearn: 207.5469119\ttotal: 39.7ms\tremaining: 154ms\n",
            "41:\tlearn: 205.9351113\ttotal: 40.6ms\tremaining: 153ms\n",
            "42:\tlearn: 205.3580824\ttotal: 41.5ms\tremaining: 151ms\n",
            "43:\tlearn: 204.6204266\ttotal: 42.3ms\tremaining: 150ms\n",
            "44:\tlearn: 202.5023220\ttotal: 43.3ms\tremaining: 149ms\n",
            "45:\tlearn: 201.4347853\ttotal: 44.2ms\tremaining: 148ms\n",
            "46:\tlearn: 200.8752553\ttotal: 45.1ms\tremaining: 147ms\n",
            "47:\tlearn: 200.4047344\ttotal: 46ms\tremaining: 146ms\n",
            "48:\tlearn: 197.5433004\ttotal: 46.9ms\tremaining: 144ms\n",
            "49:\tlearn: 194.6943292\ttotal: 47.8ms\tremaining: 143ms\n",
            "50:\tlearn: 194.3011982\ttotal: 48.7ms\tremaining: 142ms\n",
            "51:\tlearn: 193.4011843\ttotal: 49.6ms\tremaining: 141ms\n",
            "52:\tlearn: 193.0109753\ttotal: 50.5ms\tremaining: 140ms\n",
            "53:\tlearn: 192.6071142\ttotal: 51.5ms\tremaining: 139ms\n",
            "54:\tlearn: 191.9666153\ttotal: 52.4ms\tremaining: 138ms\n",
            "55:\tlearn: 191.5789727\ttotal: 53.3ms\tremaining: 137ms\n",
            "56:\tlearn: 190.7186284\ttotal: 54.2ms\tremaining: 136ms\n",
            "57:\tlearn: 190.4543087\ttotal: 55ms\tremaining: 135ms\n",
            "58:\tlearn: 190.1336317\ttotal: 55.9ms\tremaining: 134ms\n",
            "59:\tlearn: 188.2286484\ttotal: 56.8ms\tremaining: 133ms\n",
            "60:\tlearn: 187.7652417\ttotal: 57.7ms\tremaining: 132ms\n",
            "61:\tlearn: 187.4227950\ttotal: 58.6ms\tremaining: 130ms\n",
            "62:\tlearn: 186.9289182\ttotal: 59.5ms\tremaining: 129ms\n",
            "63:\tlearn: 185.2993487\ttotal: 60.4ms\tremaining: 128ms\n",
            "64:\tlearn: 185.0349598\ttotal: 61.3ms\tremaining: 127ms\n",
            "65:\tlearn: 183.9773430\ttotal: 62.3ms\tremaining: 126ms\n",
            "66:\tlearn: 183.4463166\ttotal: 63.2ms\tremaining: 125ms\n",
            "67:\tlearn: 181.6627740\ttotal: 64.3ms\tremaining: 125ms\n",
            "68:\tlearn: 179.8785055\ttotal: 65.2ms\tremaining: 124ms\n",
            "69:\tlearn: 179.6737527\ttotal: 66.1ms\tremaining: 123ms\n",
            "70:\tlearn: 177.0830981\ttotal: 67ms\tremaining: 122ms\n",
            "71:\tlearn: 176.5917790\ttotal: 67.9ms\tremaining: 121ms\n",
            "72:\tlearn: 176.1240502\ttotal: 68.8ms\tremaining: 120ms\n",
            "73:\tlearn: 174.4828953\ttotal: 69.7ms\tremaining: 119ms\n",
            "74:\tlearn: 173.4220482\ttotal: 70.6ms\tremaining: 118ms\n",
            "75:\tlearn: 171.9903405\ttotal: 71.5ms\tremaining: 117ms\n",
            "76:\tlearn: 171.5803116\ttotal: 72.4ms\tremaining: 116ms\n",
            "77:\tlearn: 170.1411594\ttotal: 73.4ms\tremaining: 115ms\n",
            "78:\tlearn: 167.9868133\ttotal: 74.3ms\tremaining: 114ms\n",
            "79:\tlearn: 166.5304475\ttotal: 75.3ms\tremaining: 113ms\n",
            "80:\tlearn: 166.1741622\ttotal: 76.2ms\tremaining: 112ms\n",
            "81:\tlearn: 165.8411762\ttotal: 77.1ms\tremaining: 111ms\n",
            "82:\tlearn: 165.1041583\ttotal: 78ms\tremaining: 110ms\n",
            "83:\tlearn: 163.5641543\ttotal: 79ms\tremaining: 109ms\n",
            "84:\tlearn: 163.2003311\ttotal: 80.1ms\tremaining: 108ms\n",
            "85:\tlearn: 161.1781702\ttotal: 81.2ms\tremaining: 108ms\n",
            "86:\tlearn: 160.8727658\ttotal: 82.1ms\tremaining: 107ms\n",
            "87:\tlearn: 159.7954077\ttotal: 83ms\tremaining: 106ms\n",
            "88:\tlearn: 158.8759132\ttotal: 84ms\tremaining: 105ms\n",
            "89:\tlearn: 158.4831323\ttotal: 84.9ms\tremaining: 104ms\n",
            "90:\tlearn: 157.4808127\ttotal: 86ms\tremaining: 103ms\n",
            "91:\tlearn: 157.1703230\ttotal: 87ms\tremaining: 102ms\n",
            "92:\tlearn: 155.3184755\ttotal: 87.6ms\tremaining: 101ms\n",
            "93:\tlearn: 154.3988879\ttotal: 88.3ms\tremaining: 99.5ms\n",
            "94:\tlearn: 153.4591935\ttotal: 88.9ms\tremaining: 98.2ms\n",
            "95:\tlearn: 153.1206893\ttotal: 89.5ms\tremaining: 96.9ms\n",
            "96:\tlearn: 152.7897351\ttotal: 90.1ms\tremaining: 95.6ms\n",
            "97:\tlearn: 150.9293164\ttotal: 90.8ms\tremaining: 94.5ms\n",
            "98:\tlearn: 149.7127171\ttotal: 91.7ms\tremaining: 93.6ms\n",
            "99:\tlearn: 149.5089324\ttotal: 92.6ms\tremaining: 92.6ms\n",
            "100:\tlearn: 149.3156312\ttotal: 93.5ms\tremaining: 91.7ms\n",
            "101:\tlearn: 147.7226718\ttotal: 94.5ms\tremaining: 90.8ms\n",
            "102:\tlearn: 146.7692282\ttotal: 95.4ms\tremaining: 89.8ms\n",
            "103:\tlearn: 145.9084983\ttotal: 96.3ms\tremaining: 88.9ms\n",
            "104:\tlearn: 144.8780979\ttotal: 97.2ms\tremaining: 87.9ms\n",
            "105:\tlearn: 143.8090268\ttotal: 98.1ms\tremaining: 87ms\n",
            "106:\tlearn: 143.1272551\ttotal: 99ms\tremaining: 86ms\n",
            "107:\tlearn: 142.4863018\ttotal: 99.9ms\tremaining: 85.1ms\n",
            "108:\tlearn: 141.4861279\ttotal: 101ms\tremaining: 84.2ms\n",
            "109:\tlearn: 140.8689530\ttotal: 102ms\tremaining: 83.2ms\n",
            "110:\tlearn: 140.4009570\ttotal: 103ms\tremaining: 82.3ms\n",
            "111:\tlearn: 140.0344439\ttotal: 104ms\tremaining: 81.3ms\n",
            "112:\tlearn: 139.4290096\ttotal: 104ms\tremaining: 80.4ms\n",
            "113:\tlearn: 139.2008874\ttotal: 105ms\tremaining: 79.5ms\n",
            "114:\tlearn: 138.6000188\ttotal: 106ms\tremaining: 78.5ms\n",
            "115:\tlearn: 138.3962706\ttotal: 107ms\tremaining: 77.6ms\n",
            "116:\tlearn: 138.1737256\ttotal: 108ms\tremaining: 76.6ms\n",
            "117:\tlearn: 137.6342361\ttotal: 109ms\tremaining: 75.7ms\n",
            "118:\tlearn: 136.7119826\ttotal: 110ms\tremaining: 74.9ms\n",
            "119:\tlearn: 135.3057402\ttotal: 111ms\tremaining: 74ms\n",
            "120:\tlearn: 134.4797815\ttotal: 112ms\tremaining: 73.2ms\n",
            "121:\tlearn: 133.0774331\ttotal: 113ms\tremaining: 72.2ms\n",
            "122:\tlearn: 131.8739238\ttotal: 114ms\tremaining: 71.3ms\n",
            "123:\tlearn: 131.3203837\ttotal: 115ms\tremaining: 70.3ms\n",
            "124:\tlearn: 130.8294604\ttotal: 116ms\tremaining: 69.4ms\n",
            "125:\tlearn: 130.6107905\ttotal: 117ms\tremaining: 68.5ms\n",
            "126:\tlearn: 130.1614924\ttotal: 117ms\tremaining: 67.5ms\n",
            "127:\tlearn: 129.3166972\ttotal: 119ms\tremaining: 66.8ms\n",
            "128:\tlearn: 129.1038672\ttotal: 120ms\tremaining: 66ms\n",
            "129:\tlearn: 128.9594874\ttotal: 121ms\tremaining: 65.1ms\n",
            "130:\tlearn: 128.1849638\ttotal: 122ms\tremaining: 64.2ms\n",
            "131:\tlearn: 128.0307033\ttotal: 123ms\tremaining: 63.2ms\n",
            "132:\tlearn: 127.3373882\ttotal: 124ms\tremaining: 62.3ms\n",
            "133:\tlearn: 126.2856989\ttotal: 125ms\tremaining: 61.4ms\n",
            "134:\tlearn: 126.1379832\ttotal: 125ms\tremaining: 60.4ms\n",
            "135:\tlearn: 126.0180019\ttotal: 126ms\tremaining: 59.5ms\n",
            "136:\tlearn: 125.8843963\ttotal: 127ms\tremaining: 58.5ms\n",
            "137:\tlearn: 125.7576333\ttotal: 128ms\tremaining: 57.6ms\n",
            "138:\tlearn: 125.4794581\ttotal: 129ms\tremaining: 56.6ms\n",
            "139:\tlearn: 124.7920270\ttotal: 130ms\tremaining: 55.7ms\n",
            "140:\tlearn: 124.6530278\ttotal: 131ms\tremaining: 54.8ms\n",
            "141:\tlearn: 123.4539010\ttotal: 132ms\tremaining: 53.8ms\n",
            "142:\tlearn: 122.8980001\ttotal: 133ms\tremaining: 52.9ms\n",
            "143:\tlearn: 122.0911177\ttotal: 134ms\tremaining: 51.9ms\n",
            "144:\tlearn: 121.1209154\ttotal: 134ms\tremaining: 51ms\n",
            "145:\tlearn: 120.1613553\ttotal: 135ms\tremaining: 50.1ms\n",
            "146:\tlearn: 119.1894727\ttotal: 136ms\tremaining: 49.1ms\n",
            "147:\tlearn: 118.0325732\ttotal: 137ms\tremaining: 48.2ms\n",
            "148:\tlearn: 117.9138240\ttotal: 138ms\tremaining: 47.3ms\n",
            "149:\tlearn: 117.3831462\ttotal: 139ms\tremaining: 46.3ms\n",
            "150:\tlearn: 116.8475244\ttotal: 140ms\tremaining: 45.4ms\n",
            "151:\tlearn: 116.3821954\ttotal: 141ms\tremaining: 44.5ms\n",
            "152:\tlearn: 115.5293176\ttotal: 142ms\tremaining: 43.6ms\n",
            "153:\tlearn: 115.0975175\ttotal: 143ms\tremaining: 42.7ms\n",
            "154:\tlearn: 114.0649594\ttotal: 144ms\tremaining: 41.8ms\n",
            "155:\tlearn: 113.2562326\ttotal: 145ms\tremaining: 40.9ms\n",
            "156:\tlearn: 112.7557871\ttotal: 146ms\tremaining: 40ms\n",
            "157:\tlearn: 112.5657565\ttotal: 147ms\tremaining: 39ms\n",
            "158:\tlearn: 112.3541525\ttotal: 148ms\tremaining: 38.2ms\n",
            "159:\tlearn: 111.8527982\ttotal: 149ms\tremaining: 37.3ms\n",
            "160:\tlearn: 111.1619644\ttotal: 150ms\tremaining: 36.4ms\n",
            "161:\tlearn: 110.3588257\ttotal: 151ms\tremaining: 35.5ms\n",
            "162:\tlearn: 109.6664293\ttotal: 152ms\tremaining: 34.6ms\n",
            "163:\tlearn: 109.5577303\ttotal: 153ms\tremaining: 33.7ms\n",
            "164:\tlearn: 109.0570285\ttotal: 154ms\tremaining: 32.8ms\n",
            "165:\tlearn: 108.7601467\ttotal: 155ms\tremaining: 31.8ms\n",
            "166:\tlearn: 108.0448620\ttotal: 156ms\tremaining: 30.9ms\n",
            "167:\tlearn: 107.5593372\ttotal: 157ms\tremaining: 29.9ms\n",
            "168:\tlearn: 106.3862999\ttotal: 158ms\tremaining: 29.1ms\n",
            "169:\tlearn: 106.2180807\ttotal: 159ms\tremaining: 28.1ms\n",
            "170:\tlearn: 106.0695603\ttotal: 160ms\tremaining: 27.2ms\n",
            "171:\tlearn: 105.6940213\ttotal: 161ms\tremaining: 26.2ms\n",
            "172:\tlearn: 104.7598987\ttotal: 162ms\tremaining: 25.3ms\n",
            "173:\tlearn: 104.6589992\ttotal: 163ms\tremaining: 24.3ms\n",
            "174:\tlearn: 103.7203657\ttotal: 164ms\tremaining: 23.4ms\n",
            "175:\tlearn: 103.2660987\ttotal: 165ms\tremaining: 22.5ms\n",
            "176:\tlearn: 103.0926213\ttotal: 166ms\tremaining: 21.5ms\n",
            "177:\tlearn: 102.6925209\ttotal: 167ms\tremaining: 20.6ms\n",
            "178:\tlearn: 102.1655154\ttotal: 167ms\tremaining: 19.6ms\n",
            "179:\tlearn: 101.8273108\ttotal: 168ms\tremaining: 18.7ms\n",
            "180:\tlearn: 101.7264515\ttotal: 169ms\tremaining: 17.8ms\n",
            "181:\tlearn: 101.1102333\ttotal: 170ms\tremaining: 16.8ms\n",
            "182:\tlearn: 100.7880364\ttotal: 171ms\tremaining: 15.9ms\n",
            "183:\tlearn: 100.6673014\ttotal: 172ms\tremaining: 15ms\n",
            "184:\tlearn: 100.0153055\ttotal: 173ms\tremaining: 14ms\n",
            "185:\tlearn: 99.7667281\ttotal: 174ms\tremaining: 13.1ms\n",
            "186:\tlearn: 99.1860593\ttotal: 176ms\tremaining: 12.3ms\n",
            "187:\tlearn: 99.0408133\ttotal: 177ms\tremaining: 11.3ms\n",
            "188:\tlearn: 98.9030718\ttotal: 180ms\tremaining: 10.5ms\n",
            "189:\tlearn: 97.4513860\ttotal: 183ms\tremaining: 9.62ms\n",
            "190:\tlearn: 97.3322959\ttotal: 184ms\tremaining: 8.66ms\n",
            "191:\tlearn: 97.1950848\ttotal: 185ms\tremaining: 7.7ms\n",
            "192:\tlearn: 96.6789532\ttotal: 191ms\tremaining: 6.92ms\n",
            "193:\tlearn: 96.5506179\ttotal: 192ms\tremaining: 5.94ms\n",
            "194:\tlearn: 95.6635039\ttotal: 193ms\tremaining: 4.95ms\n",
            "195:\tlearn: 94.8850777\ttotal: 194ms\tremaining: 3.96ms\n",
            "196:\tlearn: 94.1624589\ttotal: 195ms\tremaining: 2.97ms\n",
            "197:\tlearn: 93.8220662\ttotal: 196ms\tremaining: 1.98ms\n",
            "198:\tlearn: 93.7300351\ttotal: 197ms\tremaining: 990us\n",
            "199:\tlearn: 93.3339522\ttotal: 198ms\tremaining: 0us\n"
          ]
        }
      ]
    },
    {
      "cell_type": "code",
      "source": [
        "catb_cv_model.best_params_"
      ],
      "metadata": {
        "colab": {
          "base_uri": "https://localhost:8080/"
        },
        "id": "mOdL_L4Dc70o",
        "outputId": "dd1eb140-c918-4d7b-d157-1163e5d1edbd"
      },
      "execution_count": 188,
      "outputs": [
        {
          "output_type": "execute_result",
          "data": {
            "text/plain": [
              "{'depth': 3, 'iterations': 200, 'learning_rate': 0.1}"
            ]
          },
          "metadata": {},
          "execution_count": 188
        }
      ]
    },
    {
      "cell_type": "code",
      "source": [
        "catb_tuned = CatBoostRegressor(depth=3,\n",
        "                              iterations=200,\n",
        "                              learning_rate=0.1).fit(X_train,y_train)"
      ],
      "metadata": {
        "colab": {
          "base_uri": "https://localhost:8080/"
        },
        "id": "xltiPdcwc86O",
        "outputId": "3a7830d7-78ea-41ab-abf1-63b94236e5f1"
      },
      "execution_count": 189,
      "outputs": [
        {
          "output_type": "stream",
          "name": "stdout",
          "text": [
            "0:\tlearn: 425.7900818\ttotal: 940us\tremaining: 187ms\n",
            "1:\tlearn: 404.8723520\ttotal: 9.33ms\tremaining: 924ms\n",
            "2:\tlearn: 387.4057666\ttotal: 10.5ms\tremaining: 689ms\n",
            "3:\tlearn: 372.2801584\ttotal: 11.6ms\tremaining: 566ms\n",
            "4:\tlearn: 358.9204229\ttotal: 12.6ms\tremaining: 490ms\n",
            "5:\tlearn: 347.0083933\ttotal: 13.5ms\tremaining: 438ms\n",
            "6:\tlearn: 336.0130818\ttotal: 14.5ms\tremaining: 400ms\n",
            "7:\tlearn: 324.3923300\ttotal: 15.4ms\tremaining: 371ms\n",
            "8:\tlearn: 314.8690957\ttotal: 16.4ms\tremaining: 347ms\n",
            "9:\tlearn: 308.5075563\ttotal: 17.3ms\tremaining: 329ms\n",
            "10:\tlearn: 298.8587285\ttotal: 18.2ms\tremaining: 313ms\n",
            "11:\tlearn: 294.7655438\ttotal: 19.1ms\tremaining: 300ms\n",
            "12:\tlearn: 288.0697862\ttotal: 20.1ms\tremaining: 289ms\n",
            "13:\tlearn: 282.6697154\ttotal: 21.2ms\tremaining: 282ms\n",
            "14:\tlearn: 277.6121667\ttotal: 22.3ms\tremaining: 275ms\n",
            "15:\tlearn: 273.4383979\ttotal: 23.4ms\tremaining: 269ms\n",
            "16:\tlearn: 269.1556201\ttotal: 24.7ms\tremaining: 265ms\n",
            "17:\tlearn: 264.8098704\ttotal: 25.8ms\tremaining: 260ms\n",
            "18:\tlearn: 261.6700768\ttotal: 26.7ms\tremaining: 254ms\n",
            "19:\tlearn: 257.3961290\ttotal: 27.7ms\tremaining: 249ms\n",
            "20:\tlearn: 252.2691509\ttotal: 28.6ms\tremaining: 244ms\n",
            "21:\tlearn: 249.0686482\ttotal: 29.6ms\tremaining: 239ms\n",
            "22:\tlearn: 244.1881041\ttotal: 30.5ms\tremaining: 235ms\n",
            "23:\tlearn: 242.1696687\ttotal: 31.4ms\tremaining: 231ms\n",
            "24:\tlearn: 239.2131476\ttotal: 32.5ms\tremaining: 228ms\n",
            "25:\tlearn: 236.6883901\ttotal: 33.7ms\tremaining: 226ms\n",
            "26:\tlearn: 234.5295613\ttotal: 34.9ms\tremaining: 224ms\n",
            "27:\tlearn: 231.7788834\ttotal: 35.8ms\tremaining: 220ms\n",
            "28:\tlearn: 228.8020330\ttotal: 36.8ms\tremaining: 217ms\n",
            "29:\tlearn: 226.8420565\ttotal: 37.8ms\tremaining: 214ms\n",
            "30:\tlearn: 224.0686558\ttotal: 38.8ms\tremaining: 211ms\n",
            "31:\tlearn: 222.6644699\ttotal: 39.7ms\tremaining: 209ms\n",
            "32:\tlearn: 221.6889573\ttotal: 40.7ms\tremaining: 206ms\n",
            "33:\tlearn: 220.5171653\ttotal: 41.6ms\tremaining: 203ms\n",
            "34:\tlearn: 217.7686033\ttotal: 42.5ms\tremaining: 200ms\n",
            "35:\tlearn: 214.8462789\ttotal: 43.4ms\tremaining: 198ms\n",
            "36:\tlearn: 214.4799251\ttotal: 45.3ms\tremaining: 200ms\n",
            "37:\tlearn: 212.3480429\ttotal: 47ms\tremaining: 201ms\n",
            "38:\tlearn: 210.0040644\ttotal: 48.3ms\tremaining: 200ms\n",
            "39:\tlearn: 208.3086913\ttotal: 49.4ms\tremaining: 198ms\n",
            "40:\tlearn: 207.5469119\ttotal: 50.4ms\tremaining: 195ms\n",
            "41:\tlearn: 205.9351113\ttotal: 51.4ms\tremaining: 193ms\n",
            "42:\tlearn: 205.3580824\ttotal: 52.3ms\tremaining: 191ms\n",
            "43:\tlearn: 204.6204266\ttotal: 53.2ms\tremaining: 189ms\n",
            "44:\tlearn: 202.5023220\ttotal: 54.1ms\tremaining: 186ms\n",
            "45:\tlearn: 201.4347853\ttotal: 55ms\tremaining: 184ms\n",
            "46:\tlearn: 200.8752553\ttotal: 55.9ms\tremaining: 182ms\n",
            "47:\tlearn: 200.4047344\ttotal: 56.8ms\tremaining: 180ms\n",
            "48:\tlearn: 197.5433004\ttotal: 57.7ms\tremaining: 178ms\n",
            "49:\tlearn: 194.6943292\ttotal: 58.7ms\tremaining: 176ms\n",
            "50:\tlearn: 194.3011982\ttotal: 59.6ms\tremaining: 174ms\n",
            "51:\tlearn: 193.4011843\ttotal: 60.5ms\tremaining: 172ms\n",
            "52:\tlearn: 193.0109753\ttotal: 61.4ms\tremaining: 170ms\n",
            "53:\tlearn: 192.6071142\ttotal: 62.3ms\tremaining: 169ms\n",
            "54:\tlearn: 191.9666153\ttotal: 63.2ms\tremaining: 167ms\n",
            "55:\tlearn: 191.5789727\ttotal: 64.1ms\tremaining: 165ms\n",
            "56:\tlearn: 190.7186284\ttotal: 65ms\tremaining: 163ms\n",
            "57:\tlearn: 190.4543087\ttotal: 65.9ms\tremaining: 161ms\n",
            "58:\tlearn: 190.1336317\ttotal: 66.8ms\tremaining: 160ms\n",
            "59:\tlearn: 188.2286484\ttotal: 67.7ms\tremaining: 158ms\n",
            "60:\tlearn: 187.7652417\ttotal: 68.6ms\tremaining: 156ms\n",
            "61:\tlearn: 187.4227950\ttotal: 69.5ms\tremaining: 155ms\n",
            "62:\tlearn: 186.9289182\ttotal: 70.4ms\tremaining: 153ms\n",
            "63:\tlearn: 185.2993487\ttotal: 71.4ms\tremaining: 152ms\n",
            "64:\tlearn: 185.0349598\ttotal: 72.4ms\tremaining: 150ms\n",
            "65:\tlearn: 183.9773430\ttotal: 73.5ms\tremaining: 149ms\n",
            "66:\tlearn: 183.4463166\ttotal: 74.5ms\tremaining: 148ms\n",
            "67:\tlearn: 181.6627740\ttotal: 75.4ms\tremaining: 146ms\n",
            "68:\tlearn: 179.8785055\ttotal: 76.3ms\tremaining: 145ms\n",
            "69:\tlearn: 179.6737527\ttotal: 77.2ms\tremaining: 143ms\n",
            "70:\tlearn: 177.0830981\ttotal: 78.2ms\tremaining: 142ms\n",
            "71:\tlearn: 176.5917790\ttotal: 79.1ms\tremaining: 141ms\n",
            "72:\tlearn: 176.1240502\ttotal: 80ms\tremaining: 139ms\n",
            "73:\tlearn: 174.4828953\ttotal: 80.9ms\tremaining: 138ms\n",
            "74:\tlearn: 173.4220482\ttotal: 81.5ms\tremaining: 136ms\n",
            "75:\tlearn: 171.9903405\ttotal: 82.4ms\tremaining: 135ms\n",
            "76:\tlearn: 171.5803116\ttotal: 83.3ms\tremaining: 133ms\n",
            "77:\tlearn: 170.1411594\ttotal: 84.3ms\tremaining: 132ms\n",
            "78:\tlearn: 167.9868133\ttotal: 85.2ms\tremaining: 130ms\n",
            "79:\tlearn: 166.5304475\ttotal: 86.1ms\tremaining: 129ms\n",
            "80:\tlearn: 166.1741622\ttotal: 87ms\tremaining: 128ms\n",
            "81:\tlearn: 165.8411762\ttotal: 88ms\tremaining: 127ms\n",
            "82:\tlearn: 165.1041583\ttotal: 88.9ms\tremaining: 125ms\n",
            "83:\tlearn: 163.5641543\ttotal: 89.8ms\tremaining: 124ms\n",
            "84:\tlearn: 163.2003311\ttotal: 91ms\tremaining: 123ms\n",
            "85:\tlearn: 161.1781702\ttotal: 92ms\tremaining: 122ms\n",
            "86:\tlearn: 160.8727658\ttotal: 92.9ms\tremaining: 121ms\n",
            "87:\tlearn: 159.7954077\ttotal: 93.9ms\tremaining: 119ms\n",
            "88:\tlearn: 158.8759132\ttotal: 94.9ms\tremaining: 118ms\n",
            "89:\tlearn: 158.4831323\ttotal: 96.1ms\tremaining: 117ms\n",
            "90:\tlearn: 157.4808127\ttotal: 97.1ms\tremaining: 116ms\n",
            "91:\tlearn: 157.1703230\ttotal: 98ms\tremaining: 115ms\n",
            "92:\tlearn: 155.3184755\ttotal: 98.9ms\tremaining: 114ms\n",
            "93:\tlearn: 154.3988879\ttotal: 99.9ms\tremaining: 113ms\n",
            "94:\tlearn: 153.4591935\ttotal: 101ms\tremaining: 111ms\n",
            "95:\tlearn: 153.1206893\ttotal: 102ms\tremaining: 110ms\n",
            "96:\tlearn: 152.7897351\ttotal: 103ms\tremaining: 109ms\n",
            "97:\tlearn: 150.9293164\ttotal: 104ms\tremaining: 108ms\n",
            "98:\tlearn: 149.7127171\ttotal: 104ms\tremaining: 107ms\n",
            "99:\tlearn: 149.5089324\ttotal: 105ms\tremaining: 105ms\n",
            "100:\tlearn: 149.3156312\ttotal: 106ms\tremaining: 104ms\n",
            "101:\tlearn: 147.7226718\ttotal: 107ms\tremaining: 103ms\n",
            "102:\tlearn: 146.7692282\ttotal: 108ms\tremaining: 102ms\n",
            "103:\tlearn: 145.9084983\ttotal: 109ms\tremaining: 101ms\n",
            "104:\tlearn: 144.8780979\ttotal: 110ms\tremaining: 99.6ms\n",
            "105:\tlearn: 143.8090268\ttotal: 111ms\tremaining: 98.5ms\n",
            "106:\tlearn: 143.1272551\ttotal: 112ms\tremaining: 97.4ms\n",
            "107:\tlearn: 142.4863018\ttotal: 113ms\tremaining: 96.2ms\n",
            "108:\tlearn: 141.4861279\ttotal: 114ms\tremaining: 95.1ms\n",
            "109:\tlearn: 140.8689530\ttotal: 115ms\tremaining: 93.9ms\n",
            "110:\tlearn: 140.4009570\ttotal: 116ms\tremaining: 92.8ms\n",
            "111:\tlearn: 140.0344439\ttotal: 117ms\tremaining: 91.7ms\n",
            "112:\tlearn: 139.4290096\ttotal: 118ms\tremaining: 90.5ms\n",
            "113:\tlearn: 139.2008874\ttotal: 118ms\tremaining: 89.4ms\n",
            "114:\tlearn: 138.6000188\ttotal: 119ms\tremaining: 88.2ms\n",
            "115:\tlearn: 138.3962706\ttotal: 120ms\tremaining: 87.1ms\n",
            "116:\tlearn: 138.1737256\ttotal: 121ms\tremaining: 85.9ms\n",
            "117:\tlearn: 137.6342361\ttotal: 122ms\tremaining: 84.8ms\n",
            "118:\tlearn: 136.7119826\ttotal: 123ms\tremaining: 83.7ms\n",
            "119:\tlearn: 135.3057402\ttotal: 124ms\tremaining: 82.6ms\n",
            "120:\tlearn: 134.4797815\ttotal: 125ms\tremaining: 81.4ms\n",
            "121:\tlearn: 133.0774331\ttotal: 126ms\tremaining: 80.3ms\n",
            "122:\tlearn: 131.8739238\ttotal: 127ms\tremaining: 79.2ms\n",
            "123:\tlearn: 131.3203837\ttotal: 127ms\tremaining: 78.1ms\n",
            "124:\tlearn: 130.8294604\ttotal: 128ms\tremaining: 77.1ms\n",
            "125:\tlearn: 130.6107905\ttotal: 129ms\tremaining: 76ms\n",
            "126:\tlearn: 130.1614924\ttotal: 131ms\tremaining: 75ms\n",
            "127:\tlearn: 129.3166972\ttotal: 131ms\tremaining: 73.9ms\n",
            "128:\tlearn: 129.1038672\ttotal: 132ms\tremaining: 72.9ms\n",
            "129:\tlearn: 128.9594874\ttotal: 134ms\tremaining: 71.9ms\n",
            "130:\tlearn: 128.1849638\ttotal: 135ms\tremaining: 70.9ms\n",
            "131:\tlearn: 128.0307033\ttotal: 136ms\tremaining: 70ms\n",
            "132:\tlearn: 127.3373882\ttotal: 137ms\tremaining: 68.9ms\n",
            "133:\tlearn: 126.2856989\ttotal: 138ms\tremaining: 67.9ms\n",
            "134:\tlearn: 126.1379832\ttotal: 139ms\tremaining: 66.9ms\n",
            "135:\tlearn: 126.0180019\ttotal: 140ms\tremaining: 65.8ms\n",
            "136:\tlearn: 125.8843963\ttotal: 141ms\tremaining: 64.7ms\n",
            "137:\tlearn: 125.7576333\ttotal: 142ms\tremaining: 63.7ms\n",
            "138:\tlearn: 125.4794581\ttotal: 143ms\tremaining: 62.6ms\n",
            "139:\tlearn: 124.7920270\ttotal: 144ms\tremaining: 61.6ms\n",
            "140:\tlearn: 124.6530278\ttotal: 145ms\tremaining: 60.5ms\n",
            "141:\tlearn: 123.4539010\ttotal: 145ms\tremaining: 59.4ms\n",
            "142:\tlearn: 122.8980001\ttotal: 146ms\tremaining: 58.4ms\n",
            "143:\tlearn: 122.0911177\ttotal: 147ms\tremaining: 57.3ms\n",
            "144:\tlearn: 121.1209154\ttotal: 148ms\tremaining: 56.2ms\n",
            "145:\tlearn: 120.1613553\ttotal: 149ms\tremaining: 55.2ms\n",
            "146:\tlearn: 119.1894727\ttotal: 150ms\tremaining: 54.1ms\n",
            "147:\tlearn: 118.0325732\ttotal: 151ms\tremaining: 53ms\n",
            "148:\tlearn: 117.9138240\ttotal: 152ms\tremaining: 52ms\n",
            "149:\tlearn: 117.3831462\ttotal: 153ms\tremaining: 50.9ms\n",
            "150:\tlearn: 116.8475244\ttotal: 154ms\tremaining: 49.9ms\n",
            "151:\tlearn: 116.3821954\ttotal: 156ms\tremaining: 49.1ms\n",
            "152:\tlearn: 115.5293176\ttotal: 157ms\tremaining: 48.1ms\n",
            "153:\tlearn: 115.0975175\ttotal: 158ms\tremaining: 47.2ms\n",
            "154:\tlearn: 114.0649594\ttotal: 159ms\tremaining: 46.1ms\n",
            "155:\tlearn: 113.2562326\ttotal: 160ms\tremaining: 45.1ms\n",
            "156:\tlearn: 112.7557871\ttotal: 161ms\tremaining: 44.1ms\n",
            "157:\tlearn: 112.5657565\ttotal: 162ms\tremaining: 43ms\n",
            "158:\tlearn: 112.3541525\ttotal: 163ms\tremaining: 42ms\n",
            "159:\tlearn: 111.8527982\ttotal: 164ms\tremaining: 40.9ms\n",
            "160:\tlearn: 111.1619644\ttotal: 165ms\tremaining: 39.9ms\n",
            "161:\tlearn: 110.3588257\ttotal: 166ms\tremaining: 38.9ms\n",
            "162:\tlearn: 109.6664293\ttotal: 167ms\tremaining: 37.9ms\n",
            "163:\tlearn: 109.5577303\ttotal: 168ms\tremaining: 36.8ms\n",
            "164:\tlearn: 109.0570285\ttotal: 169ms\tremaining: 35.8ms\n",
            "165:\tlearn: 108.7601467\ttotal: 170ms\tremaining: 34.7ms\n",
            "166:\tlearn: 108.0448620\ttotal: 171ms\tremaining: 33.7ms\n",
            "167:\tlearn: 107.5593372\ttotal: 172ms\tremaining: 32.7ms\n",
            "168:\tlearn: 106.3862999\ttotal: 173ms\tremaining: 31.7ms\n",
            "169:\tlearn: 106.2180807\ttotal: 174ms\tremaining: 30.6ms\n",
            "170:\tlearn: 106.0695603\ttotal: 175ms\tremaining: 29.6ms\n",
            "171:\tlearn: 105.6940213\ttotal: 176ms\tremaining: 28.6ms\n",
            "172:\tlearn: 104.7598987\ttotal: 176ms\tremaining: 27.5ms\n",
            "173:\tlearn: 104.6589992\ttotal: 177ms\tremaining: 26.5ms\n",
            "174:\tlearn: 103.7203657\ttotal: 178ms\tremaining: 25.5ms\n",
            "175:\tlearn: 103.2660987\ttotal: 181ms\tremaining: 24.6ms\n",
            "176:\tlearn: 103.0926213\ttotal: 183ms\tremaining: 23.7ms\n",
            "177:\tlearn: 102.6925209\ttotal: 185ms\tremaining: 22.8ms\n",
            "178:\tlearn: 102.1655154\ttotal: 188ms\tremaining: 22.1ms\n",
            "179:\tlearn: 101.8273108\ttotal: 189ms\tremaining: 21ms\n",
            "180:\tlearn: 101.7264515\ttotal: 190ms\tremaining: 20ms\n",
            "181:\tlearn: 101.1102333\ttotal: 191ms\tremaining: 18.9ms\n",
            "182:\tlearn: 100.7880364\ttotal: 192ms\tremaining: 17.8ms\n",
            "183:\tlearn: 100.6673014\ttotal: 193ms\tremaining: 16.8ms\n",
            "184:\tlearn: 100.0153055\ttotal: 194ms\tremaining: 15.7ms\n",
            "185:\tlearn: 99.7667281\ttotal: 195ms\tremaining: 14.6ms\n",
            "186:\tlearn: 99.1860593\ttotal: 196ms\tremaining: 13.6ms\n",
            "187:\tlearn: 99.0408133\ttotal: 196ms\tremaining: 12.5ms\n",
            "188:\tlearn: 98.9030718\ttotal: 197ms\tremaining: 11.5ms\n",
            "189:\tlearn: 97.4513860\ttotal: 198ms\tremaining: 10.4ms\n",
            "190:\tlearn: 97.3322959\ttotal: 199ms\tremaining: 9.39ms\n",
            "191:\tlearn: 97.1950848\ttotal: 200ms\tremaining: 8.34ms\n",
            "192:\tlearn: 96.6789532\ttotal: 201ms\tremaining: 7.29ms\n",
            "193:\tlearn: 96.5506179\ttotal: 203ms\tremaining: 6.26ms\n",
            "194:\tlearn: 95.6635039\ttotal: 205ms\tremaining: 5.25ms\n",
            "195:\tlearn: 94.8850777\ttotal: 206ms\tremaining: 4.2ms\n",
            "196:\tlearn: 94.1624589\ttotal: 207ms\tremaining: 3.15ms\n",
            "197:\tlearn: 93.8220662\ttotal: 208ms\tremaining: 2.1ms\n",
            "198:\tlearn: 93.7300351\ttotal: 210ms\tremaining: 1.06ms\n",
            "199:\tlearn: 93.3339522\ttotal: 211ms\tremaining: 0us\n"
          ]
        }
      ]
    },
    {
      "cell_type": "code",
      "source": [
        "y_pred = catb_tuned.predict(X_test)\n",
        "np.sqrt(mean_squared_error(y_test,y_pred))"
      ],
      "metadata": {
        "colab": {
          "base_uri": "https://localhost:8080/"
        },
        "id": "aXfVrc1Fc_II",
        "outputId": "cd24c163-75b8-4832-a941-0219dfa52ada"
      },
      "execution_count": 190,
      "outputs": [
        {
          "output_type": "execute_result",
          "data": {
            "text/plain": [
              "344.3125832615482"
            ]
          },
          "metadata": {},
          "execution_count": 190
        }
      ]
    },
    {
      "cell_type": "code",
      "source": [
        "df = pd.read_csv(\"Hitters.csv\")\n",
        "df = df.dropna()\n",
        "dms = pd.get_dummies(df[[\"League\",\"Division\",\"NewLeague\"]])"
      ],
      "metadata": {
        "id": "zU2h6U6weCDn"
      },
      "execution_count": 191,
      "outputs": []
    },
    {
      "cell_type": "code",
      "source": [
        "def compML(df, y, alg):\n",
        "    \n",
        "    y = df[y]\n",
        "    X_ = df.drop([\"Salary\",\"League\",\"Division\",\"NewLeague\"],axis=1).astype(\"float64\")\n",
        "    X = pd.concat([X_,dms[[\"League_N\",\"Division_W\",\"NewLeague_N\"]]],axis=1)\n",
        "    X_train,X_test,y_train,y_test = train_test_split(X,y,test_size=0.25,random_state=42)\n",
        "    \n",
        "    # Modelleme\n",
        "    model = alg().fit(X_train,y_train)\n",
        "    y_pred = model.predict(X_test)\n",
        "    RMSE = np.sqrt(mean_squared_error(y_test,y_pred))\n",
        "    model_ismi = alg.__name__\n",
        "    print(model_ismi,'Modeli Test Hatası:', RMSE)\n",
        "    return RMSE"
      ],
      "metadata": {
        "id": "3wz8AkxjeQxD"
      },
      "execution_count": 192,
      "outputs": []
    },
    {
      "cell_type": "code",
      "source": [
        "compML(df, \"Salary\", SVR)"
      ],
      "metadata": {
        "colab": {
          "base_uri": "https://localhost:8080/"
        },
        "id": "vkmRFeSHfLnh",
        "outputId": "c5df9363-931c-4e73-f10b-484880dc11ea"
      },
      "execution_count": 193,
      "outputs": [
        {
          "output_type": "stream",
          "name": "stdout",
          "text": [
            "SVR Modeli Test Hatası: 460.0032657244849\n"
          ]
        },
        {
          "output_type": "execute_result",
          "data": {
            "text/plain": [
              "460.0032657244849"
            ]
          },
          "metadata": {},
          "execution_count": 193
        }
      ]
    },
    {
      "cell_type": "code",
      "source": [
        "models = [LGBMRegressor,\n",
        "          XGBRegressor,\n",
        "          GradientBoostingRegressor,\n",
        "          RandomForestRegressor,\n",
        "          DecisionTreeRegressor,\n",
        "          MLPRegressor,\n",
        "          KNeighborsRegressor,\n",
        "          SVR]"
      ],
      "metadata": {
        "id": "Sv08cUhkfP_N"
      },
      "execution_count": 194,
      "outputs": []
    },
    {
      "cell_type": "code",
      "source": [
        "for i in models:\n",
        "    compML(df, \"Salary\",i)"
      ],
      "metadata": {
        "colab": {
          "base_uri": "https://localhost:8080/"
        },
        "id": "nmRlU_pSfU-e",
        "outputId": "fcb80432-b5d9-48ce-bfd9-b2b584538cf1"
      },
      "execution_count": 195,
      "outputs": [
        {
          "output_type": "stream",
          "name": "stdout",
          "text": [
            "LGBMRegressor Modeli Test Hatası: 363.8712087611089\n",
            "[18:38:29] WARNING: /workspace/src/objective/regression_obj.cu:152: reg:linear is now deprecated in favor of reg:squarederror.\n",
            "XGBRegressor Modeli Test Hatası: 359.91750599447033\n",
            "GradientBoostingRegressor Modeli Test Hatası: 346.074148692425\n",
            "RandomForestRegressor Modeli Test Hatası: 336.58403023359773\n",
            "DecisionTreeRegressor Modeli Test Hatası: 537.6606852329794\n",
            "MLPRegressor Modeli Test Hatası: 369.6355416060131\n",
            "KNeighborsRegressor Modeli Test Hatası: 426.6570764525201\n",
            "SVR Modeli Test Hatası: 460.0032657244849\n"
          ]
        }
      ]
    }
  ]
}